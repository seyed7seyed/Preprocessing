{
 "cells": [
  {
   "cell_type": "markdown",
   "id": "7051d515",
   "metadata": {},
   "source": [
    "#####   \n",
    "# Encoding"
   ]
  },
  {
   "cell_type": "markdown",
   "id": "5e39f2b4",
   "metadata": {},
   "source": [
    "#####   \n",
    "## Importing Libraries"
   ]
  },
  {
   "cell_type": "code",
   "execution_count": 1,
   "id": "6da9f04c",
   "metadata": {},
   "outputs": [],
   "source": [
    "import numpy  as np\n",
    "import pandas as pd\n",
    "import pickle"
   ]
  },
  {
   "cell_type": "markdown",
   "id": "7bc0907c",
   "metadata": {},
   "source": [
    "#####   \n",
    "## DataFrame"
   ]
  },
  {
   "cell_type": "code",
   "execution_count": 2,
   "id": "0b216797",
   "metadata": {
    "scrolled": true
   },
   "outputs": [
    {
     "data": {
      "text/html": [
       "<div>\n",
       "<style scoped>\n",
       "    .dataframe tbody tr th:only-of-type {\n",
       "        vertical-align: middle;\n",
       "    }\n",
       "\n",
       "    .dataframe tbody tr th {\n",
       "        vertical-align: top;\n",
       "    }\n",
       "\n",
       "    .dataframe thead th {\n",
       "        text-align: right;\n",
       "    }\n",
       "</style>\n",
       "<table border=\"1\" class=\"dataframe\">\n",
       "  <thead>\n",
       "    <tr style=\"text-align: right;\">\n",
       "      <th></th>\n",
       "      <th>S0</th>\n",
       "      <th>S1</th>\n",
       "      <th>S2</th>\n",
       "      <th>S3</th>\n",
       "      <th>S4</th>\n",
       "      <th>S5</th>\n",
       "      <th>S6</th>\n",
       "      <th>C0</th>\n",
       "      <th>C1</th>\n",
       "      <th>C2</th>\n",
       "      <th>C3</th>\n",
       "      <th>C4</th>\n",
       "      <th>C5</th>\n",
       "    </tr>\n",
       "  </thead>\n",
       "  <tbody>\n",
       "    <tr>\n",
       "      <th>0</th>\n",
       "      <td>NaN</td>\n",
       "      <td>1.0</td>\n",
       "      <td>2.0</td>\n",
       "      <td>3.0</td>\n",
       "      <td>3.0</td>\n",
       "      <td>NaN</td>\n",
       "      <td>2.0</td>\n",
       "      <td>Lime</td>\n",
       "      <td>Jazz</td>\n",
       "      <td>Y</td>\n",
       "      <td>None</td>\n",
       "      <td>Worst</td>\n",
       "      <td>Cold</td>\n",
       "    </tr>\n",
       "    <tr>\n",
       "      <th>1</th>\n",
       "      <td>NaN</td>\n",
       "      <td>1.0</td>\n",
       "      <td>2.0</td>\n",
       "      <td>3.0</td>\n",
       "      <td>3.0</td>\n",
       "      <td>NaN</td>\n",
       "      <td>2.0</td>\n",
       "      <td>Lime</td>\n",
       "      <td>Jazz</td>\n",
       "      <td>Y</td>\n",
       "      <td>None</td>\n",
       "      <td>Worst</td>\n",
       "      <td>Cold</td>\n",
       "    </tr>\n",
       "    <tr>\n",
       "      <th>2</th>\n",
       "      <td>1.1</td>\n",
       "      <td>NaN</td>\n",
       "      <td>1.0</td>\n",
       "      <td>5.0</td>\n",
       "      <td>4.0</td>\n",
       "      <td>3.0</td>\n",
       "      <td>NaN</td>\n",
       "      <td>Cyan</td>\n",
       "      <td>Rock</td>\n",
       "      <td>N</td>\n",
       "      <td>F</td>\n",
       "      <td>None</td>\n",
       "      <td>Cool</td>\n",
       "    </tr>\n",
       "    <tr>\n",
       "      <th>3</th>\n",
       "      <td>2.4</td>\n",
       "      <td>NaN</td>\n",
       "      <td>1.0</td>\n",
       "      <td>4.0</td>\n",
       "      <td>1.0</td>\n",
       "      <td>2.0</td>\n",
       "      <td>NaN</td>\n",
       "      <td>Blue</td>\n",
       "      <td>Pop</td>\n",
       "      <td>Y</td>\n",
       "      <td>F</td>\n",
       "      <td>None</td>\n",
       "      <td>Warm</td>\n",
       "    </tr>\n",
       "    <tr>\n",
       "      <th>4</th>\n",
       "      <td>22.5</td>\n",
       "      <td>1.0</td>\n",
       "      <td>NaN</td>\n",
       "      <td>1.0</td>\n",
       "      <td>5.0</td>\n",
       "      <td>3.0</td>\n",
       "      <td>1.0</td>\n",
       "      <td>None</td>\n",
       "      <td>Jazz</td>\n",
       "      <td>N</td>\n",
       "      <td>M</td>\n",
       "      <td>Good</td>\n",
       "      <td>None</td>\n",
       "    </tr>\n",
       "    <tr>\n",
       "      <th>5</th>\n",
       "      <td>2.5</td>\n",
       "      <td>2.0</td>\n",
       "      <td>NaN</td>\n",
       "      <td>5.0</td>\n",
       "      <td>1.0</td>\n",
       "      <td>3.0</td>\n",
       "      <td>2.0</td>\n",
       "      <td>None</td>\n",
       "      <td>Rock</td>\n",
       "      <td>N</td>\n",
       "      <td>M</td>\n",
       "      <td>Bad</td>\n",
       "      <td>None</td>\n",
       "    </tr>\n",
       "    <tr>\n",
       "      <th>6</th>\n",
       "      <td>0.5</td>\n",
       "      <td>1.0</td>\n",
       "      <td>1.0</td>\n",
       "      <td>NaN</td>\n",
       "      <td>4.0</td>\n",
       "      <td>3.0</td>\n",
       "      <td>3.0</td>\n",
       "      <td>Red</td>\n",
       "      <td>None</td>\n",
       "      <td>Y</td>\n",
       "      <td>F</td>\n",
       "      <td>Good</td>\n",
       "      <td>Hot</td>\n",
       "    </tr>\n",
       "    <tr>\n",
       "      <th>7</th>\n",
       "      <td>0.7</td>\n",
       "      <td>2.0</td>\n",
       "      <td>1.0</td>\n",
       "      <td>NaN</td>\n",
       "      <td>2.0</td>\n",
       "      <td>1.0</td>\n",
       "      <td>3.0</td>\n",
       "      <td>Red</td>\n",
       "      <td>None</td>\n",
       "      <td>Y</td>\n",
       "      <td>M</td>\n",
       "      <td>Good</td>\n",
       "      <td>Hot</td>\n",
       "    </tr>\n",
       "    <tr>\n",
       "      <th>8</th>\n",
       "      <td>0.9</td>\n",
       "      <td>2.0</td>\n",
       "      <td>2.0</td>\n",
       "      <td>2.0</td>\n",
       "      <td>NaN</td>\n",
       "      <td>2.0</td>\n",
       "      <td>1.0</td>\n",
       "      <td>Blue</td>\n",
       "      <td>Pop</td>\n",
       "      <td>None</td>\n",
       "      <td>F</td>\n",
       "      <td>Bad</td>\n",
       "      <td>Warm</td>\n",
       "    </tr>\n",
       "    <tr>\n",
       "      <th>9</th>\n",
       "      <td>1.8</td>\n",
       "      <td>1.0</td>\n",
       "      <td>1.0</td>\n",
       "      <td>2.0</td>\n",
       "      <td>NaN</td>\n",
       "      <td>1.0</td>\n",
       "      <td>2.0</td>\n",
       "      <td>Pink</td>\n",
       "      <td>Jazz</td>\n",
       "      <td>None</td>\n",
       "      <td>F</td>\n",
       "      <td>Exlnt</td>\n",
       "      <td>Cold</td>\n",
       "    </tr>\n",
       "  </tbody>\n",
       "</table>\n",
       "</div>"
      ],
      "text/plain": [
       "     S0   S1   S2   S3   S4   S5   S6    C0    C1    C2    C3     C4    C5\n",
       "0   NaN  1.0  2.0  3.0  3.0  NaN  2.0  Lime  Jazz     Y  None  Worst  Cold\n",
       "1   NaN  1.0  2.0  3.0  3.0  NaN  2.0  Lime  Jazz     Y  None  Worst  Cold\n",
       "2   1.1  NaN  1.0  5.0  4.0  3.0  NaN  Cyan  Rock     N     F   None  Cool\n",
       "3   2.4  NaN  1.0  4.0  1.0  2.0  NaN  Blue   Pop     Y     F   None  Warm\n",
       "4  22.5  1.0  NaN  1.0  5.0  3.0  1.0  None  Jazz     N     M   Good  None\n",
       "5   2.5  2.0  NaN  5.0  1.0  3.0  2.0  None  Rock     N     M    Bad  None\n",
       "6   0.5  1.0  1.0  NaN  4.0  3.0  3.0   Red  None     Y     F   Good   Hot\n",
       "7   0.7  2.0  1.0  NaN  2.0  1.0  3.0   Red  None     Y     M   Good   Hot\n",
       "8   0.9  2.0  2.0  2.0  NaN  2.0  1.0  Blue   Pop  None     F    Bad  Warm\n",
       "9   1.8  1.0  1.0  2.0  NaN  1.0  2.0  Pink  Jazz  None     F  Exlnt  Cold"
      ]
     },
     "execution_count": 2,
     "metadata": {},
     "output_type": "execute_result"
    }
   ],
   "source": [
    "S0 = [ None, None,  1.1,  2.4, 22.5,  2.5,  0.5,  0.7,  0.9,  1.8 ]  # SS\n",
    "\n",
    "S1 = [  1  ,  1  , None, None,  1  ,  2  ,  1  ,  2  ,  2  ,  1   ]  # Binary_S  #1  \n",
    "S2 = [  2  ,  2  ,  1  ,  1  , None, None,  1  ,  1  ,  2  ,  1   ]  # Binary_S  #2\n",
    "\n",
    "S3 = [  3  ,  3  ,  5  ,  4  ,  1  ,  5  , None, None,  2  ,  2   ]  # Ordinal_S #1\n",
    "S4 = [  3  ,  3  ,  4  ,  1  ,  5  ,  1  ,  4  ,  2  , None, None ]  # Ordinal_S #2\n",
    "\n",
    "S5 = [ None, None,  3  ,  2  ,  3  ,  3  ,  3  ,  1  ,  2  ,  1   ]  # Nominal_S #1\n",
    "S6 = [  2  ,  2  , None, None,  1  ,  2  ,  3  ,  3  ,  1  ,  2   ]  # Nominal_S #2 \n",
    "\n",
    "C0 = [ 'Lime' , 'Lime' , 'Cyan', 'Blue',  None ,  None , 'Red' , 'Red' , 'Blue', 'Pink'  ]  # Nominal_C  #1\n",
    "C1 = [ 'Jazz' , 'Jazz' , 'Rock', 'Pop' , 'Jazz', 'Rock',  None ,  None , 'Pop' , 'Jazz'  ]  # Nominal_C  #2\n",
    "C2 = [   'Y'  ,   'Y'  ,   'N' ,   'Y' ,   'N' ,  'N'  ,  'Y'  ,   'Y' ,  None ,  None   ]  # Binary_C   #1\n",
    "C3 = [  None  ,  None  ,   'F' ,   'F' ,   'M' ,  'M'  ,  'F'  ,   'M' ,   'F' ,   'F'   ]  # Binary_C   #2\n",
    "C4 = [ 'Worst', 'Worst',  None ,  None , 'Good', 'Bad' , 'Good', 'Good', 'Bad' , 'Exlnt' ]  # Ordinal_C  #1\n",
    "C5 = [ 'Cold' , 'Cold' , 'Cool', 'Warm',  None ,  None , 'Hot' , 'Hot' , 'Warm', 'Cold'  ]  # Ordinal_C  #2 \n",
    "\n",
    "df = pd.DataFrame()\n",
    "df['S0'] = S0\n",
    "df['S1'] = S1\n",
    "df['S2'] = S2\n",
    "df['S3'] = S3\n",
    "df['S4'] = S4\n",
    "df['S5'] = S5\n",
    "df['S6'] = S6\n",
    "df['C0'] = C0\n",
    "df['C1'] = C1\n",
    "df['C2'] = C2\n",
    "df['C3'] = C3\n",
    "df['C4'] = C4\n",
    "df['C5'] = C5\n",
    "\n",
    "df.head(10)"
   ]
  },
  {
   "cell_type": "code",
   "execution_count": 3,
   "id": "8a66305b",
   "metadata": {},
   "outputs": [
    {
     "data": {
      "text/plain": [
       "S0    float64\n",
       "S1    float64\n",
       "S2    float64\n",
       "S3    float64\n",
       "S4    float64\n",
       "S5    float64\n",
       "S6    float64\n",
       "C0     object\n",
       "C1     object\n",
       "C2     object\n",
       "C3     object\n",
       "C4     object\n",
       "C5     object\n",
       "dtype: object"
      ]
     },
     "execution_count": 3,
     "metadata": {},
     "output_type": "execute_result"
    }
   ],
   "source": [
    "df.dtypes"
   ]
  },
  {
   "cell_type": "markdown",
   "id": "f6104e1c",
   "metadata": {},
   "source": [
    "#####   \n",
    "## Separating Scalar & Categorical Columns"
   ]
  },
  {
   "cell_type": "code",
   "execution_count": 4,
   "id": "f2ca166b",
   "metadata": {
    "scrolled": true
   },
   "outputs": [],
   "source": [
    "Ss, Cs = [], []\n",
    "for col in df.columns:\n",
    "    if df[col].dtype == 'object':\n",
    "        Cs.append(col)\n",
    "    else:\n",
    "        Ss.append(col)"
   ]
  },
  {
   "cell_type": "markdown",
   "id": "49dffba6",
   "metadata": {},
   "source": [
    "### Scalars"
   ]
  },
  {
   "cell_type": "code",
   "execution_count": 5,
   "id": "c5ad4fde",
   "metadata": {},
   "outputs": [
    {
     "data": {
      "text/html": [
       "<div>\n",
       "<style scoped>\n",
       "    .dataframe tbody tr th:only-of-type {\n",
       "        vertical-align: middle;\n",
       "    }\n",
       "\n",
       "    .dataframe tbody tr th {\n",
       "        vertical-align: top;\n",
       "    }\n",
       "\n",
       "    .dataframe thead th {\n",
       "        text-align: right;\n",
       "    }\n",
       "</style>\n",
       "<table border=\"1\" class=\"dataframe\">\n",
       "  <thead>\n",
       "    <tr style=\"text-align: right;\">\n",
       "      <th></th>\n",
       "      <th>S0</th>\n",
       "      <th>S1</th>\n",
       "      <th>S2</th>\n",
       "      <th>S3</th>\n",
       "      <th>S4</th>\n",
       "      <th>S5</th>\n",
       "      <th>S6</th>\n",
       "    </tr>\n",
       "  </thead>\n",
       "  <tbody>\n",
       "    <tr>\n",
       "      <th>0</th>\n",
       "      <td>NaN</td>\n",
       "      <td>1.0</td>\n",
       "      <td>2.0</td>\n",
       "      <td>3.0</td>\n",
       "      <td>3.0</td>\n",
       "      <td>NaN</td>\n",
       "      <td>2.0</td>\n",
       "    </tr>\n",
       "    <tr>\n",
       "      <th>1</th>\n",
       "      <td>NaN</td>\n",
       "      <td>1.0</td>\n",
       "      <td>2.0</td>\n",
       "      <td>3.0</td>\n",
       "      <td>3.0</td>\n",
       "      <td>NaN</td>\n",
       "      <td>2.0</td>\n",
       "    </tr>\n",
       "    <tr>\n",
       "      <th>2</th>\n",
       "      <td>1.1</td>\n",
       "      <td>NaN</td>\n",
       "      <td>1.0</td>\n",
       "      <td>5.0</td>\n",
       "      <td>4.0</td>\n",
       "      <td>3.0</td>\n",
       "      <td>NaN</td>\n",
       "    </tr>\n",
       "  </tbody>\n",
       "</table>\n",
       "</div>"
      ],
      "text/plain": [
       "    S0   S1   S2   S3   S4   S5   S6\n",
       "0  NaN  1.0  2.0  3.0  3.0  NaN  2.0\n",
       "1  NaN  1.0  2.0  3.0  3.0  NaN  2.0\n",
       "2  1.1  NaN  1.0  5.0  4.0  3.0  NaN"
      ]
     },
     "execution_count": 5,
     "metadata": {},
     "output_type": "execute_result"
    }
   ],
   "source": [
    "df[Ss].head(3)"
   ]
  },
  {
   "cell_type": "markdown",
   "id": "6ae73ede",
   "metadata": {},
   "source": [
    "### Cats"
   ]
  },
  {
   "cell_type": "code",
   "execution_count": 6,
   "id": "2c05f202",
   "metadata": {},
   "outputs": [
    {
     "data": {
      "text/html": [
       "<div>\n",
       "<style scoped>\n",
       "    .dataframe tbody tr th:only-of-type {\n",
       "        vertical-align: middle;\n",
       "    }\n",
       "\n",
       "    .dataframe tbody tr th {\n",
       "        vertical-align: top;\n",
       "    }\n",
       "\n",
       "    .dataframe thead th {\n",
       "        text-align: right;\n",
       "    }\n",
       "</style>\n",
       "<table border=\"1\" class=\"dataframe\">\n",
       "  <thead>\n",
       "    <tr style=\"text-align: right;\">\n",
       "      <th></th>\n",
       "      <th>C0</th>\n",
       "      <th>C1</th>\n",
       "      <th>C2</th>\n",
       "      <th>C3</th>\n",
       "      <th>C4</th>\n",
       "      <th>C5</th>\n",
       "    </tr>\n",
       "  </thead>\n",
       "  <tbody>\n",
       "    <tr>\n",
       "      <th>0</th>\n",
       "      <td>Lime</td>\n",
       "      <td>Jazz</td>\n",
       "      <td>Y</td>\n",
       "      <td>None</td>\n",
       "      <td>Worst</td>\n",
       "      <td>Cold</td>\n",
       "    </tr>\n",
       "    <tr>\n",
       "      <th>1</th>\n",
       "      <td>Lime</td>\n",
       "      <td>Jazz</td>\n",
       "      <td>Y</td>\n",
       "      <td>None</td>\n",
       "      <td>Worst</td>\n",
       "      <td>Cold</td>\n",
       "    </tr>\n",
       "    <tr>\n",
       "      <th>2</th>\n",
       "      <td>Cyan</td>\n",
       "      <td>Rock</td>\n",
       "      <td>N</td>\n",
       "      <td>F</td>\n",
       "      <td>None</td>\n",
       "      <td>Cool</td>\n",
       "    </tr>\n",
       "  </tbody>\n",
       "</table>\n",
       "</div>"
      ],
      "text/plain": [
       "     C0    C1 C2    C3     C4    C5\n",
       "0  Lime  Jazz  Y  None  Worst  Cold\n",
       "1  Lime  Jazz  Y  None  Worst  Cold\n",
       "2  Cyan  Rock  N     F   None  Cool"
      ]
     },
     "execution_count": 6,
     "metadata": {},
     "output_type": "execute_result"
    }
   ],
   "source": [
    "df[Cs].head(3)"
   ]
  },
  {
   "cell_type": "markdown",
   "id": "6fc41114",
   "metadata": {},
   "source": [
    "## Handling Cat (Nominal) Scalars"
   ]
  },
  {
   "cell_type": "code",
   "execution_count": 7,
   "id": "2547794d",
   "metadata": {
    "scrolled": true
   },
   "outputs": [
    {
     "name": "stdout",
     "output_type": "stream",
     "text": [
      "0 S0 {0.5, nan, 2.4, 2.5, 1.1, 0.7, 0.9, 1.8, 22.5}\n",
      "1 S1 {1.0, 2.0, nan}\n",
      "2 S2 {1.0, 2.0, nan}\n",
      "3 S3 {1.0, 2.0, 3.0, 4.0, 5.0, nan}\n",
      "4 S4 {1.0, 2.0, 3.0, 4.0, 5.0, nan}\n",
      "5 S5 {3.0, 1.0, 2.0, nan}\n",
      "6 S6 {nan, 2.0, 3.0, 1.0}\n"
     ]
    }
   ],
   "source": [
    "for i in range(len(Ss)):   # range(5,10)  # range(len(Ss))\n",
    "    \n",
    "    ft      = Ss[ i ]\n",
    "    Uniques = set( df[ft].unique() )\n",
    "    \n",
    "    if 2<len(Uniques) and len(Uniques)<35:\n",
    "        print( i, ft, Uniques ) "
   ]
  },
  {
   "cell_type": "code",
   "execution_count": 8,
   "id": "f8ffdc56",
   "metadata": {
    "scrolled": true
   },
   "outputs": [
    {
     "name": "stdout",
     "output_type": "stream",
     "text": [
      "S5 [nan 'C3' 'C2' 'C1']\n",
      "S6 ['C2' nan 'C1' 'C3']\n"
     ]
    }
   ],
   "source": [
    "# input \n",
    "index_of_cat_scalars = [5,6]\n",
    "\n",
    "# auto\n",
    "Nominal_Cats = []\n",
    "for i in index_of_cat_scalars:\n",
    "    ft = Ss[i]\n",
    "    Nominal_Cats.append(ft)\n",
    "    if df[ft].dtype != 'object':\n",
    "        Uniques = set( df[ft].dropna().unique() )\n",
    "        for n in Uniques:\n",
    "            df[ft] = df[ft].replace(n,'C'+str(int(n)))\n",
    "    print( ft, df[ft].unique() )"
   ]
  },
  {
   "cell_type": "code",
   "execution_count": 9,
   "id": "d91cc248",
   "metadata": {},
   "outputs": [
    {
     "data": {
      "text/html": [
       "<div>\n",
       "<style scoped>\n",
       "    .dataframe tbody tr th:only-of-type {\n",
       "        vertical-align: middle;\n",
       "    }\n",
       "\n",
       "    .dataframe tbody tr th {\n",
       "        vertical-align: top;\n",
       "    }\n",
       "\n",
       "    .dataframe thead th {\n",
       "        text-align: right;\n",
       "    }\n",
       "</style>\n",
       "<table border=\"1\" class=\"dataframe\">\n",
       "  <thead>\n",
       "    <tr style=\"text-align: right;\">\n",
       "      <th></th>\n",
       "      <th>S5</th>\n",
       "      <th>S6</th>\n",
       "    </tr>\n",
       "  </thead>\n",
       "  <tbody>\n",
       "    <tr>\n",
       "      <th>0</th>\n",
       "      <td>NaN</td>\n",
       "      <td>C2</td>\n",
       "    </tr>\n",
       "    <tr>\n",
       "      <th>1</th>\n",
       "      <td>NaN</td>\n",
       "      <td>C2</td>\n",
       "    </tr>\n",
       "    <tr>\n",
       "      <th>2</th>\n",
       "      <td>C3</td>\n",
       "      <td>NaN</td>\n",
       "    </tr>\n",
       "    <tr>\n",
       "      <th>3</th>\n",
       "      <td>C2</td>\n",
       "      <td>NaN</td>\n",
       "    </tr>\n",
       "    <tr>\n",
       "      <th>4</th>\n",
       "      <td>C3</td>\n",
       "      <td>C1</td>\n",
       "    </tr>\n",
       "  </tbody>\n",
       "</table>\n",
       "</div>"
      ],
      "text/plain": [
       "    S5   S6\n",
       "0  NaN   C2\n",
       "1  NaN   C2\n",
       "2   C3  NaN\n",
       "3   C2  NaN\n",
       "4   C3   C1"
      ]
     },
     "execution_count": 9,
     "metadata": {},
     "output_type": "execute_result"
    }
   ],
   "source": [
    "# Checking\n",
    "df[Nominal_Cats].head()"
   ]
  },
  {
   "cell_type": "markdown",
   "id": "a74dd50b",
   "metadata": {},
   "source": [
    "## Handling Binary Cats"
   ]
  },
  {
   "cell_type": "code",
   "execution_count": 10,
   "id": "d33a76bf",
   "metadata": {},
   "outputs": [
    {
     "name": "stdout",
     "output_type": "stream",
     "text": [
      "C0 ['Blue', 'Cyan', 'Lime', 'Pink', 'Red']\n",
      "C1 ['Jazz', 'Pop', 'Rock']\n",
      "C2 ['N', 'Y']\n",
      "C3 ['F', 'M']\n",
      "C4 ['Bad', 'Exlnt', 'Good', 'Worst']\n",
      "C5 ['Cold', 'Cool', 'Hot', 'Warm']\n"
     ]
    },
    {
     "data": {
      "text/html": [
       "<div>\n",
       "<style scoped>\n",
       "    .dataframe tbody tr th:only-of-type {\n",
       "        vertical-align: middle;\n",
       "    }\n",
       "\n",
       "    .dataframe tbody tr th {\n",
       "        vertical-align: top;\n",
       "    }\n",
       "\n",
       "    .dataframe thead th {\n",
       "        text-align: right;\n",
       "    }\n",
       "</style>\n",
       "<table border=\"1\" class=\"dataframe\">\n",
       "  <thead>\n",
       "    <tr style=\"text-align: right;\">\n",
       "      <th></th>\n",
       "      <th>Binary_Cat</th>\n",
       "      <th>Dict</th>\n",
       "    </tr>\n",
       "  </thead>\n",
       "  <tbody>\n",
       "    <tr>\n",
       "      <th>0</th>\n",
       "      <td>C2</td>\n",
       "      <td>{0: 'N', 1: 'Y'}</td>\n",
       "    </tr>\n",
       "    <tr>\n",
       "      <th>1</th>\n",
       "      <td>C3</td>\n",
       "      <td>{0: 'F', 1: 'M'}</td>\n",
       "    </tr>\n",
       "  </tbody>\n",
       "</table>\n",
       "</div>"
      ],
      "text/plain": [
       "  Binary_Cat              Dict\n",
       "0         C2  {0: 'N', 1: 'Y'}\n",
       "1         C3  {0: 'F', 1: 'M'}"
      ]
     },
     "execution_count": 10,
     "metadata": {},
     "output_type": "execute_result"
    }
   ],
   "source": [
    "Dicts = [] \n",
    "\n",
    "Binary_Cats = []\n",
    "for ft in Cs: \n",
    "    \n",
    "    U = list(set( df[ft].dropna().unique() )) \n",
    "    U.sort(reverse=False)\n",
    "    print(ft, U) \n",
    "    \n",
    "    if len(U) == 2:\n",
    "        \n",
    "        Binary_Cats.append( ft )\n",
    "        \n",
    "        if df[ft].dtype == 'object':  \n",
    "            \n",
    "            df[ft] = df[ft].replace( U[0], 0 ).replace( U[1], 1 )\n",
    "            \n",
    "            D = dict()\n",
    "            D[0], D[1] = U[0], U[1] \n",
    "            \n",
    "            Dicts.append([ft,D])\n",
    "            \n",
    "if len(Dicts)>0: \n",
    "    Binary_Dicts = pd.DataFrame( Dicts )\n",
    "    Binary_Dicts.columns = ['Binary_Cat','Dict']\n",
    "    \n",
    "pickle.dump( Binary_Dicts,  open('Binary_Dicts','wb') )  # save\n",
    "Binary_Dicts = pickle.load( open('Binary_Dicts','rb') )  # load\n",
    "Binary_Dicts"
   ]
  },
  {
   "cell_type": "code",
   "execution_count": 11,
   "id": "fa85b2aa",
   "metadata": {
    "scrolled": true
   },
   "outputs": [
    {
     "name": "stdout",
     "output_type": "stream",
     "text": [
      "\n",
      "Binary_Cats = ['C2', 'C3']\n"
     ]
    },
    {
     "data": {
      "text/html": [
       "<div>\n",
       "<style scoped>\n",
       "    .dataframe tbody tr th:only-of-type {\n",
       "        vertical-align: middle;\n",
       "    }\n",
       "\n",
       "    .dataframe tbody tr th {\n",
       "        vertical-align: top;\n",
       "    }\n",
       "\n",
       "    .dataframe thead th {\n",
       "        text-align: right;\n",
       "    }\n",
       "</style>\n",
       "<table border=\"1\" class=\"dataframe\">\n",
       "  <thead>\n",
       "    <tr style=\"text-align: right;\">\n",
       "      <th></th>\n",
       "      <th>S0</th>\n",
       "      <th>S1</th>\n",
       "      <th>S2</th>\n",
       "      <th>S3</th>\n",
       "      <th>S4</th>\n",
       "      <th>S5</th>\n",
       "      <th>S6</th>\n",
       "      <th>C0</th>\n",
       "      <th>C1</th>\n",
       "      <th>C2</th>\n",
       "      <th>C3</th>\n",
       "      <th>C4</th>\n",
       "      <th>C5</th>\n",
       "    </tr>\n",
       "  </thead>\n",
       "  <tbody>\n",
       "    <tr>\n",
       "      <th>0</th>\n",
       "      <td>NaN</td>\n",
       "      <td>1.0</td>\n",
       "      <td>2.0</td>\n",
       "      <td>3.0</td>\n",
       "      <td>3.0</td>\n",
       "      <td>NaN</td>\n",
       "      <td>C2</td>\n",
       "      <td>Lime</td>\n",
       "      <td>Jazz</td>\n",
       "      <td>1.0</td>\n",
       "      <td>NaN</td>\n",
       "      <td>Worst</td>\n",
       "      <td>Cold</td>\n",
       "    </tr>\n",
       "    <tr>\n",
       "      <th>1</th>\n",
       "      <td>NaN</td>\n",
       "      <td>1.0</td>\n",
       "      <td>2.0</td>\n",
       "      <td>3.0</td>\n",
       "      <td>3.0</td>\n",
       "      <td>NaN</td>\n",
       "      <td>C2</td>\n",
       "      <td>Lime</td>\n",
       "      <td>Jazz</td>\n",
       "      <td>1.0</td>\n",
       "      <td>NaN</td>\n",
       "      <td>Worst</td>\n",
       "      <td>Cold</td>\n",
       "    </tr>\n",
       "    <tr>\n",
       "      <th>2</th>\n",
       "      <td>1.1</td>\n",
       "      <td>NaN</td>\n",
       "      <td>1.0</td>\n",
       "      <td>5.0</td>\n",
       "      <td>4.0</td>\n",
       "      <td>C3</td>\n",
       "      <td>NaN</td>\n",
       "      <td>Cyan</td>\n",
       "      <td>Rock</td>\n",
       "      <td>0.0</td>\n",
       "      <td>0.0</td>\n",
       "      <td>None</td>\n",
       "      <td>Cool</td>\n",
       "    </tr>\n",
       "    <tr>\n",
       "      <th>3</th>\n",
       "      <td>2.4</td>\n",
       "      <td>NaN</td>\n",
       "      <td>1.0</td>\n",
       "      <td>4.0</td>\n",
       "      <td>1.0</td>\n",
       "      <td>C2</td>\n",
       "      <td>NaN</td>\n",
       "      <td>Blue</td>\n",
       "      <td>Pop</td>\n",
       "      <td>1.0</td>\n",
       "      <td>0.0</td>\n",
       "      <td>None</td>\n",
       "      <td>Warm</td>\n",
       "    </tr>\n",
       "    <tr>\n",
       "      <th>4</th>\n",
       "      <td>22.5</td>\n",
       "      <td>1.0</td>\n",
       "      <td>NaN</td>\n",
       "      <td>1.0</td>\n",
       "      <td>5.0</td>\n",
       "      <td>C3</td>\n",
       "      <td>C1</td>\n",
       "      <td>None</td>\n",
       "      <td>Jazz</td>\n",
       "      <td>0.0</td>\n",
       "      <td>1.0</td>\n",
       "      <td>Good</td>\n",
       "      <td>None</td>\n",
       "    </tr>\n",
       "    <tr>\n",
       "      <th>5</th>\n",
       "      <td>2.5</td>\n",
       "      <td>2.0</td>\n",
       "      <td>NaN</td>\n",
       "      <td>5.0</td>\n",
       "      <td>1.0</td>\n",
       "      <td>C3</td>\n",
       "      <td>C2</td>\n",
       "      <td>None</td>\n",
       "      <td>Rock</td>\n",
       "      <td>0.0</td>\n",
       "      <td>1.0</td>\n",
       "      <td>Bad</td>\n",
       "      <td>None</td>\n",
       "    </tr>\n",
       "    <tr>\n",
       "      <th>6</th>\n",
       "      <td>0.5</td>\n",
       "      <td>1.0</td>\n",
       "      <td>1.0</td>\n",
       "      <td>NaN</td>\n",
       "      <td>4.0</td>\n",
       "      <td>C3</td>\n",
       "      <td>C3</td>\n",
       "      <td>Red</td>\n",
       "      <td>None</td>\n",
       "      <td>1.0</td>\n",
       "      <td>0.0</td>\n",
       "      <td>Good</td>\n",
       "      <td>Hot</td>\n",
       "    </tr>\n",
       "    <tr>\n",
       "      <th>7</th>\n",
       "      <td>0.7</td>\n",
       "      <td>2.0</td>\n",
       "      <td>1.0</td>\n",
       "      <td>NaN</td>\n",
       "      <td>2.0</td>\n",
       "      <td>C1</td>\n",
       "      <td>C3</td>\n",
       "      <td>Red</td>\n",
       "      <td>None</td>\n",
       "      <td>1.0</td>\n",
       "      <td>1.0</td>\n",
       "      <td>Good</td>\n",
       "      <td>Hot</td>\n",
       "    </tr>\n",
       "    <tr>\n",
       "      <th>8</th>\n",
       "      <td>0.9</td>\n",
       "      <td>2.0</td>\n",
       "      <td>2.0</td>\n",
       "      <td>2.0</td>\n",
       "      <td>NaN</td>\n",
       "      <td>C2</td>\n",
       "      <td>C1</td>\n",
       "      <td>Blue</td>\n",
       "      <td>Pop</td>\n",
       "      <td>NaN</td>\n",
       "      <td>0.0</td>\n",
       "      <td>Bad</td>\n",
       "      <td>Warm</td>\n",
       "    </tr>\n",
       "    <tr>\n",
       "      <th>9</th>\n",
       "      <td>1.8</td>\n",
       "      <td>1.0</td>\n",
       "      <td>1.0</td>\n",
       "      <td>2.0</td>\n",
       "      <td>NaN</td>\n",
       "      <td>C1</td>\n",
       "      <td>C2</td>\n",
       "      <td>Pink</td>\n",
       "      <td>Jazz</td>\n",
       "      <td>NaN</td>\n",
       "      <td>0.0</td>\n",
       "      <td>Exlnt</td>\n",
       "      <td>Cold</td>\n",
       "    </tr>\n",
       "  </tbody>\n",
       "</table>\n",
       "</div>"
      ],
      "text/plain": [
       "     S0   S1   S2   S3   S4   S5   S6    C0    C1   C2   C3     C4    C5\n",
       "0   NaN  1.0  2.0  3.0  3.0  NaN   C2  Lime  Jazz  1.0  NaN  Worst  Cold\n",
       "1   NaN  1.0  2.0  3.0  3.0  NaN   C2  Lime  Jazz  1.0  NaN  Worst  Cold\n",
       "2   1.1  NaN  1.0  5.0  4.0   C3  NaN  Cyan  Rock  0.0  0.0   None  Cool\n",
       "3   2.4  NaN  1.0  4.0  1.0   C2  NaN  Blue   Pop  1.0  0.0   None  Warm\n",
       "4  22.5  1.0  NaN  1.0  5.0   C3   C1  None  Jazz  0.0  1.0   Good  None\n",
       "5   2.5  2.0  NaN  5.0  1.0   C3   C2  None  Rock  0.0  1.0    Bad  None\n",
       "6   0.5  1.0  1.0  NaN  4.0   C3   C3   Red  None  1.0  0.0   Good   Hot\n",
       "7   0.7  2.0  1.0  NaN  2.0   C1   C3   Red  None  1.0  1.0   Good   Hot\n",
       "8   0.9  2.0  2.0  2.0  NaN   C2   C1  Blue   Pop  NaN  0.0    Bad  Warm\n",
       "9   1.8  1.0  1.0  2.0  NaN   C1   C2  Pink  Jazz  NaN  0.0  Exlnt  Cold"
      ]
     },
     "execution_count": 11,
     "metadata": {},
     "output_type": "execute_result"
    }
   ],
   "source": [
    "# Checking\n",
    "print( '\\nBinary_Cats =', Binary_Cats )\n",
    "df"
   ]
  },
  {
   "cell_type": "markdown",
   "id": "e12e7a20",
   "metadata": {},
   "source": [
    "## Handling Ordinal Cats"
   ]
  },
  {
   "cell_type": "code",
   "execution_count": 12,
   "id": "cac69b46",
   "metadata": {},
   "outputs": [
    {
     "name": "stdout",
     "output_type": "stream",
     "text": [
      "0 C0 {'Lime', 'Pink', 'Red', 'Cyan', 'Blue'}\n",
      "1 C1 {'Jazz', 'Pop', 'Rock'}\n",
      "4 C4 {'Worst', 'Good', 'Exlnt', 'Bad'}\n",
      "5 C5 {'Warm', 'Cold', 'Hot', 'Cool'}\n"
     ]
    }
   ],
   "source": [
    "for i in range(len(Cs)):   # range(5,10)  # range(len(Cs))\n",
    "    \n",
    "    ft      = Cs[ i ]\n",
    "    Uniques = set( df[ft].dropna().unique() )\n",
    "    \n",
    "    if len(Uniques)>2:\n",
    "        print( i, ft, Uniques ) "
   ]
  },
  {
   "cell_type": "code",
   "execution_count": 13,
   "id": "b30a11c7",
   "metadata": {},
   "outputs": [
    {
     "data": {
      "text/html": [
       "<div>\n",
       "<style scoped>\n",
       "    .dataframe tbody tr th:only-of-type {\n",
       "        vertical-align: middle;\n",
       "    }\n",
       "\n",
       "    .dataframe tbody tr th {\n",
       "        vertical-align: top;\n",
       "    }\n",
       "\n",
       "    .dataframe thead th {\n",
       "        text-align: right;\n",
       "    }\n",
       "</style>\n",
       "<table border=\"1\" class=\"dataframe\">\n",
       "  <thead>\n",
       "    <tr style=\"text-align: right;\">\n",
       "      <th></th>\n",
       "      <th>Ordinal_Cat</th>\n",
       "      <th>Dict</th>\n",
       "    </tr>\n",
       "  </thead>\n",
       "  <tbody>\n",
       "    <tr>\n",
       "      <th>0</th>\n",
       "      <td>C4</td>\n",
       "      <td>{0: 'Worst', 1: 'Bad', 2: 'Good', 3: 'Exlnt'}</td>\n",
       "    </tr>\n",
       "    <tr>\n",
       "      <th>1</th>\n",
       "      <td>C5</td>\n",
       "      <td>{0: 'Cold', 1: 'Cool', 2: 'Warm', 3: 'Hot'}</td>\n",
       "    </tr>\n",
       "  </tbody>\n",
       "</table>\n",
       "</div>"
      ],
      "text/plain": [
       "  Ordinal_Cat                                           Dict\n",
       "0          C4  {0: 'Worst', 1: 'Bad', 2: 'Good', 3: 'Exlnt'}\n",
       "1          C5    {0: 'Cold', 1: 'Cool', 2: 'Warm', 3: 'Hot'}"
      ]
     },
     "execution_count": 13,
     "metadata": {},
     "output_type": "execute_result"
    }
   ],
   "source": [
    "# input\n",
    "index_of_ordinal_cats = [4,5]\n",
    "Dicts = []\n",
    "\n",
    "D3 = dict() \n",
    "D3[0], D3[1], D3[2], D3[3] = 'Worst', 'Bad', 'Good', 'Exlnt' \n",
    "Dicts.append(D3)\n",
    "\n",
    "D4 = dict()\n",
    "D4[0], D4[1], D4[2], D4[3] = 'Cold', 'Cool', 'Warm', 'Hot' \n",
    "Dicts.append(D4) \n",
    "\n",
    "\n",
    "# auto\n",
    "Ordinal_Cats = []\n",
    "for i in index_of_ordinal_cats:\n",
    "    ft = Cs[i]\n",
    "    Ordinal_Cats.append(ft)\n",
    "    \n",
    "Ordinal_Dicts = pd.DataFrame( [Ordinal_Cats, Dicts] ).T\n",
    "Ordinal_Dicts.columns = ['Ordinal_Cat','Dict']\n",
    "\n",
    "pickle.dump( Ordinal_Dicts,  open('Ordinal_Dicts','wb') )  # save\n",
    "Ordinal_Dicts = pickle.load( open('Ordinal_Dicts','rb') )  # load\n",
    "Ordinal_Dicts"
   ]
  },
  {
   "cell_type": "code",
   "execution_count": 14,
   "id": "5a614a32",
   "metadata": {},
   "outputs": [
    {
     "name": "stdout",
     "output_type": "stream",
     "text": [
      "\n",
      "Ordinal_Cats = ['C4', 'C5']\n"
     ]
    },
    {
     "data": {
      "text/html": [
       "<div>\n",
       "<style scoped>\n",
       "    .dataframe tbody tr th:only-of-type {\n",
       "        vertical-align: middle;\n",
       "    }\n",
       "\n",
       "    .dataframe tbody tr th {\n",
       "        vertical-align: top;\n",
       "    }\n",
       "\n",
       "    .dataframe thead th {\n",
       "        text-align: right;\n",
       "    }\n",
       "</style>\n",
       "<table border=\"1\" class=\"dataframe\">\n",
       "  <thead>\n",
       "    <tr style=\"text-align: right;\">\n",
       "      <th></th>\n",
       "      <th>S0</th>\n",
       "      <th>S1</th>\n",
       "      <th>S2</th>\n",
       "      <th>S3</th>\n",
       "      <th>S4</th>\n",
       "      <th>S5</th>\n",
       "      <th>S6</th>\n",
       "      <th>C0</th>\n",
       "      <th>C1</th>\n",
       "      <th>C2</th>\n",
       "      <th>C3</th>\n",
       "      <th>C4</th>\n",
       "      <th>C5</th>\n",
       "    </tr>\n",
       "  </thead>\n",
       "  <tbody>\n",
       "    <tr>\n",
       "      <th>0</th>\n",
       "      <td>NaN</td>\n",
       "      <td>1.0</td>\n",
       "      <td>2.0</td>\n",
       "      <td>3.0</td>\n",
       "      <td>3.0</td>\n",
       "      <td>NaN</td>\n",
       "      <td>C2</td>\n",
       "      <td>Lime</td>\n",
       "      <td>Jazz</td>\n",
       "      <td>1.0</td>\n",
       "      <td>NaN</td>\n",
       "      <td>0.0</td>\n",
       "      <td>0.0</td>\n",
       "    </tr>\n",
       "    <tr>\n",
       "      <th>1</th>\n",
       "      <td>NaN</td>\n",
       "      <td>1.0</td>\n",
       "      <td>2.0</td>\n",
       "      <td>3.0</td>\n",
       "      <td>3.0</td>\n",
       "      <td>NaN</td>\n",
       "      <td>C2</td>\n",
       "      <td>Lime</td>\n",
       "      <td>Jazz</td>\n",
       "      <td>1.0</td>\n",
       "      <td>NaN</td>\n",
       "      <td>0.0</td>\n",
       "      <td>0.0</td>\n",
       "    </tr>\n",
       "    <tr>\n",
       "      <th>2</th>\n",
       "      <td>1.1</td>\n",
       "      <td>NaN</td>\n",
       "      <td>1.0</td>\n",
       "      <td>5.0</td>\n",
       "      <td>4.0</td>\n",
       "      <td>C3</td>\n",
       "      <td>NaN</td>\n",
       "      <td>Cyan</td>\n",
       "      <td>Rock</td>\n",
       "      <td>0.0</td>\n",
       "      <td>0.0</td>\n",
       "      <td>NaN</td>\n",
       "      <td>1.0</td>\n",
       "    </tr>\n",
       "    <tr>\n",
       "      <th>3</th>\n",
       "      <td>2.4</td>\n",
       "      <td>NaN</td>\n",
       "      <td>1.0</td>\n",
       "      <td>4.0</td>\n",
       "      <td>1.0</td>\n",
       "      <td>C2</td>\n",
       "      <td>NaN</td>\n",
       "      <td>Blue</td>\n",
       "      <td>Pop</td>\n",
       "      <td>1.0</td>\n",
       "      <td>0.0</td>\n",
       "      <td>NaN</td>\n",
       "      <td>2.0</td>\n",
       "    </tr>\n",
       "    <tr>\n",
       "      <th>4</th>\n",
       "      <td>22.5</td>\n",
       "      <td>1.0</td>\n",
       "      <td>NaN</td>\n",
       "      <td>1.0</td>\n",
       "      <td>5.0</td>\n",
       "      <td>C3</td>\n",
       "      <td>C1</td>\n",
       "      <td>None</td>\n",
       "      <td>Jazz</td>\n",
       "      <td>0.0</td>\n",
       "      <td>1.0</td>\n",
       "      <td>2.0</td>\n",
       "      <td>NaN</td>\n",
       "    </tr>\n",
       "    <tr>\n",
       "      <th>5</th>\n",
       "      <td>2.5</td>\n",
       "      <td>2.0</td>\n",
       "      <td>NaN</td>\n",
       "      <td>5.0</td>\n",
       "      <td>1.0</td>\n",
       "      <td>C3</td>\n",
       "      <td>C2</td>\n",
       "      <td>None</td>\n",
       "      <td>Rock</td>\n",
       "      <td>0.0</td>\n",
       "      <td>1.0</td>\n",
       "      <td>1.0</td>\n",
       "      <td>NaN</td>\n",
       "    </tr>\n",
       "    <tr>\n",
       "      <th>6</th>\n",
       "      <td>0.5</td>\n",
       "      <td>1.0</td>\n",
       "      <td>1.0</td>\n",
       "      <td>NaN</td>\n",
       "      <td>4.0</td>\n",
       "      <td>C3</td>\n",
       "      <td>C3</td>\n",
       "      <td>Red</td>\n",
       "      <td>None</td>\n",
       "      <td>1.0</td>\n",
       "      <td>0.0</td>\n",
       "      <td>2.0</td>\n",
       "      <td>3.0</td>\n",
       "    </tr>\n",
       "    <tr>\n",
       "      <th>7</th>\n",
       "      <td>0.7</td>\n",
       "      <td>2.0</td>\n",
       "      <td>1.0</td>\n",
       "      <td>NaN</td>\n",
       "      <td>2.0</td>\n",
       "      <td>C1</td>\n",
       "      <td>C3</td>\n",
       "      <td>Red</td>\n",
       "      <td>None</td>\n",
       "      <td>1.0</td>\n",
       "      <td>1.0</td>\n",
       "      <td>2.0</td>\n",
       "      <td>3.0</td>\n",
       "    </tr>\n",
       "    <tr>\n",
       "      <th>8</th>\n",
       "      <td>0.9</td>\n",
       "      <td>2.0</td>\n",
       "      <td>2.0</td>\n",
       "      <td>2.0</td>\n",
       "      <td>NaN</td>\n",
       "      <td>C2</td>\n",
       "      <td>C1</td>\n",
       "      <td>Blue</td>\n",
       "      <td>Pop</td>\n",
       "      <td>NaN</td>\n",
       "      <td>0.0</td>\n",
       "      <td>1.0</td>\n",
       "      <td>2.0</td>\n",
       "    </tr>\n",
       "    <tr>\n",
       "      <th>9</th>\n",
       "      <td>1.8</td>\n",
       "      <td>1.0</td>\n",
       "      <td>1.0</td>\n",
       "      <td>2.0</td>\n",
       "      <td>NaN</td>\n",
       "      <td>C1</td>\n",
       "      <td>C2</td>\n",
       "      <td>Pink</td>\n",
       "      <td>Jazz</td>\n",
       "      <td>NaN</td>\n",
       "      <td>0.0</td>\n",
       "      <td>3.0</td>\n",
       "      <td>0.0</td>\n",
       "    </tr>\n",
       "  </tbody>\n",
       "</table>\n",
       "</div>"
      ],
      "text/plain": [
       "     S0   S1   S2   S3   S4   S5   S6    C0    C1   C2   C3   C4   C5\n",
       "0   NaN  1.0  2.0  3.0  3.0  NaN   C2  Lime  Jazz  1.0  NaN  0.0  0.0\n",
       "1   NaN  1.0  2.0  3.0  3.0  NaN   C2  Lime  Jazz  1.0  NaN  0.0  0.0\n",
       "2   1.1  NaN  1.0  5.0  4.0   C3  NaN  Cyan  Rock  0.0  0.0  NaN  1.0\n",
       "3   2.4  NaN  1.0  4.0  1.0   C2  NaN  Blue   Pop  1.0  0.0  NaN  2.0\n",
       "4  22.5  1.0  NaN  1.0  5.0   C3   C1  None  Jazz  0.0  1.0  2.0  NaN\n",
       "5   2.5  2.0  NaN  5.0  1.0   C3   C2  None  Rock  0.0  1.0  1.0  NaN\n",
       "6   0.5  1.0  1.0  NaN  4.0   C3   C3   Red  None  1.0  0.0  2.0  3.0\n",
       "7   0.7  2.0  1.0  NaN  2.0   C1   C3   Red  None  1.0  1.0  2.0  3.0\n",
       "8   0.9  2.0  2.0  2.0  NaN   C2   C1  Blue   Pop  NaN  0.0  1.0  2.0\n",
       "9   1.8  1.0  1.0  2.0  NaN   C1   C2  Pink  Jazz  NaN  0.0  3.0  0.0"
      ]
     },
     "execution_count": 14,
     "metadata": {},
     "output_type": "execute_result"
    }
   ],
   "source": [
    "# auto\n",
    "for ft in Ordinal_Cats: \n",
    "    \n",
    "    D  = Ordinal_Dicts.loc[ Ordinal_Dicts['Ordinal_Cat']==ft, 'Dict' ].values[0]\n",
    "    if df[ft].dtype == object:\n",
    "        for key in D.keys():\n",
    "            df[ft] = df[ft].replace( D[key], key )\n",
    "            \n",
    "# Cheking\n",
    "print( '\\nOrdinal_Cats =', Ordinal_Cats )\n",
    "df"
   ]
  },
  {
   "cell_type": "markdown",
   "id": "3bdc0a60",
   "metadata": {},
   "source": [
    "## Handling Nominal Cats"
   ]
  },
  {
   "cell_type": "code",
   "execution_count": 15,
   "id": "0d8c7395",
   "metadata": {},
   "outputs": [
    {
     "name": "stdout",
     "output_type": "stream",
     "text": [
      "\n",
      "Nominal_Cats = ['S5', 'S6', 'C0', 'C1']\n"
     ]
    },
    {
     "data": {
      "text/html": [
       "<div>\n",
       "<style scoped>\n",
       "    .dataframe tbody tr th:only-of-type {\n",
       "        vertical-align: middle;\n",
       "    }\n",
       "\n",
       "    .dataframe tbody tr th {\n",
       "        vertical-align: top;\n",
       "    }\n",
       "\n",
       "    .dataframe thead th {\n",
       "        text-align: right;\n",
       "    }\n",
       "</style>\n",
       "<table border=\"1\" class=\"dataframe\">\n",
       "  <thead>\n",
       "    <tr style=\"text-align: right;\">\n",
       "      <th></th>\n",
       "      <th>Nominal_Cat</th>\n",
       "      <th>List</th>\n",
       "    </tr>\n",
       "  </thead>\n",
       "  <tbody>\n",
       "    <tr>\n",
       "      <th>0</th>\n",
       "      <td>S5</td>\n",
       "      <td>[C3, C2, C1]</td>\n",
       "    </tr>\n",
       "    <tr>\n",
       "      <th>1</th>\n",
       "      <td>S6</td>\n",
       "      <td>[C2, C1, C3]</td>\n",
       "    </tr>\n",
       "    <tr>\n",
       "      <th>2</th>\n",
       "      <td>C0</td>\n",
       "      <td>[Lime, Cyan, Blue, Red, Pink]</td>\n",
       "    </tr>\n",
       "    <tr>\n",
       "      <th>3</th>\n",
       "      <td>C1</td>\n",
       "      <td>[Jazz, Rock, Pop]</td>\n",
       "    </tr>\n",
       "  </tbody>\n",
       "</table>\n",
       "</div>"
      ],
      "text/plain": [
       "  Nominal_Cat                           List\n",
       "0          S5                   [C3, C2, C1]\n",
       "1          S6                   [C2, C1, C3]\n",
       "2          C0  [Lime, Cyan, Blue, Red, Pink]\n",
       "3          C1              [Jazz, Rock, Pop]"
      ]
     },
     "execution_count": 15,
     "metadata": {},
     "output_type": "execute_result"
    }
   ],
   "source": [
    "# auto\n",
    "for ft in Cs:\n",
    "    if ft not in Binary_Cats and ft not in Ordinal_Cats and ft not in Nominal_Cats:\n",
    "        Nominal_Cats.append(ft) \n",
    "        \n",
    "# Cheking\n",
    "print( '\\nNominal_Cats =', Nominal_Cats )\n",
    "\n",
    "Lists = []\n",
    "for ft in Nominal_Cats:\n",
    "    Lists.append( df[ft].dropna().unique() )\n",
    "    \n",
    "Nominal_Dicts = pd.DataFrame( [Nominal_Cats, Lists] ).T\n",
    "Nominal_Dicts.columns = ['Nominal_Cat','List']\n",
    "\n",
    "pickle.dump( Nominal_Dicts,  open('Nominal_Dicts','wb') )  # save\n",
    "Nominal_Dicts = pickle.load( open('Nominal_Dicts','rb') )  # load\n",
    "Nominal_Dicts"
   ]
  },
  {
   "cell_type": "markdown",
   "id": "5044c1bc",
   "metadata": {},
   "source": [
    "#####   "
   ]
  },
  {
   "cell_type": "markdown",
   "id": "005b94b7",
   "metadata": {},
   "source": [
    "#####   \n",
    "<span style=\"font-family:Arial; font-weight:Bold; font-size:1.8em; color:#00b3e5;\"> Pre-Porocessing"
   ]
  },
  {
   "cell_type": "markdown",
   "id": "203d2ee7",
   "metadata": {},
   "source": [
    "<span style=\"font-family:Arial; font-weight:Bold; font-size:1.5em; color:#00b3e5;\"> Handling Duplicates"
   ]
  },
  {
   "cell_type": "code",
   "execution_count": 16,
   "id": "d0a5a957",
   "metadata": {
    "scrolled": true
   },
   "outputs": [
    {
     "name": "stdout",
     "output_type": "stream",
     "text": [
      "Before Treatment:\n",
      "n duplicates = 1\n"
     ]
    }
   ],
   "source": [
    "print('Before Treatment:\\nn duplicates =', sum(df.duplicated())) "
   ]
  },
  {
   "cell_type": "code",
   "execution_count": 17,
   "id": "fa29f069",
   "metadata": {},
   "outputs": [
    {
     "name": "stdout",
     "output_type": "stream",
     "text": [
      "After Treatment:\n",
      "n duplicates = 0\n"
     ]
    }
   ],
   "source": [
    "if sum( df.duplicated() ) > 0:\n",
    "    df = df.drop_duplicates()\n",
    "    df.index = range( df.shape[0] )\n",
    "print('After Treatment:\\nn duplicates =', sum(df.duplicated())) "
   ]
  },
  {
   "cell_type": "markdown",
   "id": "3402daaa",
   "metadata": {},
   "source": [
    "#####   "
   ]
  },
  {
   "cell_type": "markdown",
   "id": "b89cc091",
   "metadata": {},
   "source": [
    "<span style=\"font-family:Arial; font-weight:Bold; font-size:1.5em; color:#00b3e5;\"> Handling Missing Values by KNNImputer"
   ]
  },
  {
   "cell_type": "code",
   "execution_count": 18,
   "id": "7d944942",
   "metadata": {},
   "outputs": [
    {
     "name": "stdout",
     "output_type": "stream",
     "text": [
      "Before Treatment:\n",
      "     Number of Missing Values\n",
      "S0                         1\n",
      "S1                         2\n",
      "S2                         2\n",
      "S3                         2\n",
      "S4                         2\n",
      "S5                         1\n",
      "S6                         2\n",
      "C0                         2\n",
      "C1                         2\n",
      "C2                         2\n",
      "C3                         1\n",
      "C4                         2\n",
      "C5                         2\n"
     ]
    }
   ],
   "source": [
    "print('Before Treatment:\\n', pd.DataFrame(df.isnull().sum(), columns=['Number of Missing Values'])) "
   ]
  },
  {
   "cell_type": "code",
   "execution_count": 19,
   "id": "a7870ec9",
   "metadata": {
    "scrolled": false
   },
   "outputs": [
    {
     "name": "stdout",
     "output_type": "stream",
     "text": [
      "After Treatment:\n",
      "     Number of Missing Values\n",
      "S0                         0\n",
      "S1                         0\n",
      "S2                         0\n",
      "S3                         0\n",
      "S4                         0\n",
      "C2                         0\n",
      "C3                         0\n",
      "C4                         0\n",
      "C5                         0\n",
      "S5                         1\n",
      "S6                         2\n",
      "C0                         2\n",
      "C1                         2\n",
      "\n",
      "Nominal_Cats = ['S5', 'S6', 'C0', 'C1']\n"
     ]
    }
   ],
   "source": [
    "from sklearn.impute import KNNImputer \n",
    "\n",
    "df_encoded = pd.get_dummies( df, columns = Nominal_Cats ).replace(False,0).replace(True,1)\n",
    "\n",
    "imputer = KNNImputer( n_neighbors=5, weights=\"distance\" )   # data.fillna( data.median(), inplace=True )\n",
    "Imputed_Values = imputer.fit_transform( df_encoded.values )\n",
    "df_imputed = pd.DataFrame( Imputed_Values, columns=df_encoded.columns )\n",
    "\n",
    "Non_Nominal_Features = []\n",
    "for ft in df.columns:\n",
    "    if ft not in Nominal_Cats:\n",
    "        Non_Nominal_Features.append(ft)\n",
    "        \n",
    "df_treated = pd.concat( [ df_imputed[Non_Nominal_Features],df[Nominal_Cats] ], axis=1 )\n",
    "\n",
    "print('After Treatment:\\n', \n",
    "      pd.DataFrame( df_treated.isnull().sum(), columns=['Number of Missing Values'])) \n",
    "\n",
    "print( '\\nNominal_Cats =', Nominal_Cats )"
   ]
  },
  {
   "cell_type": "code",
   "execution_count": 20,
   "id": "747d2ab8",
   "metadata": {},
   "outputs": [
    {
     "data": {
      "text/html": [
       "<div>\n",
       "<style scoped>\n",
       "    .dataframe tbody tr th:only-of-type {\n",
       "        vertical-align: middle;\n",
       "    }\n",
       "\n",
       "    .dataframe tbody tr th {\n",
       "        vertical-align: top;\n",
       "    }\n",
       "\n",
       "    .dataframe thead th {\n",
       "        text-align: right;\n",
       "    }\n",
       "</style>\n",
       "<table border=\"1\" class=\"dataframe\">\n",
       "  <thead>\n",
       "    <tr style=\"text-align: right;\">\n",
       "      <th></th>\n",
       "      <th>S0</th>\n",
       "      <th>S1</th>\n",
       "      <th>S2</th>\n",
       "      <th>S3</th>\n",
       "      <th>S4</th>\n",
       "      <th>C2</th>\n",
       "      <th>C3</th>\n",
       "      <th>C4</th>\n",
       "      <th>C5</th>\n",
       "      <th>S5</th>\n",
       "      <th>S6</th>\n",
       "      <th>C0</th>\n",
       "      <th>C1</th>\n",
       "    </tr>\n",
       "  </thead>\n",
       "  <tbody>\n",
       "    <tr>\n",
       "      <th>0</th>\n",
       "      <td>1.726046</td>\n",
       "      <td>1.000000</td>\n",
       "      <td>2.000000</td>\n",
       "      <td>3.000000</td>\n",
       "      <td>3.000000</td>\n",
       "      <td>1.000000</td>\n",
       "      <td>0.197101</td>\n",
       "      <td>0.000000</td>\n",
       "      <td>0.000000</td>\n",
       "      <td>NaN</td>\n",
       "      <td>C2</td>\n",
       "      <td>Lime</td>\n",
       "      <td>Jazz</td>\n",
       "    </tr>\n",
       "    <tr>\n",
       "      <th>1</th>\n",
       "      <td>1.100000</td>\n",
       "      <td>1.383166</td>\n",
       "      <td>1.000000</td>\n",
       "      <td>5.000000</td>\n",
       "      <td>4.000000</td>\n",
       "      <td>0.000000</td>\n",
       "      <td>0.000000</td>\n",
       "      <td>1.587384</td>\n",
       "      <td>1.000000</td>\n",
       "      <td>C3</td>\n",
       "      <td>NaN</td>\n",
       "      <td>Cyan</td>\n",
       "      <td>Rock</td>\n",
       "    </tr>\n",
       "    <tr>\n",
       "      <th>2</th>\n",
       "      <td>2.400000</td>\n",
       "      <td>1.659599</td>\n",
       "      <td>1.000000</td>\n",
       "      <td>4.000000</td>\n",
       "      <td>1.000000</td>\n",
       "      <td>1.000000</td>\n",
       "      <td>0.000000</td>\n",
       "      <td>1.375911</td>\n",
       "      <td>2.000000</td>\n",
       "      <td>C2</td>\n",
       "      <td>NaN</td>\n",
       "      <td>Blue</td>\n",
       "      <td>Pop</td>\n",
       "    </tr>\n",
       "    <tr>\n",
       "      <th>3</th>\n",
       "      <td>22.500000</td>\n",
       "      <td>1.000000</td>\n",
       "      <td>1.563014</td>\n",
       "      <td>1.000000</td>\n",
       "      <td>5.000000</td>\n",
       "      <td>0.000000</td>\n",
       "      <td>1.000000</td>\n",
       "      <td>2.000000</td>\n",
       "      <td>0.866582</td>\n",
       "      <td>C3</td>\n",
       "      <td>C1</td>\n",
       "      <td>None</td>\n",
       "      <td>Jazz</td>\n",
       "    </tr>\n",
       "    <tr>\n",
       "      <th>4</th>\n",
       "      <td>2.500000</td>\n",
       "      <td>2.000000</td>\n",
       "      <td>1.351366</td>\n",
       "      <td>5.000000</td>\n",
       "      <td>1.000000</td>\n",
       "      <td>0.000000</td>\n",
       "      <td>1.000000</td>\n",
       "      <td>1.000000</td>\n",
       "      <td>1.643934</td>\n",
       "      <td>C3</td>\n",
       "      <td>C2</td>\n",
       "      <td>None</td>\n",
       "      <td>Rock</td>\n",
       "    </tr>\n",
       "    <tr>\n",
       "      <th>5</th>\n",
       "      <td>0.500000</td>\n",
       "      <td>1.000000</td>\n",
       "      <td>1.000000</td>\n",
       "      <td>3.268055</td>\n",
       "      <td>4.000000</td>\n",
       "      <td>1.000000</td>\n",
       "      <td>0.000000</td>\n",
       "      <td>2.000000</td>\n",
       "      <td>3.000000</td>\n",
       "      <td>C3</td>\n",
       "      <td>C3</td>\n",
       "      <td>Red</td>\n",
       "      <td>None</td>\n",
       "    </tr>\n",
       "    <tr>\n",
       "      <th>6</th>\n",
       "      <td>0.700000</td>\n",
       "      <td>2.000000</td>\n",
       "      <td>1.000000</td>\n",
       "      <td>3.605841</td>\n",
       "      <td>2.000000</td>\n",
       "      <td>1.000000</td>\n",
       "      <td>1.000000</td>\n",
       "      <td>2.000000</td>\n",
       "      <td>3.000000</td>\n",
       "      <td>C1</td>\n",
       "      <td>C3</td>\n",
       "      <td>Red</td>\n",
       "      <td>None</td>\n",
       "    </tr>\n",
       "    <tr>\n",
       "      <th>7</th>\n",
       "      <td>0.900000</td>\n",
       "      <td>2.000000</td>\n",
       "      <td>2.000000</td>\n",
       "      <td>2.000000</td>\n",
       "      <td>2.684655</td>\n",
       "      <td>0.839482</td>\n",
       "      <td>0.000000</td>\n",
       "      <td>1.000000</td>\n",
       "      <td>2.000000</td>\n",
       "      <td>C2</td>\n",
       "      <td>C1</td>\n",
       "      <td>Blue</td>\n",
       "      <td>Pop</td>\n",
       "    </tr>\n",
       "    <tr>\n",
       "      <th>8</th>\n",
       "      <td>1.800000</td>\n",
       "      <td>1.000000</td>\n",
       "      <td>1.000000</td>\n",
       "      <td>2.000000</td>\n",
       "      <td>2.778658</td>\n",
       "      <td>0.807054</td>\n",
       "      <td>0.000000</td>\n",
       "      <td>3.000000</td>\n",
       "      <td>0.000000</td>\n",
       "      <td>C1</td>\n",
       "      <td>C2</td>\n",
       "      <td>Pink</td>\n",
       "      <td>Jazz</td>\n",
       "    </tr>\n",
       "  </tbody>\n",
       "</table>\n",
       "</div>"
      ],
      "text/plain": [
       "          S0        S1        S2        S3        S4        C2        C3  \\\n",
       "0   1.726046  1.000000  2.000000  3.000000  3.000000  1.000000  0.197101   \n",
       "1   1.100000  1.383166  1.000000  5.000000  4.000000  0.000000  0.000000   \n",
       "2   2.400000  1.659599  1.000000  4.000000  1.000000  1.000000  0.000000   \n",
       "3  22.500000  1.000000  1.563014  1.000000  5.000000  0.000000  1.000000   \n",
       "4   2.500000  2.000000  1.351366  5.000000  1.000000  0.000000  1.000000   \n",
       "5   0.500000  1.000000  1.000000  3.268055  4.000000  1.000000  0.000000   \n",
       "6   0.700000  2.000000  1.000000  3.605841  2.000000  1.000000  1.000000   \n",
       "7   0.900000  2.000000  2.000000  2.000000  2.684655  0.839482  0.000000   \n",
       "8   1.800000  1.000000  1.000000  2.000000  2.778658  0.807054  0.000000   \n",
       "\n",
       "         C4        C5   S5   S6    C0    C1  \n",
       "0  0.000000  0.000000  NaN   C2  Lime  Jazz  \n",
       "1  1.587384  1.000000   C3  NaN  Cyan  Rock  \n",
       "2  1.375911  2.000000   C2  NaN  Blue   Pop  \n",
       "3  2.000000  0.866582   C3   C1  None  Jazz  \n",
       "4  1.000000  1.643934   C3   C2  None  Rock  \n",
       "5  2.000000  3.000000   C3   C3   Red  None  \n",
       "6  2.000000  3.000000   C1   C3   Red  None  \n",
       "7  1.000000  2.000000   C2   C1  Blue   Pop  \n",
       "8  3.000000  0.000000   C1   C2  Pink  Jazz  "
      ]
     },
     "execution_count": 20,
     "metadata": {},
     "output_type": "execute_result"
    }
   ],
   "source": [
    "df = df_treated.copy()\n",
    "\n",
    "pickle.dump( df,  open('df_Imputed_KNN','wb') )  # save\n",
    "df = pickle.load( open('df_Imputed_KNN','rb') )  # load\n",
    "df"
   ]
  },
  {
   "cell_type": "markdown",
   "id": "d1e5a4cb",
   "metadata": {},
   "source": [
    "#####   "
   ]
  },
  {
   "cell_type": "markdown",
   "id": "e6e9b38d",
   "metadata": {},
   "source": [
    "<span style=\"font-family:Arial; font-weight:Bold; font-size:1.5em; color:#00b3e5;\"> Handling Outliers"
   ]
  },
  {
   "cell_type": "code",
   "execution_count": 21,
   "id": "1befb25c",
   "metadata": {},
   "outputs": [],
   "source": [
    "from matplotlib import pyplot as plt\n",
    "\n",
    "import seaborn as sns\n",
    "sns.set(style=\"ticks\", color_codes=True)"
   ]
  },
  {
   "cell_type": "markdown",
   "id": "c1962476",
   "metadata": {},
   "source": [
    "<span style=\"font-family:Arial; font-weight:Bold; font-size:1.2em; color:#00b3e5;\"> Detecting Outliers by Boxplots"
   ]
  },
  {
   "cell_type": "code",
   "execution_count": 22,
   "id": "640e8651",
   "metadata": {
    "scrolled": true
   },
   "outputs": [
    {
     "data": {
      "image/png": "[encoded data removed]",
      "text/plain": [
       "<Figure size 300x100 with 1 Axes>"
      ]
     },
     "metadata": {},
     "output_type": "display_data"
    },
    {
     "data": {
      "image/png": "[encoded data removed]",
      "text/plain": [
       "<Figure size 300x100 with 1 Axes>"
      ]
     },
     "metadata": {},
     "output_type": "display_data"
    },
    {
     "data": {
      "image/png": "[encoded data removed]",
      "text/plain": [
       "<Figure size 300x100 with 1 Axes>"
      ]
     },
     "metadata": {},
     "output_type": "display_data"
    },
    {
     "data": {
      "image/png": "[encoded data removed]",
      "text/plain": [
       "<Figure size 300x100 with 1 Axes>"
      ]
     },
     "metadata": {},
     "output_type": "display_data"
    },
    {
     "data": {
      "image/png": "[encoded data removed]",
      "text/plain": [
       "<Figure size 300x100 with 1 Axes>"
      ]
     },
     "metadata": {},
     "output_type": "display_data"
    },
    {
     "data": {
      "image/png": "[encoded data removed]",
      "text/plain": [
       "<Figure size 300x100 with 1 Axes>"
      ]
     },
     "metadata": {},
     "output_type": "display_data"
    },
    {
     "data": {
      "image/png": "[encoded data removed]",
      "text/plain": [
       "<Figure size 300x100 with 1 Axes>"
      ]
     },
     "metadata": {},
     "output_type": "display_data"
    },
    {
     "data": {
      "image/png": "[encoded data removed]",
      "text/plain": [
       "<Figure size 300x100 with 1 Axes>"
      ]
     },
     "metadata": {},
     "output_type": "display_data"
    },
    {
     "data": {
      "image/png": "[encoded data removed]",
      "text/plain": [
       "<Figure size 300x100 with 1 Axes>"
      ]
     },
     "metadata": {},
     "output_type": "display_data"
    }
   ],
   "source": [
    "scalar_columns = []\n",
    "for col in df.columns:\n",
    "    if df[col].dtype!='object': scalar_columns.append( col )\n",
    "\n",
    "boxprops    = dict( linewidth=1, edgecolor='k', facecolor='cyan' )\n",
    "medianprops = dict( linewidth=1, color='k' )\n",
    "flierprops  = dict( marker='d', markersize=7, markerfacecolor='red', markeredgecolor='red' )\n",
    "\n",
    "for ft in scalar_columns:\n",
    "    plt.figure(  figsize=(3,1)   )\n",
    "    sns.boxplot( x=df[ ft ] \n",
    "           , boxprops    = boxprops\n",
    "           , medianprops = medianprops\n",
    "           , flierprops  = flierprops  \n",
    "           )\n",
    "    plt.show()"
   ]
  },
  {
   "cell_type": "markdown",
   "id": "09ca4aad",
   "metadata": {},
   "source": [
    "<span style=\"font-family:Arial; font-weight:Bold; font-size:1.2em; color:#00b3e5;\"> Winsorizing Extreme Outliers by Z-Score"
   ]
  },
  {
   "cell_type": "code",
   "execution_count": 23,
   "id": "7d0a158a",
   "metadata": {},
   "outputs": [],
   "source": [
    "# Winsorizing Extreme Outliers\n",
    "df_dirty = df.copy()    \n",
    "columns_with_outliers = [ 'S0' ]\n",
    "\n",
    "def winsorize_by_zscore(df,ft):\n",
    "    x  = df[ft].copy()\n",
    "    M  = x.mean()\n",
    "    SD = x.std()\n",
    "    z  = (x-M) / SD\n",
    "    \n",
    "    upper_bound = +3\n",
    "    lower_bound = -3\n",
    "    \n",
    "    ls = df.index[ (z > upper_bound) \n",
    "                 | (z < lower_bound) ]\n",
    "    \n",
    "    x_Des=sorted(x,reverse=True)\n",
    "    i=0\n",
    "    while x_Des[i] >=  M + 3*SD:\n",
    "        i=i+1 \n",
    "    MAX=x_Des[i] \n",
    "    \n",
    "    x_Asc=sorted(x,reverse=False)\n",
    "    i=0 \n",
    "    while x_Asc[i] <=  M - 3*SD:\n",
    "        i=i+1  \n",
    "    MIN=x_Asc[i] \n",
    "    \n",
    "    for i in range(0,len(x)):\n",
    "        if   z[i] > upper_bound: x[i]=MAX\n",
    "        elif z[i] < lower_bound: x[i]=MIN\n",
    "            \n",
    "    return [x, ls]\n",
    "\n",
    "def winsorize_by_iqr(df,ft):\n",
    "    x   = df[ft].copy()\n",
    "     \n",
    "    Q1  = x.quantile(0.25)\n",
    "    Q3  = x.quantile(0.75)\n",
    "    IQR = Q3-Q1 \n",
    "    \n",
    "    upper_bound = Q3+2*IQR\n",
    "    lower_bound = Q1-2*IQR\n",
    "    \n",
    "    ls = df.index[ (x > upper_bound) \n",
    "                 | (x < lower_bound) ]\n",
    "    \n",
    "    x_Des=sorted(x,reverse=True)\n",
    "    i=0\n",
    "    while x_Des[i] >=  upper_bound:\n",
    "        i=i+1 \n",
    "    MAX=x_Des[i] \n",
    "    \n",
    "    x_Asc=sorted(x,reverse=False)\n",
    "    i=0 \n",
    "    while x_Asc[i] <=  lower_bound:\n",
    "        i=i+1  \n",
    "    MIN=x_Asc[i] \n",
    "    \n",
    "    for i in range(0,len(x)):\n",
    "        if   x[i] > upper_bound: x[i]=MAX\n",
    "        elif x[i] < lower_bound: x[i]=MIN \n",
    "            \n",
    "    return [x, ls]\n",
    " \n",
    "\n",
    "# df_no_extreme\n",
    "DF = df_dirty.copy()\n",
    "\n",
    "index_list = []\n",
    "for c in columns_with_outliers:\n",
    "    c_clean, ls = winsorize_by_iqr( df_dirty, c ) \n",
    "    index_list.extend( ls )\n",
    "    DF.loc[ :, c ] = c_clean\n",
    "for c in columns_with_outliers:\n",
    "    c_clean, ls = winsorize_by_zscore( DF, c )\n",
    "    index_list.extend( ls )\n",
    "    DF.loc[ :, c ] = c_clean"
   ]
  },
  {
   "cell_type": "markdown",
   "id": "7a586d49",
   "metadata": {},
   "source": [
    "<span style=\"font-family:Arial; font-weight:Bold; font-size:1.2em; color:#00b3e5;\"> Checking"
   ]
  },
  {
   "cell_type": "code",
   "execution_count": 24,
   "id": "680e3249",
   "metadata": {
    "scrolled": true
   },
   "outputs": [
    {
     "data": {
      "image/png": "[encoded data removed]",
      "text/plain": [
       "<Figure size 300x100 with 1 Axes>"
      ]
     },
     "metadata": {},
     "output_type": "display_data"
    }
   ],
   "source": [
    "# Detecting Outliers by Boxplots \n",
    "for ft in columns_with_outliers:\n",
    "    plt.figure(  figsize=(3,1)   )\n",
    "    sns.boxplot( x=DF[ ft ] \n",
    "           , boxprops    = boxprops\n",
    "           , medianprops = medianprops\n",
    "           , flierprops  = flierprops  \n",
    "           )\n",
    "    plt.show()"
   ]
  },
  {
   "cell_type": "markdown",
   "id": "d4ad8dbb",
   "metadata": {},
   "source": [
    "<span style=\"font-family:Arial; font-weight:Bold; font-size:1.5em; color:#00b3e5;\"> Assigning"
   ]
  },
  {
   "cell_type": "code",
   "execution_count": 25,
   "id": "2ecada1f",
   "metadata": {},
   "outputs": [
    {
     "data": {
      "text/html": [
       "<div>\n",
       "<style scoped>\n",
       "    .dataframe tbody tr th:only-of-type {\n",
       "        vertical-align: middle;\n",
       "    }\n",
       "\n",
       "    .dataframe tbody tr th {\n",
       "        vertical-align: top;\n",
       "    }\n",
       "\n",
       "    .dataframe thead th {\n",
       "        text-align: right;\n",
       "    }\n",
       "</style>\n",
       "<table border=\"1\" class=\"dataframe\">\n",
       "  <thead>\n",
       "    <tr style=\"text-align: right;\">\n",
       "      <th></th>\n",
       "      <th>S0</th>\n",
       "      <th>S1</th>\n",
       "      <th>S2</th>\n",
       "      <th>S3</th>\n",
       "      <th>S4</th>\n",
       "      <th>C2</th>\n",
       "      <th>C3</th>\n",
       "      <th>C4</th>\n",
       "      <th>C5</th>\n",
       "      <th>S5</th>\n",
       "      <th>S6</th>\n",
       "      <th>C0</th>\n",
       "      <th>C1</th>\n",
       "    </tr>\n",
       "  </thead>\n",
       "  <tbody>\n",
       "    <tr>\n",
       "      <th>0</th>\n",
       "      <td>1.726046</td>\n",
       "      <td>1.000000</td>\n",
       "      <td>2.000000</td>\n",
       "      <td>3.000000</td>\n",
       "      <td>3.000000</td>\n",
       "      <td>1.000000</td>\n",
       "      <td>0.197101</td>\n",
       "      <td>0.000000</td>\n",
       "      <td>0.000000</td>\n",
       "      <td>NaN</td>\n",
       "      <td>C2</td>\n",
       "      <td>Lime</td>\n",
       "      <td>Jazz</td>\n",
       "    </tr>\n",
       "    <tr>\n",
       "      <th>1</th>\n",
       "      <td>1.100000</td>\n",
       "      <td>1.383166</td>\n",
       "      <td>1.000000</td>\n",
       "      <td>5.000000</td>\n",
       "      <td>4.000000</td>\n",
       "      <td>0.000000</td>\n",
       "      <td>0.000000</td>\n",
       "      <td>1.587384</td>\n",
       "      <td>1.000000</td>\n",
       "      <td>C3</td>\n",
       "      <td>NaN</td>\n",
       "      <td>Cyan</td>\n",
       "      <td>Rock</td>\n",
       "    </tr>\n",
       "    <tr>\n",
       "      <th>2</th>\n",
       "      <td>2.400000</td>\n",
       "      <td>1.659599</td>\n",
       "      <td>1.000000</td>\n",
       "      <td>4.000000</td>\n",
       "      <td>1.000000</td>\n",
       "      <td>1.000000</td>\n",
       "      <td>0.000000</td>\n",
       "      <td>1.375911</td>\n",
       "      <td>2.000000</td>\n",
       "      <td>C2</td>\n",
       "      <td>NaN</td>\n",
       "      <td>Blue</td>\n",
       "      <td>Pop</td>\n",
       "    </tr>\n",
       "    <tr>\n",
       "      <th>3</th>\n",
       "      <td>2.500000</td>\n",
       "      <td>1.000000</td>\n",
       "      <td>1.563014</td>\n",
       "      <td>1.000000</td>\n",
       "      <td>5.000000</td>\n",
       "      <td>0.000000</td>\n",
       "      <td>1.000000</td>\n",
       "      <td>2.000000</td>\n",
       "      <td>0.866582</td>\n",
       "      <td>C3</td>\n",
       "      <td>C1</td>\n",
       "      <td>None</td>\n",
       "      <td>Jazz</td>\n",
       "    </tr>\n",
       "    <tr>\n",
       "      <th>4</th>\n",
       "      <td>2.500000</td>\n",
       "      <td>2.000000</td>\n",
       "      <td>1.351366</td>\n",
       "      <td>5.000000</td>\n",
       "      <td>1.000000</td>\n",
       "      <td>0.000000</td>\n",
       "      <td>1.000000</td>\n",
       "      <td>1.000000</td>\n",
       "      <td>1.643934</td>\n",
       "      <td>C3</td>\n",
       "      <td>C2</td>\n",
       "      <td>None</td>\n",
       "      <td>Rock</td>\n",
       "    </tr>\n",
       "    <tr>\n",
       "      <th>5</th>\n",
       "      <td>0.500000</td>\n",
       "      <td>1.000000</td>\n",
       "      <td>1.000000</td>\n",
       "      <td>3.268055</td>\n",
       "      <td>4.000000</td>\n",
       "      <td>1.000000</td>\n",
       "      <td>0.000000</td>\n",
       "      <td>2.000000</td>\n",
       "      <td>3.000000</td>\n",
       "      <td>C3</td>\n",
       "      <td>C3</td>\n",
       "      <td>Red</td>\n",
       "      <td>None</td>\n",
       "    </tr>\n",
       "    <tr>\n",
       "      <th>6</th>\n",
       "      <td>0.700000</td>\n",
       "      <td>2.000000</td>\n",
       "      <td>1.000000</td>\n",
       "      <td>3.605841</td>\n",
       "      <td>2.000000</td>\n",
       "      <td>1.000000</td>\n",
       "      <td>1.000000</td>\n",
       "      <td>2.000000</td>\n",
       "      <td>3.000000</td>\n",
       "      <td>C1</td>\n",
       "      <td>C3</td>\n",
       "      <td>Red</td>\n",
       "      <td>None</td>\n",
       "    </tr>\n",
       "    <tr>\n",
       "      <th>7</th>\n",
       "      <td>0.900000</td>\n",
       "      <td>2.000000</td>\n",
       "      <td>2.000000</td>\n",
       "      <td>2.000000</td>\n",
       "      <td>2.684655</td>\n",
       "      <td>0.839482</td>\n",
       "      <td>0.000000</td>\n",
       "      <td>1.000000</td>\n",
       "      <td>2.000000</td>\n",
       "      <td>C2</td>\n",
       "      <td>C1</td>\n",
       "      <td>Blue</td>\n",
       "      <td>Pop</td>\n",
       "    </tr>\n",
       "    <tr>\n",
       "      <th>8</th>\n",
       "      <td>1.800000</td>\n",
       "      <td>1.000000</td>\n",
       "      <td>1.000000</td>\n",
       "      <td>2.000000</td>\n",
       "      <td>2.778658</td>\n",
       "      <td>0.807054</td>\n",
       "      <td>0.000000</td>\n",
       "      <td>3.000000</td>\n",
       "      <td>0.000000</td>\n",
       "      <td>C1</td>\n",
       "      <td>C2</td>\n",
       "      <td>Pink</td>\n",
       "      <td>Jazz</td>\n",
       "    </tr>\n",
       "  </tbody>\n",
       "</table>\n",
       "</div>"
      ],
      "text/plain": [
       "         S0        S1        S2        S3        S4        C2        C3  \\\n",
       "0  1.726046  1.000000  2.000000  3.000000  3.000000  1.000000  0.197101   \n",
       "1  1.100000  1.383166  1.000000  5.000000  4.000000  0.000000  0.000000   \n",
       "2  2.400000  1.659599  1.000000  4.000000  1.000000  1.000000  0.000000   \n",
       "3  2.500000  1.000000  1.563014  1.000000  5.000000  0.000000  1.000000   \n",
       "4  2.500000  2.000000  1.351366  5.000000  1.000000  0.000000  1.000000   \n",
       "5  0.500000  1.000000  1.000000  3.268055  4.000000  1.000000  0.000000   \n",
       "6  0.700000  2.000000  1.000000  3.605841  2.000000  1.000000  1.000000   \n",
       "7  0.900000  2.000000  2.000000  2.000000  2.684655  0.839482  0.000000   \n",
       "8  1.800000  1.000000  1.000000  2.000000  2.778658  0.807054  0.000000   \n",
       "\n",
       "         C4        C5   S5   S6    C0    C1  \n",
       "0  0.000000  0.000000  NaN   C2  Lime  Jazz  \n",
       "1  1.587384  1.000000   C3  NaN  Cyan  Rock  \n",
       "2  1.375911  2.000000   C2  NaN  Blue   Pop  \n",
       "3  2.000000  0.866582   C3   C1  None  Jazz  \n",
       "4  1.000000  1.643934   C3   C2  None  Rock  \n",
       "5  2.000000  3.000000   C3   C3   Red  None  \n",
       "6  2.000000  3.000000   C1   C3   Red  None  \n",
       "7  1.000000  2.000000   C2   C1  Blue   Pop  \n",
       "8  3.000000  0.000000   C1   C2  Pink  Jazz  "
      ]
     },
     "execution_count": 25,
     "metadata": {},
     "output_type": "execute_result"
    }
   ],
   "source": [
    "df = DF.copy()\n",
    "\n",
    "pickle.dump( df,  open('df_Clean','wb') )  # save\n",
    "df = pickle.load( open('df_Clean','rb') )  # load\n",
    "df"
   ]
  },
  {
   "cell_type": "markdown",
   "id": "5b1d2e74",
   "metadata": {},
   "source": [
    "<span style=\"font-family:Arial; font-weight:Bold; font-size:1.5em; color:#00b3e5;\"> Treating Noise (Outliers) by AODs\n",
    " - Isolation Forest"
   ]
  },
  {
   "cell_type": "code",
   "execution_count": 26,
   "id": "19b8b8a3",
   "metadata": {},
   "outputs": [],
   "source": [
    "from sklearn.ensemble        import IsolationForest"
   ]
  },
  {
   "cell_type": "code",
   "execution_count": 27,
   "id": "2ac1c629",
   "metadata": {
    "scrolled": false
   },
   "outputs": [],
   "source": [
    "df_dirty = df.copy()    \n",
    "\n",
    "X   = df_dirty[ scalar_columns ].values.copy()\n",
    "AOD = IsolationForest( contamination=0.05 ).fit( X )\n",
    "flag_clean = AOD.predict( X ) == +1\n",
    "df_clean   = df_dirty.loc[ flag_clean, : ]\n",
    "df_clean.index = range(df_clean.shape[0])\n",
    "\n",
    "DF = df_clean.copy()"
   ]
  },
  {
   "cell_type": "markdown",
   "id": "6f12cf41",
   "metadata": {},
   "source": [
    "<span style=\"font-family:Arial; font-weight:Bold; font-size:1.5em; color:#00b3e5;\"> Observing Noise (Outliers) Before Vs After Treating by AODs"
   ]
  },
  {
   "cell_type": "code",
   "execution_count": 28,
   "id": "bd9911c1",
   "metadata": {
    "scrolled": true
   },
   "outputs": [
    {
     "data": {
      "image/png": "[encoded data removed]",
      "text/plain": [
       "<Figure size 1300x200 with 1 Axes>"
      ]
     },
     "metadata": {},
     "output_type": "display_data"
    }
   ],
   "source": [
    "df_before = df.copy()\n",
    "df_before['condition']=['Outliers_Untreated']*df_before.shape[0]\n",
    "df_after  = DF.copy()\n",
    "df_after['condition'] =['Outliers_Treated']*df_after.shape[0]\n",
    "df_before_after = pd.concat([df_before,df_after],axis=0)\n",
    "df_before_after.head()\n",
    "\n",
    "x   = 'condition'\n",
    "for y in columns_with_outliers:\n",
    "    Xy = df_before_after[ [x,y] ].copy().dropna().sort_values([x],ascending=[False]) \n",
    "    # BoxPlot\n",
    "    sns.set(rc={'figure.figsize':(13,2)}); sns.set(style='whitegrid')\n",
    "    sns_plot = sns.boxplot( x=x, y=y, data=Xy, linewidth=1.0, palette=['deeppink','dodgerblue'], hue=x, legend=False)\n",
    "    sns_plot.set_xlabel('')\n",
    "    fig = sns_plot.get_figure(); plt.show()"
   ]
  },
  {
   "cell_type": "markdown",
   "id": "dcc38f4d",
   "metadata": {},
   "source": [
    "<span style=\"font-family:Arial; font-weight:Bold; font-size:1.5em; color:#00b3e5;\"> Assigning"
   ]
  },
  {
   "cell_type": "code",
   "execution_count": 29,
   "id": "7c607bdf",
   "metadata": {},
   "outputs": [
    {
     "data": {
      "text/html": [
       "<div>\n",
       "<style scoped>\n",
       "    .dataframe tbody tr th:only-of-type {\n",
       "        vertical-align: middle;\n",
       "    }\n",
       "\n",
       "    .dataframe tbody tr th {\n",
       "        vertical-align: top;\n",
       "    }\n",
       "\n",
       "    .dataframe thead th {\n",
       "        text-align: right;\n",
       "    }\n",
       "</style>\n",
       "<table border=\"1\" class=\"dataframe\">\n",
       "  <thead>\n",
       "    <tr style=\"text-align: right;\">\n",
       "      <th></th>\n",
       "      <th>S0</th>\n",
       "      <th>S1</th>\n",
       "      <th>S2</th>\n",
       "      <th>S3</th>\n",
       "      <th>S4</th>\n",
       "      <th>C2</th>\n",
       "      <th>C3</th>\n",
       "      <th>C4</th>\n",
       "      <th>C5</th>\n",
       "      <th>S5</th>\n",
       "      <th>S6</th>\n",
       "      <th>C0</th>\n",
       "      <th>C1</th>\n",
       "    </tr>\n",
       "  </thead>\n",
       "  <tbody>\n",
       "    <tr>\n",
       "      <th>0</th>\n",
       "      <td>1.726046</td>\n",
       "      <td>1.000000</td>\n",
       "      <td>2.000000</td>\n",
       "      <td>3.000000</td>\n",
       "      <td>3.000000</td>\n",
       "      <td>1.000000</td>\n",
       "      <td>0.197101</td>\n",
       "      <td>0.000000</td>\n",
       "      <td>0.000000</td>\n",
       "      <td>NaN</td>\n",
       "      <td>C2</td>\n",
       "      <td>Lime</td>\n",
       "      <td>Jazz</td>\n",
       "    </tr>\n",
       "    <tr>\n",
       "      <th>1</th>\n",
       "      <td>1.100000</td>\n",
       "      <td>1.383166</td>\n",
       "      <td>1.000000</td>\n",
       "      <td>5.000000</td>\n",
       "      <td>4.000000</td>\n",
       "      <td>0.000000</td>\n",
       "      <td>0.000000</td>\n",
       "      <td>1.587384</td>\n",
       "      <td>1.000000</td>\n",
       "      <td>C3</td>\n",
       "      <td>NaN</td>\n",
       "      <td>Cyan</td>\n",
       "      <td>Rock</td>\n",
       "    </tr>\n",
       "    <tr>\n",
       "      <th>2</th>\n",
       "      <td>2.400000</td>\n",
       "      <td>1.659599</td>\n",
       "      <td>1.000000</td>\n",
       "      <td>4.000000</td>\n",
       "      <td>1.000000</td>\n",
       "      <td>1.000000</td>\n",
       "      <td>0.000000</td>\n",
       "      <td>1.375911</td>\n",
       "      <td>2.000000</td>\n",
       "      <td>C2</td>\n",
       "      <td>NaN</td>\n",
       "      <td>Blue</td>\n",
       "      <td>Pop</td>\n",
       "    </tr>\n",
       "    <tr>\n",
       "      <th>3</th>\n",
       "      <td>2.500000</td>\n",
       "      <td>2.000000</td>\n",
       "      <td>1.351366</td>\n",
       "      <td>5.000000</td>\n",
       "      <td>1.000000</td>\n",
       "      <td>0.000000</td>\n",
       "      <td>1.000000</td>\n",
       "      <td>1.000000</td>\n",
       "      <td>1.643934</td>\n",
       "      <td>C3</td>\n",
       "      <td>C2</td>\n",
       "      <td>None</td>\n",
       "      <td>Rock</td>\n",
       "    </tr>\n",
       "    <tr>\n",
       "      <th>4</th>\n",
       "      <td>0.500000</td>\n",
       "      <td>1.000000</td>\n",
       "      <td>1.000000</td>\n",
       "      <td>3.268055</td>\n",
       "      <td>4.000000</td>\n",
       "      <td>1.000000</td>\n",
       "      <td>0.000000</td>\n",
       "      <td>2.000000</td>\n",
       "      <td>3.000000</td>\n",
       "      <td>C3</td>\n",
       "      <td>C3</td>\n",
       "      <td>Red</td>\n",
       "      <td>None</td>\n",
       "    </tr>\n",
       "    <tr>\n",
       "      <th>5</th>\n",
       "      <td>0.700000</td>\n",
       "      <td>2.000000</td>\n",
       "      <td>1.000000</td>\n",
       "      <td>3.605841</td>\n",
       "      <td>2.000000</td>\n",
       "      <td>1.000000</td>\n",
       "      <td>1.000000</td>\n",
       "      <td>2.000000</td>\n",
       "      <td>3.000000</td>\n",
       "      <td>C1</td>\n",
       "      <td>C3</td>\n",
       "      <td>Red</td>\n",
       "      <td>None</td>\n",
       "    </tr>\n",
       "    <tr>\n",
       "      <th>6</th>\n",
       "      <td>0.900000</td>\n",
       "      <td>2.000000</td>\n",
       "      <td>2.000000</td>\n",
       "      <td>2.000000</td>\n",
       "      <td>2.684655</td>\n",
       "      <td>0.839482</td>\n",
       "      <td>0.000000</td>\n",
       "      <td>1.000000</td>\n",
       "      <td>2.000000</td>\n",
       "      <td>C2</td>\n",
       "      <td>C1</td>\n",
       "      <td>Blue</td>\n",
       "      <td>Pop</td>\n",
       "    </tr>\n",
       "    <tr>\n",
       "      <th>7</th>\n",
       "      <td>1.800000</td>\n",
       "      <td>1.000000</td>\n",
       "      <td>1.000000</td>\n",
       "      <td>2.000000</td>\n",
       "      <td>2.778658</td>\n",
       "      <td>0.807054</td>\n",
       "      <td>0.000000</td>\n",
       "      <td>3.000000</td>\n",
       "      <td>0.000000</td>\n",
       "      <td>C1</td>\n",
       "      <td>C2</td>\n",
       "      <td>Pink</td>\n",
       "      <td>Jazz</td>\n",
       "    </tr>\n",
       "  </tbody>\n",
       "</table>\n",
       "</div>"
      ],
      "text/plain": [
       "         S0        S1        S2        S3        S4        C2        C3  \\\n",
       "0  1.726046  1.000000  2.000000  3.000000  3.000000  1.000000  0.197101   \n",
       "1  1.100000  1.383166  1.000000  5.000000  4.000000  0.000000  0.000000   \n",
       "2  2.400000  1.659599  1.000000  4.000000  1.000000  1.000000  0.000000   \n",
       "3  2.500000  2.000000  1.351366  5.000000  1.000000  0.000000  1.000000   \n",
       "4  0.500000  1.000000  1.000000  3.268055  4.000000  1.000000  0.000000   \n",
       "5  0.700000  2.000000  1.000000  3.605841  2.000000  1.000000  1.000000   \n",
       "6  0.900000  2.000000  2.000000  2.000000  2.684655  0.839482  0.000000   \n",
       "7  1.800000  1.000000  1.000000  2.000000  2.778658  0.807054  0.000000   \n",
       "\n",
       "         C4        C5   S5   S6    C0    C1  \n",
       "0  0.000000  0.000000  NaN   C2  Lime  Jazz  \n",
       "1  1.587384  1.000000   C3  NaN  Cyan  Rock  \n",
       "2  1.375911  2.000000   C2  NaN  Blue   Pop  \n",
       "3  1.000000  1.643934   C3   C2  None  Rock  \n",
       "4  2.000000  3.000000   C3   C3   Red  None  \n",
       "5  2.000000  3.000000   C1   C3   Red  None  \n",
       "6  1.000000  2.000000   C2   C1  Blue   Pop  \n",
       "7  3.000000  0.000000   C1   C2  Pink  Jazz  "
      ]
     },
     "execution_count": 29,
     "metadata": {},
     "output_type": "execute_result"
    }
   ],
   "source": [
    "df = DF.copy()  \n",
    "\n",
    "pickle.dump( df,  open('df_Clean','wb') )  # save\n",
    "df = pickle.load( open('df_Clean','rb') )  # load\n",
    "df"
   ]
  },
  {
   "cell_type": "markdown",
   "id": "da21dbc0",
   "metadata": {},
   "source": [
    "#####   "
   ]
  },
  {
   "cell_type": "markdown",
   "id": "335bf2a9",
   "metadata": {},
   "source": [
    "<span style=\"font-family:Arial; font-weight:Bold; font-size:1.5em; color:#00b3e5;\"> Feature Selection - Variation of Distributions ( Variance or Standard Deviation )\n",
    " - Good Variance > 0.1\n",
    " - Good STD > 0.3"
   ]
  },
  {
   "cell_type": "code",
   "execution_count": 76,
   "id": "a4b14a00",
   "metadata": {
    "scrolled": false
   },
   "outputs": [
    {
     "data": {
      "text/plain": [
       "C5    1.178309\n",
       "S4    1.170160\n",
       "S3    1.168822\n",
       "C4    0.888246\n",
       "S0    0.764724\n",
       "S1    0.468873\n",
       "C3    0.452839\n",
       "S2    0.452350\n",
       "C2    0.442500\n",
       "dtype: float64"
      ]
     },
     "execution_count": 76,
     "metadata": {},
     "output_type": "execute_result"
    }
   ],
   "source": [
    "SDs = df.std().sort_values(ascending=False)\n",
    "SDs "
   ]
  },
  {
   "cell_type": "markdown",
   "id": "d9f6f2e2",
   "metadata": {},
   "source": [
    "<span style=\"font-family:Arial; font-weight:Bold; font-size:1.5em; color:deeppink;\"> High SDs, Low SDs"
   ]
  },
  {
   "cell_type": "code",
   "execution_count": 78,
   "id": "a8c479e8",
   "metadata": {},
   "outputs": [
    {
     "name": "stdout",
     "output_type": "stream",
     "text": [
      "\n",
      " High-SD features: \n",
      " ['C5', 'S4', 'S3', 'C4', 'S0', 'S1', 'C3', 'S2', 'C2']\n",
      "\n",
      " Low-SD  features: \n",
      " []\n"
     ]
    }
   ],
   "source": [
    "Threshhold = 0.3\n",
    "\n",
    "High_SD_features = list( SDs[ SDs>=Threshhold ] .index )\n",
    "Low_SD_features  = list( SDs[ SDs< Threshhold ] .index )\n",
    "\n",
    "print( '\\n High-SD features: \\n', High_SD_features )\n",
    "print( '\\n Low-SD  features: \\n', Low_SD_features  )"
   ]
  },
  {
   "cell_type": "markdown",
   "id": "74cbaee7",
   "metadata": {},
   "source": [
    "<span style=\"font-family:Arial; font-weight:Bold; font-size:1.5em; color:deeppink;\"> Findings Report\n",
    " - The feature **Pedi** has very low variation in distribution. Thus it has little use and should be removed.\n",
    " - The feature **Class** also has low variation which suggests count of one of the classes prevails the rest, but, as it is the **tatget columns**, it will be kept."
   ]
  },
  {
   "cell_type": "markdown",
   "id": "29697e39",
   "metadata": {},
   "source": [
    "<span style=\"font-family:Arial; font-weight:Bold; font-size:1.5em; color:deeppink;\"> Sorting Features Based on Variation"
   ]
  },
  {
   "cell_type": "code",
   "execution_count": 79,
   "id": "a3d637df",
   "metadata": {},
   "outputs": [],
   "source": [
    "df = df[ list( SDs.index ) ]"
   ]
  },
  {
   "cell_type": "markdown",
   "id": "e22442cf",
   "metadata": {},
   "source": [
    "<span style=\"font-family:Arial; font-weight:Bold; font-size:1.5em; color:deeppink;\"> Dropping Low-Variation Features"
   ]
  },
  {
   "cell_type": "code",
   "execution_count": 83,
   "id": "e9baf4a4",
   "metadata": {
    "scrolled": true
   },
   "outputs": [
    {
     "data": {
      "text/plain": [
       "['C5', 'S4', 'S3', 'C4', 'S0', 'S1', 'C3', 'S2', 'C2']"
      ]
     },
     "execution_count": 83,
     "metadata": {},
     "output_type": "execute_result"
    }
   ],
   "source": [
    "df.drop(Low_SD_features,axis=1,inplace=True)\n",
    "df.columns.to_list()"
   ]
  },
  {
   "cell_type": "markdown",
   "id": "747c60d2",
   "metadata": {},
   "source": [
    "#####   "
   ]
  },
  {
   "cell_type": "markdown",
   "id": "aded8011",
   "metadata": {},
   "source": [
    "<span style=\"font-family:Arial; font-weight:Bold; font-size:1.5em; color:#00b3e5;\"> Feature Selection - Heat-Map of Correlations\n",
    " - As the data is cleaned, **Pearson's r** correlation method can be used."
   ]
  },
  {
   "cell_type": "code",
   "execution_count": 59,
   "id": "66980d03",
   "metadata": {},
   "outputs": [],
   "source": [
    "estimated_column = 'C2'"
   ]
  },
  {
   "cell_type": "code",
   "execution_count": 60,
   "id": "fade6f41",
   "metadata": {},
   "outputs": [
    {
     "data": {
      "image/png": "[encoded data removed]",
      "text/plain": [
       "<Figure size 1300x1300 with 2 Axes>"
      ]
     },
     "metadata": {},
     "output_type": "display_data"
    }
   ],
   "source": [
    "Corr = df.loc[:, df.dtypes != 'object'].copy().corr('pearson')\n",
    "Corr.sort_values([estimated_column],ascending=[False],inplace=True)\n",
    "Corr = Corr.T\n",
    "Corr.sort_values([estimated_column],ascending=[False],inplace=True)\n",
    "\n",
    "fig,ax = plt.subplots(figsize=(13,13))\n",
    "sns_plot = sns.heatmap( Corr, mask=np.zeros_like(Corr,dtype=bool), \n",
    "                        cmap='coolwarm',\n",
    "                        square=True, ax=ax, annot=True, center=0.00 )\n",
    "plt.show()"
   ]
  },
  {
   "cell_type": "code",
   "execution_count": 61,
   "id": "1637c4aa",
   "metadata": {},
   "outputs": [
    {
     "name": "stdout",
     "output_type": "stream",
     "text": [
      "\n",
      " strongly-correlated features: \n",
      " ['C2']\n",
      "\n",
      " weakly-correlated features: \n",
      " ['S4']\n"
     ]
    }
   ],
   "source": [
    "Threshhold = 0.05\n",
    "\n",
    "strongly_correlated_features = list( Corr[ abs(Corr[estimated_column]) >   0.70     ].index )\n",
    "weakly_correlated_features   = list( Corr[ abs(Corr[estimated_column]) < Threshhold ].index )\n",
    "\n",
    "print( '\\n strongly-correlated features: \\n', strongly_correlated_features )\n",
    "print( '\\n weakly-correlated features: \\n'  , weakly_correlated_features   )"
   ]
  },
  {
   "cell_type": "markdown",
   "id": "b7c85a9a",
   "metadata": {},
   "source": [
    "<span style=\"font-family:Arial; font-weight:Bold; font-size:1.5em; color:deeppink;\"> Findings Report\n",
    "    \n",
    " - Correlation of any feature to **Target Column: Class** is less than 70%\n",
    " - **linear models** **( LinearSVC, LogisticRegression, PassiveAggressive, Perceptron, Ridge, SGD, SGDOneClassSVM )**, \n",
    "   will have weak performane.\n",
    " - **Nonlinear Models** like **Decision Tree** Should be used.\n",
    "** **\n",
    " - None of features are less than 1% correlated to **Target Column: Class** and can be kept."
   ]
  },
  {
   "cell_type": "markdown",
   "id": "8d976bc8",
   "metadata": {},
   "source": [
    "<span style=\"font-family:Arial; font-weight:Bold; font-size:1.5em; color:deeppink;\"> Sorting Features Based on Correlation"
   ]
  },
  {
   "cell_type": "code",
   "execution_count": 62,
   "id": "704f51c8",
   "metadata": {},
   "outputs": [
    {
     "data": {
      "text/html": [
       "<div>\n",
       "<style scoped>\n",
       "    .dataframe tbody tr th:only-of-type {\n",
       "        vertical-align: middle;\n",
       "    }\n",
       "\n",
       "    .dataframe tbody tr th {\n",
       "        vertical-align: top;\n",
       "    }\n",
       "\n",
       "    .dataframe thead th {\n",
       "        text-align: right;\n",
       "    }\n",
       "</style>\n",
       "<table border=\"1\" class=\"dataframe\">\n",
       "  <thead>\n",
       "    <tr style=\"text-align: right;\">\n",
       "      <th></th>\n",
       "      <th>C2</th>\n",
       "      <th>C5</th>\n",
       "      <th>S2</th>\n",
       "      <th>C4</th>\n",
       "      <th>S4</th>\n",
       "      <th>S1</th>\n",
       "      <th>C3</th>\n",
       "      <th>S0</th>\n",
       "      <th>S3</th>\n",
       "    </tr>\n",
       "  </thead>\n",
       "  <tbody>\n",
       "    <tr>\n",
       "      <th>0</th>\n",
       "      <td>1.000000</td>\n",
       "      <td>0.000000</td>\n",
       "      <td>2.000000</td>\n",
       "      <td>0.000000</td>\n",
       "      <td>3.000000</td>\n",
       "      <td>1.000000</td>\n",
       "      <td>0.197101</td>\n",
       "      <td>1.726046</td>\n",
       "      <td>3.000000</td>\n",
       "    </tr>\n",
       "    <tr>\n",
       "      <th>1</th>\n",
       "      <td>0.000000</td>\n",
       "      <td>1.000000</td>\n",
       "      <td>1.000000</td>\n",
       "      <td>1.587384</td>\n",
       "      <td>4.000000</td>\n",
       "      <td>1.383166</td>\n",
       "      <td>0.000000</td>\n",
       "      <td>1.100000</td>\n",
       "      <td>5.000000</td>\n",
       "    </tr>\n",
       "    <tr>\n",
       "      <th>2</th>\n",
       "      <td>1.000000</td>\n",
       "      <td>2.000000</td>\n",
       "      <td>1.000000</td>\n",
       "      <td>1.375911</td>\n",
       "      <td>1.000000</td>\n",
       "      <td>1.659599</td>\n",
       "      <td>0.000000</td>\n",
       "      <td>2.400000</td>\n",
       "      <td>4.000000</td>\n",
       "    </tr>\n",
       "    <tr>\n",
       "      <th>3</th>\n",
       "      <td>0.000000</td>\n",
       "      <td>1.643934</td>\n",
       "      <td>1.351366</td>\n",
       "      <td>1.000000</td>\n",
       "      <td>1.000000</td>\n",
       "      <td>2.000000</td>\n",
       "      <td>1.000000</td>\n",
       "      <td>2.500000</td>\n",
       "      <td>5.000000</td>\n",
       "    </tr>\n",
       "    <tr>\n",
       "      <th>4</th>\n",
       "      <td>1.000000</td>\n",
       "      <td>3.000000</td>\n",
       "      <td>1.000000</td>\n",
       "      <td>2.000000</td>\n",
       "      <td>4.000000</td>\n",
       "      <td>1.000000</td>\n",
       "      <td>0.000000</td>\n",
       "      <td>0.500000</td>\n",
       "      <td>3.268055</td>\n",
       "    </tr>\n",
       "    <tr>\n",
       "      <th>5</th>\n",
       "      <td>1.000000</td>\n",
       "      <td>3.000000</td>\n",
       "      <td>1.000000</td>\n",
       "      <td>2.000000</td>\n",
       "      <td>2.000000</td>\n",
       "      <td>2.000000</td>\n",
       "      <td>1.000000</td>\n",
       "      <td>0.700000</td>\n",
       "      <td>3.605841</td>\n",
       "    </tr>\n",
       "    <tr>\n",
       "      <th>6</th>\n",
       "      <td>0.839482</td>\n",
       "      <td>2.000000</td>\n",
       "      <td>2.000000</td>\n",
       "      <td>1.000000</td>\n",
       "      <td>2.684655</td>\n",
       "      <td>2.000000</td>\n",
       "      <td>0.000000</td>\n",
       "      <td>0.900000</td>\n",
       "      <td>2.000000</td>\n",
       "    </tr>\n",
       "    <tr>\n",
       "      <th>7</th>\n",
       "      <td>0.807054</td>\n",
       "      <td>0.000000</td>\n",
       "      <td>1.000000</td>\n",
       "      <td>3.000000</td>\n",
       "      <td>2.778658</td>\n",
       "      <td>1.000000</td>\n",
       "      <td>0.000000</td>\n",
       "      <td>1.800000</td>\n",
       "      <td>2.000000</td>\n",
       "    </tr>\n",
       "  </tbody>\n",
       "</table>\n",
       "</div>"
      ],
      "text/plain": [
       "         C2        C5        S2        C4        S4        S1        C3  \\\n",
       "0  1.000000  0.000000  2.000000  0.000000  3.000000  1.000000  0.197101   \n",
       "1  0.000000  1.000000  1.000000  1.587384  4.000000  1.383166  0.000000   \n",
       "2  1.000000  2.000000  1.000000  1.375911  1.000000  1.659599  0.000000   \n",
       "3  0.000000  1.643934  1.351366  1.000000  1.000000  2.000000  1.000000   \n",
       "4  1.000000  3.000000  1.000000  2.000000  4.000000  1.000000  0.000000   \n",
       "5  1.000000  3.000000  1.000000  2.000000  2.000000  2.000000  1.000000   \n",
       "6  0.839482  2.000000  2.000000  1.000000  2.684655  2.000000  0.000000   \n",
       "7  0.807054  0.000000  1.000000  3.000000  2.778658  1.000000  0.000000   \n",
       "\n",
       "         S0        S3  \n",
       "0  1.726046  3.000000  \n",
       "1  1.100000  5.000000  \n",
       "2  2.400000  4.000000  \n",
       "3  2.500000  5.000000  \n",
       "4  0.500000  3.268055  \n",
       "5  0.700000  3.605841  \n",
       "6  0.900000  2.000000  \n",
       "7  1.800000  2.000000  "
      ]
     },
     "execution_count": 62,
     "metadata": {},
     "output_type": "execute_result"
    }
   ],
   "source": [
    "df = df[ list(Corr.columns) ]\n",
    "df"
   ]
  },
  {
   "cell_type": "markdown",
   "id": "6bc9f982",
   "metadata": {},
   "source": [
    "<span style=\"font-family:Arial; font-weight:Bold; font-size:1.5em; color:deeppink;\"> Dropping Weakly-Correlated Features"
   ]
  },
  {
   "cell_type": "code",
   "execution_count": 63,
   "id": "07f9d3bf",
   "metadata": {
    "scrolled": false
   },
   "outputs": [],
   "source": [
    "#df.drop( weakly_correlated, axis=1, inplace=True )\n",
    "#df.columns.to_list()"
   ]
  },
  {
   "cell_type": "markdown",
   "id": "8c8f18f6",
   "metadata": {},
   "source": [
    "#####   "
   ]
  },
  {
   "cell_type": "markdown",
   "id": "c31d0914",
   "metadata": {},
   "source": [
    "<span style=\"font-family:Arial; font-weight:Bold; font-size:1.5em; color:#00b3e5;\"> Feature Selection - Chi-Squared Test"
   ]
  },
  {
   "cell_type": "code",
   "execution_count": 64,
   "id": "61b860cc",
   "metadata": {},
   "outputs": [],
   "source": [
    "from sklearn.feature_selection import chi2"
   ]
  },
  {
   "cell_type": "code",
   "execution_count": 65,
   "id": "4bc503a2",
   "metadata": {
    "scrolled": true
   },
   "outputs": [],
   "source": [
    "''' \n",
    "DF = df.loc[ :, DF.dtypes != 'object' ].copy()\n",
    "\n",
    "X = DF.drop( [estimated_column], axis=1 )  \n",
    "y = DF[estimated_column]\n",
    "X_pvals = chi2(X,y)\n",
    "\n",
    "# feature p values\n",
    "# p value <= 0.05  means  strong feature\n",
    "ft_pvals = pd.Series( X_pvals[1] )\n",
    "ft_pvals.index = X.columns\n",
    "\n",
    "# important & unimportant features\n",
    "important_features   = list( ft_pvals[ft_pvals<=0.05].sort_values( ascending=True ).index )\n",
    "unimportant_features = list( ft_pvals[ft_pvals> 0.05].sort_values( ascending=True ).index )\n",
    "\n",
    "print( '\\nChi-Squares P-Value Results:\\n' )\n",
    "print( (pd.DataFrame(ft_pvals,columns=['P_Value'])).sort_values(['P_Value']) )\n",
    "print( '\\n  Important_features:',   important_features )\n",
    "print( '\\nUnImportant_features:', unimportant_features )\n",
    "''' \n",
    "pass"
   ]
  },
  {
   "cell_type": "markdown",
   "id": "648744fb",
   "metadata": {},
   "source": [
    "<span style=\"font-family:Arial; font-weight:Bold; font-size:1.5em; color:deeppink;\"> Findings Report \n",
    " - All Features Pass the Chi-Squared Test and are Important"
   ]
  },
  {
   "cell_type": "markdown",
   "id": "0b08e1ce",
   "metadata": {},
   "source": [
    "<span style=\"font-family:Arial; font-weight:Bold; font-size:1.5em; color:deeppink;\"> Dropping Unimportant Features"
   ]
  },
  {
   "cell_type": "code",
   "execution_count": 66,
   "id": "b0eff0f4",
   "metadata": {
    "scrolled": true
   },
   "outputs": [],
   "source": [
    "#df.drop( unimportant_features, axis=1, inplace=True )\n",
    "#df.columns.to_list()"
   ]
  },
  {
   "cell_type": "markdown",
   "id": "2f47b31a",
   "metadata": {},
   "source": [
    "#####   "
   ]
  },
  {
   "cell_type": "markdown",
   "id": "88398ea6",
   "metadata": {},
   "source": [
    "<span style=\"font-family:Arial; font-weight:Bold; font-size:1.5em; color:#00b3e5;\"> (Classification Only) --- Pair-Plot"
   ]
  },
  {
   "cell_type": "code",
   "execution_count": 67,
   "id": "ffa1a6d9",
   "metadata": {},
   "outputs": [],
   "source": [
    "estimated_column = 'C2'"
   ]
  },
  {
   "cell_type": "code",
   "execution_count": 68,
   "id": "0fd4dfcf",
   "metadata": {},
   "outputs": [
    {
     "data": {
      "image/png": "[encoded data removed]",
      "text/plain": [
       "<Figure size 2203.75x2000 with 72 Axes>"
      ]
     },
     "metadata": {},
     "output_type": "display_data"
    }
   ],
   "source": [
    "sns.pairplot( df, hue=estimated_column, diag_kind='kde', palette=['dodgerblue','deeppink','lime','red'] )\n",
    "plt.show()"
   ]
  },
  {
   "cell_type": "markdown",
   "id": "6305e2f8",
   "metadata": {},
   "source": [
    "#####   "
   ]
  },
  {
   "cell_type": "markdown",
   "id": "16123222",
   "metadata": {},
   "source": [
    "#####   "
   ]
  }
 ],
 "metadata": {
  "kernelspec": {
   "display_name": "Python 3 (ipykernel)",
   "language": "python",
   "name": "python3"
  },
  "language_info": {
   "codemirror_mode": {
    "name": "ipython",
    "version": 3
   },
   "file_extension": ".py",
   "mimetype": "text/x-python",
   "name": "python",
   "nbconvert_exporter": "python",
   "pygments_lexer": "ipython3",
   "version": "3.10.13"
  }
 },
 "nbformat": 4,
 "nbformat_minor": 5
}
