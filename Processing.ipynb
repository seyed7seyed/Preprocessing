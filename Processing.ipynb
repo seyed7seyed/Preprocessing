{
 "cells": [
  {
   "cell_type": "markdown",
   "metadata": {},
   "source": [
    "<span style=\"font-family:Arial; font-weight:Bold; font-size:2.3em; color:#00b3e5;\"> Decicion Tree Classifier\n",
    " - <span style=\"color:dodgerblue;\"> **Pros:**\n",
    "   - <span style=\"color:black;\"> Handling Imbalance ( class_weight={1:N} )\n",
    "   - <span style=\"color:black;\"> Fast Learner\n",
    "   - <span style=\"color:black;\"> Decision Tree Plot\n",
    " - <span style=\"color:deeppink;\"> **Cons:**\n",
    "   - <span style=\"color:black;\"> Low Accuracy"
   ]
  },
  {
   "cell_type": "markdown",
   "metadata": {},
   "source": [
    "<span style=\"font-family:Arial; font-weight:Bold; font-size:1.8em; color:#00b3e5;\"> Objective:\n",
    " - To detect diabetes using Decision Tree Classifier and Ensemble Methods"
   ]
  },
  {
   "cell_type": "markdown",
   "metadata": {},
   "source": [
    "<span style=\"font-family:Arial; font-weight:Bold; font-size:1.8em; color:#00b3e5;\"> Loading Libraries"
   ]
  },
  {
   "cell_type": "code",
   "execution_count": 1,
   "metadata": {},
   "outputs": [],
   "source": [
    "import time, pickle\n",
    "import pyts\n",
    "import numpy  as np\n",
    "from   numpy import mean, std\n",
    "\n",
    "import pandas as pd\n",
    "pd.set_option('display.max_rows',200)\n",
    "pd.set_option('display.max_columns',None)\n",
    "\n",
    "from matplotlib import pyplot as plt\n",
    "\n",
    "import seaborn as sns\n",
    "sns.set(style=\"ticks\", color_codes=True)\n",
    " \n",
    "from sklearn.metrics import accuracy_score, confusion_matrix, classification_report \n",
    "from imblearn.combine        import SMOTETomek, SMOTEENN\n",
    "from imblearn.over_sampling  import SMOTE\n",
    "\n",
    "from sklearn.impute          import KNNImputer \n",
    "from sklearn.ensemble        import IsolationForest\n",
    "\n",
    "from sklearn.feature_selection import chi2\n",
    "\n",
    "from sklearn.preprocessing   import LabelEncoder, StandardScaler, MinMaxScaler\n",
    "from sklearn.preprocessing   import MaxAbsScaler, PowerTransformer, FunctionTransformer\n",
    "from sklearn.model_selection import train_test_split, StratifiedKFold, RepeatedStratifiedKFold, cross_val_score\n",
    "\n",
    "from sklearn.metrics         import accuracy_score, recall_score, precision_score\n",
    "from sklearn.metrics         import classification_report, ConfusionMatrixDisplay\n",
    "\n",
    "from sklearn.linear_model    import LogisticRegression\n",
    "from sklearn.tree            import DecisionTreeClassifier \n",
    "from sklearn.tree            import plot_tree\n",
    "\n",
    "from sklearn.ensemble        import GradientBoostingClassifier, AdaBoostClassifier, BaggingClassifier\n",
    "from imblearn.ensemble       import EasyEnsembleClassifier \n",
    "\n",
    "from sklearn.ensemble        import StackingClassifier, VotingClassifier\n",
    "\n",
    "import warnings \n",
    "warnings.filterwarnings('ignore') "
   ]
  },
  {
   "cell_type": "markdown",
   "metadata": {},
   "source": [
    "#####   \n",
    "<span style=\"font-family:Arial; font-weight:Bold; font-size:1.8em; color:#00b3e5;\"> Importing Dataset"
   ]
  },
  {
   "cell_type": "code",
   "execution_count": 2,
   "metadata": {},
   "outputs": [
    {
     "name": "stdout",
     "output_type": "stream",
     "text": [
      "there are 8 rows and 13 columns.\n"
     ]
    },
    {
     "data": {
      "text/html": [
       "<div>\n",
       "<style scoped>\n",
       "    .dataframe tbody tr th:only-of-type {\n",
       "        vertical-align: middle;\n",
       "    }\n",
       "\n",
       "    .dataframe tbody tr th {\n",
       "        vertical-align: top;\n",
       "    }\n",
       "\n",
       "    .dataframe thead th {\n",
       "        text-align: right;\n",
       "    }\n",
       "</style>\n",
       "<table border=\"1\" class=\"dataframe\">\n",
       "  <thead>\n",
       "    <tr style=\"text-align: right;\">\n",
       "      <th></th>\n",
       "      <th>S0</th>\n",
       "      <th>S1</th>\n",
       "      <th>S2</th>\n",
       "      <th>S3</th>\n",
       "      <th>S4</th>\n",
       "      <th>C2</th>\n",
       "      <th>C3</th>\n",
       "      <th>C4</th>\n",
       "      <th>C5</th>\n",
       "      <th>S5</th>\n",
       "      <th>S6</th>\n",
       "      <th>C0</th>\n",
       "      <th>C1</th>\n",
       "    </tr>\n",
       "  </thead>\n",
       "  <tbody>\n",
       "    <tr>\n",
       "      <th>0</th>\n",
       "      <td>1.716680</td>\n",
       "      <td>1.000000</td>\n",
       "      <td>2.000000</td>\n",
       "      <td>3.000000</td>\n",
       "      <td>3.000000</td>\n",
       "      <td>1.000000</td>\n",
       "      <td>0.197101</td>\n",
       "      <td>0.000000</td>\n",
       "      <td>0.000000</td>\n",
       "      <td>NaN</td>\n",
       "      <td>C2</td>\n",
       "      <td>Lime</td>\n",
       "      <td>Jazz</td>\n",
       "    </tr>\n",
       "    <tr>\n",
       "      <th>1</th>\n",
       "      <td>1.100000</td>\n",
       "      <td>1.389134</td>\n",
       "      <td>1.000000</td>\n",
       "      <td>5.000000</td>\n",
       "      <td>4.000000</td>\n",
       "      <td>0.000000</td>\n",
       "      <td>0.000000</td>\n",
       "      <td>1.581701</td>\n",
       "      <td>1.000000</td>\n",
       "      <td>C3</td>\n",
       "      <td>NaN</td>\n",
       "      <td>Cyan</td>\n",
       "      <td>Rock</td>\n",
       "    </tr>\n",
       "    <tr>\n",
       "      <th>2</th>\n",
       "      <td>2.400000</td>\n",
       "      <td>1.657590</td>\n",
       "      <td>1.000000</td>\n",
       "      <td>4.000000</td>\n",
       "      <td>1.000000</td>\n",
       "      <td>1.000000</td>\n",
       "      <td>0.000000</td>\n",
       "      <td>1.378129</td>\n",
       "      <td>2.000000</td>\n",
       "      <td>C2</td>\n",
       "      <td>NaN</td>\n",
       "      <td>Blue</td>\n",
       "      <td>Pop</td>\n",
       "    </tr>\n",
       "    <tr>\n",
       "      <th>3</th>\n",
       "      <td>1.167526</td>\n",
       "      <td>2.000000</td>\n",
       "      <td>1.179369</td>\n",
       "      <td>5.000000</td>\n",
       "      <td>1.000000</td>\n",
       "      <td>0.000000</td>\n",
       "      <td>1.000000</td>\n",
       "      <td>1.000000</td>\n",
       "      <td>1.846123</td>\n",
       "      <td>C3</td>\n",
       "      <td>C2</td>\n",
       "      <td>None</td>\n",
       "      <td>Rock</td>\n",
       "    </tr>\n",
       "    <tr>\n",
       "      <th>4</th>\n",
       "      <td>0.500000</td>\n",
       "      <td>1.000000</td>\n",
       "      <td>1.000000</td>\n",
       "      <td>2.994865</td>\n",
       "      <td>4.000000</td>\n",
       "      <td>1.000000</td>\n",
       "      <td>0.000000</td>\n",
       "      <td>2.000000</td>\n",
       "      <td>3.000000</td>\n",
       "      <td>C3</td>\n",
       "      <td>C3</td>\n",
       "      <td>Red</td>\n",
       "      <td>None</td>\n",
       "    </tr>\n",
       "    <tr>\n",
       "      <th>5</th>\n",
       "      <td>0.700000</td>\n",
       "      <td>2.000000</td>\n",
       "      <td>1.000000</td>\n",
       "      <td>3.644769</td>\n",
       "      <td>2.000000</td>\n",
       "      <td>1.000000</td>\n",
       "      <td>1.000000</td>\n",
       "      <td>2.000000</td>\n",
       "      <td>3.000000</td>\n",
       "      <td>C1</td>\n",
       "      <td>C3</td>\n",
       "      <td>Red</td>\n",
       "      <td>None</td>\n",
       "    </tr>\n",
       "    <tr>\n",
       "      <th>6</th>\n",
       "      <td>0.900000</td>\n",
       "      <td>2.000000</td>\n",
       "      <td>2.000000</td>\n",
       "      <td>2.000000</td>\n",
       "      <td>2.928060</td>\n",
       "      <td>0.807191</td>\n",
       "      <td>0.000000</td>\n",
       "      <td>1.000000</td>\n",
       "      <td>2.000000</td>\n",
       "      <td>C2</td>\n",
       "      <td>C1</td>\n",
       "      <td>Blue</td>\n",
       "      <td>Pop</td>\n",
       "    </tr>\n",
       "    <tr>\n",
       "      <th>7</th>\n",
       "      <td>1.800000</td>\n",
       "      <td>1.000000</td>\n",
       "      <td>1.000000</td>\n",
       "      <td>2.000000</td>\n",
       "      <td>3.129929</td>\n",
       "      <td>0.567104</td>\n",
       "      <td>0.000000</td>\n",
       "      <td>3.000000</td>\n",
       "      <td>0.000000</td>\n",
       "      <td>C1</td>\n",
       "      <td>C2</td>\n",
       "      <td>Pink</td>\n",
       "      <td>Jazz</td>\n",
       "    </tr>\n",
       "  </tbody>\n",
       "</table>\n",
       "</div>"
      ],
      "text/plain": [
       "         S0        S1        S2        S3        S4        C2        C3  \\\n",
       "0  1.716680  1.000000  2.000000  3.000000  3.000000  1.000000  0.197101   \n",
       "1  1.100000  1.389134  1.000000  5.000000  4.000000  0.000000  0.000000   \n",
       "2  2.400000  1.657590  1.000000  4.000000  1.000000  1.000000  0.000000   \n",
       "3  1.167526  2.000000  1.179369  5.000000  1.000000  0.000000  1.000000   \n",
       "4  0.500000  1.000000  1.000000  2.994865  4.000000  1.000000  0.000000   \n",
       "5  0.700000  2.000000  1.000000  3.644769  2.000000  1.000000  1.000000   \n",
       "6  0.900000  2.000000  2.000000  2.000000  2.928060  0.807191  0.000000   \n",
       "7  1.800000  1.000000  1.000000  2.000000  3.129929  0.567104  0.000000   \n",
       "\n",
       "         C4        C5   S5   S6    C0    C1  \n",
       "0  0.000000  0.000000  NaN   C2  Lime  Jazz  \n",
       "1  1.581701  1.000000   C3  NaN  Cyan  Rock  \n",
       "2  1.378129  2.000000   C2  NaN  Blue   Pop  \n",
       "3  1.000000  1.846123   C3   C2  None  Rock  \n",
       "4  2.000000  3.000000   C3   C3   Red  None  \n",
       "5  2.000000  3.000000   C1   C3   Red  None  \n",
       "6  1.000000  2.000000   C2   C1  Blue   Pop  \n",
       "7  3.000000  0.000000   C1   C2  Pink  Jazz  "
      ]
     },
     "execution_count": 2,
     "metadata": {},
     "output_type": "execute_result"
    }
   ],
   "source": [
    "data = pickle.load( open('df_Clean','rb') )  # load\n",
    "print(f'there are {data.shape[0]} rows and {data.shape[1]} columns.')\n",
    "data "
   ]
  },
  {
   "cell_type": "code",
   "execution_count": 3,
   "metadata": {
    "scrolled": true
   },
   "outputs": [],
   "source": [
    "# (input) importing Raw data\n",
    "\n",
    "data_set_name    = 'Pima_Diabetes'\n",
    "estimated_column = 'S6'\n",
    "\n",
    "data_file        = 'Pima_Diabetes.csv'\n",
    "data_sheet       = 'Pima_Diabetes'\n",
    "\n",
    "# needed parameters \n",
    "RANDOM_STATE     =  3\n",
    "SCORING          = 'accuracy'\n",
    "\n",
    "# (auto)\n",
    "#data = pd.read_csv( data_file, header=0 ) # , delimiter=','\n",
    "#print(f'there are {data.shape[0]} rows and {data.shape[1]} columns.')"
   ]
  },
  {
   "cell_type": "code",
   "execution_count": 4,
   "metadata": {
    "scrolled": false
   },
   "outputs": [],
   "source": [
    "data = data.dropna( subset=[estimated_column] ) "
   ]
  },
  {
   "cell_type": "code",
   "execution_count": 81,
   "metadata": {},
   "outputs": [
    {
     "data": {
      "text/plain": [
       "['C1', 'C2', 'C3']"
      ]
     },
     "execution_count": 81,
     "metadata": {},
     "output_type": "execute_result"
    }
   ],
   "source": [
    "Classes = list( data[estimated_column].unique() )\n",
    "Classes.sort()\n",
    "Classes"
   ]
  },
  {
   "cell_type": "markdown",
   "metadata": {},
   "source": [
    "#####   \n",
    "<span style=\"font-family:Arial; font-weight:Bold; font-size:1.8em; color:#00b3e5;\"> Delete This"
   ]
  },
  {
   "cell_type": "code",
   "execution_count": 6,
   "metadata": {
    "scrolled": true
   },
   "outputs": [
    {
     "data": {
      "text/html": [
       "<div>\n",
       "<style scoped>\n",
       "    .dataframe tbody tr th:only-of-type {\n",
       "        vertical-align: middle;\n",
       "    }\n",
       "\n",
       "    .dataframe tbody tr th {\n",
       "        vertical-align: top;\n",
       "    }\n",
       "\n",
       "    .dataframe thead th {\n",
       "        text-align: right;\n",
       "    }\n",
       "</style>\n",
       "<table border=\"1\" class=\"dataframe\">\n",
       "  <thead>\n",
       "    <tr style=\"text-align: right;\">\n",
       "      <th></th>\n",
       "      <th>S0</th>\n",
       "      <th>S1</th>\n",
       "      <th>S2</th>\n",
       "      <th>S3</th>\n",
       "      <th>S4</th>\n",
       "      <th>C2</th>\n",
       "      <th>C3</th>\n",
       "      <th>C4</th>\n",
       "      <th>C5</th>\n",
       "      <th>S5</th>\n",
       "      <th>S6</th>\n",
       "      <th>C0</th>\n",
       "      <th>C1</th>\n",
       "    </tr>\n",
       "  </thead>\n",
       "  <tbody>\n",
       "    <tr>\n",
       "      <th>145</th>\n",
       "      <td>1.167526</td>\n",
       "      <td>2.0</td>\n",
       "      <td>1.179369</td>\n",
       "      <td>5.000000</td>\n",
       "      <td>1.000000</td>\n",
       "      <td>0.000000</td>\n",
       "      <td>1.0</td>\n",
       "      <td>1.0</td>\n",
       "      <td>1.846123</td>\n",
       "      <td>C3</td>\n",
       "      <td>C2</td>\n",
       "      <td>None</td>\n",
       "      <td>Rock</td>\n",
       "    </tr>\n",
       "    <tr>\n",
       "      <th>146</th>\n",
       "      <td>0.500000</td>\n",
       "      <td>1.0</td>\n",
       "      <td>1.000000</td>\n",
       "      <td>2.994865</td>\n",
       "      <td>4.000000</td>\n",
       "      <td>1.000000</td>\n",
       "      <td>0.0</td>\n",
       "      <td>2.0</td>\n",
       "      <td>3.000000</td>\n",
       "      <td>C3</td>\n",
       "      <td>C3</td>\n",
       "      <td>Red</td>\n",
       "      <td>None</td>\n",
       "    </tr>\n",
       "    <tr>\n",
       "      <th>147</th>\n",
       "      <td>0.700000</td>\n",
       "      <td>2.0</td>\n",
       "      <td>1.000000</td>\n",
       "      <td>3.644769</td>\n",
       "      <td>2.000000</td>\n",
       "      <td>1.000000</td>\n",
       "      <td>1.0</td>\n",
       "      <td>2.0</td>\n",
       "      <td>3.000000</td>\n",
       "      <td>C1</td>\n",
       "      <td>C3</td>\n",
       "      <td>Red</td>\n",
       "      <td>None</td>\n",
       "    </tr>\n",
       "    <tr>\n",
       "      <th>148</th>\n",
       "      <td>0.900000</td>\n",
       "      <td>2.0</td>\n",
       "      <td>2.000000</td>\n",
       "      <td>2.000000</td>\n",
       "      <td>2.928060</td>\n",
       "      <td>0.807191</td>\n",
       "      <td>0.0</td>\n",
       "      <td>1.0</td>\n",
       "      <td>2.000000</td>\n",
       "      <td>C2</td>\n",
       "      <td>C1</td>\n",
       "      <td>Blue</td>\n",
       "      <td>Pop</td>\n",
       "    </tr>\n",
       "    <tr>\n",
       "      <th>149</th>\n",
       "      <td>1.800000</td>\n",
       "      <td>1.0</td>\n",
       "      <td>1.000000</td>\n",
       "      <td>2.000000</td>\n",
       "      <td>3.129929</td>\n",
       "      <td>0.567104</td>\n",
       "      <td>0.0</td>\n",
       "      <td>3.0</td>\n",
       "      <td>0.000000</td>\n",
       "      <td>C1</td>\n",
       "      <td>C2</td>\n",
       "      <td>Pink</td>\n",
       "      <td>Jazz</td>\n",
       "    </tr>\n",
       "  </tbody>\n",
       "</table>\n",
       "</div>"
      ],
      "text/plain": [
       "           S0   S1        S2        S3        S4        C2   C3   C4  \\\n",
       "145  1.167526  2.0  1.179369  5.000000  1.000000  0.000000  1.0  1.0   \n",
       "146  0.500000  1.0  1.000000  2.994865  4.000000  1.000000  0.0  2.0   \n",
       "147  0.700000  2.0  1.000000  3.644769  2.000000  1.000000  1.0  2.0   \n",
       "148  0.900000  2.0  2.000000  2.000000  2.928060  0.807191  0.0  1.0   \n",
       "149  1.800000  1.0  1.000000  2.000000  3.129929  0.567104  0.0  3.0   \n",
       "\n",
       "           C5  S5  S6    C0    C1  \n",
       "145  1.846123  C3  C2  None  Rock  \n",
       "146  3.000000  C3  C3   Red  None  \n",
       "147  3.000000  C1  C3   Red  None  \n",
       "148  2.000000  C2  C1  Blue   Pop  \n",
       "149  0.000000  C1  C2  Pink  Jazz  "
      ]
     },
     "execution_count": 6,
     "metadata": {},
     "output_type": "execute_result"
    }
   ],
   "source": [
    "data = pd.concat( [data,data,data,data,data], axis=0)\n",
    "data.index = range(data.shape[0])\n",
    "data = pd.concat( [data,data,data,data,data], axis=0)\n",
    "data.index = range(data.shape[0])\n",
    "data.tail()"
   ]
  },
  {
   "cell_type": "markdown",
   "metadata": {},
   "source": [
    "#####   \n",
    "<span style=\"font-family:Arial; font-weight:Bold; font-size:1.8em; color:#00b3e5;\"> Splitting the data into training, validation and test set in the ratio of 60:20:20 respectively."
   ]
  },
  {
   "cell_type": "markdown",
   "metadata": {},
   "source": [
    "<span style=\"font-family:Arial; font-weight:Bold; font-size:1.5em; color:#00b3e5;\"> Splitting into X and y"
   ]
  },
  {
   "cell_type": "code",
   "execution_count": 7,
   "metadata": {},
   "outputs": [],
   "source": [
    "X = data.drop([estimated_column], axis=1).copy()  # X_df = data.loc[ :, data.columns != 'Personal Loan' ]  \n",
    "X = pd.get_dummies( X, columns=X.loc[:,X.dtypes=='object' ].columns ).replace(False,0).replace(True,1)\n",
    "\n",
    "y = data[estimated_column].copy()                 # y_df = data.loc[ :, data.columns == 'Personal Loan' ]  \n",
    "y = LabelEncoder().fit_transform( y )"
   ]
  },
  {
   "cell_type": "code",
   "execution_count": 8,
   "metadata": {},
   "outputs": [
    {
     "data": {
      "text/html": [
       "<div>\n",
       "<style scoped>\n",
       "    .dataframe tbody tr th:only-of-type {\n",
       "        vertical-align: middle;\n",
       "    }\n",
       "\n",
       "    .dataframe tbody tr th {\n",
       "        vertical-align: top;\n",
       "    }\n",
       "\n",
       "    .dataframe thead th {\n",
       "        text-align: right;\n",
       "    }\n",
       "</style>\n",
       "<table border=\"1\" class=\"dataframe\">\n",
       "  <thead>\n",
       "    <tr style=\"text-align: right;\">\n",
       "      <th></th>\n",
       "      <th>S0</th>\n",
       "      <th>S1</th>\n",
       "      <th>S2</th>\n",
       "      <th>S3</th>\n",
       "      <th>S4</th>\n",
       "      <th>C2</th>\n",
       "      <th>C3</th>\n",
       "      <th>C4</th>\n",
       "      <th>C5</th>\n",
       "      <th>S5_C1</th>\n",
       "      <th>S5_C2</th>\n",
       "      <th>S5_C3</th>\n",
       "      <th>C0_Blue</th>\n",
       "      <th>C0_Lime</th>\n",
       "      <th>C0_Pink</th>\n",
       "      <th>C0_Red</th>\n",
       "      <th>C1_Jazz</th>\n",
       "      <th>C1_Pop</th>\n",
       "      <th>C1_Rock</th>\n",
       "    </tr>\n",
       "  </thead>\n",
       "  <tbody>\n",
       "    <tr>\n",
       "      <th>145</th>\n",
       "      <td>1.167526</td>\n",
       "      <td>2.0</td>\n",
       "      <td>1.179369</td>\n",
       "      <td>5.000000</td>\n",
       "      <td>1.000000</td>\n",
       "      <td>0.000000</td>\n",
       "      <td>1.0</td>\n",
       "      <td>1.0</td>\n",
       "      <td>1.846123</td>\n",
       "      <td>0</td>\n",
       "      <td>0</td>\n",
       "      <td>1</td>\n",
       "      <td>0</td>\n",
       "      <td>0</td>\n",
       "      <td>0</td>\n",
       "      <td>0</td>\n",
       "      <td>0</td>\n",
       "      <td>0</td>\n",
       "      <td>1</td>\n",
       "    </tr>\n",
       "    <tr>\n",
       "      <th>146</th>\n",
       "      <td>0.500000</td>\n",
       "      <td>1.0</td>\n",
       "      <td>1.000000</td>\n",
       "      <td>2.994865</td>\n",
       "      <td>4.000000</td>\n",
       "      <td>1.000000</td>\n",
       "      <td>0.0</td>\n",
       "      <td>2.0</td>\n",
       "      <td>3.000000</td>\n",
       "      <td>0</td>\n",
       "      <td>0</td>\n",
       "      <td>1</td>\n",
       "      <td>0</td>\n",
       "      <td>0</td>\n",
       "      <td>0</td>\n",
       "      <td>1</td>\n",
       "      <td>0</td>\n",
       "      <td>0</td>\n",
       "      <td>0</td>\n",
       "    </tr>\n",
       "    <tr>\n",
       "      <th>147</th>\n",
       "      <td>0.700000</td>\n",
       "      <td>2.0</td>\n",
       "      <td>1.000000</td>\n",
       "      <td>3.644769</td>\n",
       "      <td>2.000000</td>\n",
       "      <td>1.000000</td>\n",
       "      <td>1.0</td>\n",
       "      <td>2.0</td>\n",
       "      <td>3.000000</td>\n",
       "      <td>1</td>\n",
       "      <td>0</td>\n",
       "      <td>0</td>\n",
       "      <td>0</td>\n",
       "      <td>0</td>\n",
       "      <td>0</td>\n",
       "      <td>1</td>\n",
       "      <td>0</td>\n",
       "      <td>0</td>\n",
       "      <td>0</td>\n",
       "    </tr>\n",
       "    <tr>\n",
       "      <th>148</th>\n",
       "      <td>0.900000</td>\n",
       "      <td>2.0</td>\n",
       "      <td>2.000000</td>\n",
       "      <td>2.000000</td>\n",
       "      <td>2.928060</td>\n",
       "      <td>0.807191</td>\n",
       "      <td>0.0</td>\n",
       "      <td>1.0</td>\n",
       "      <td>2.000000</td>\n",
       "      <td>0</td>\n",
       "      <td>1</td>\n",
       "      <td>0</td>\n",
       "      <td>1</td>\n",
       "      <td>0</td>\n",
       "      <td>0</td>\n",
       "      <td>0</td>\n",
       "      <td>0</td>\n",
       "      <td>1</td>\n",
       "      <td>0</td>\n",
       "    </tr>\n",
       "    <tr>\n",
       "      <th>149</th>\n",
       "      <td>1.800000</td>\n",
       "      <td>1.0</td>\n",
       "      <td>1.000000</td>\n",
       "      <td>2.000000</td>\n",
       "      <td>3.129929</td>\n",
       "      <td>0.567104</td>\n",
       "      <td>0.0</td>\n",
       "      <td>3.0</td>\n",
       "      <td>0.000000</td>\n",
       "      <td>1</td>\n",
       "      <td>0</td>\n",
       "      <td>0</td>\n",
       "      <td>0</td>\n",
       "      <td>0</td>\n",
       "      <td>1</td>\n",
       "      <td>0</td>\n",
       "      <td>1</td>\n",
       "      <td>0</td>\n",
       "      <td>0</td>\n",
       "    </tr>\n",
       "  </tbody>\n",
       "</table>\n",
       "</div>"
      ],
      "text/plain": [
       "           S0   S1        S2        S3        S4        C2   C3   C4  \\\n",
       "145  1.167526  2.0  1.179369  5.000000  1.000000  0.000000  1.0  1.0   \n",
       "146  0.500000  1.0  1.000000  2.994865  4.000000  1.000000  0.0  2.0   \n",
       "147  0.700000  2.0  1.000000  3.644769  2.000000  1.000000  1.0  2.0   \n",
       "148  0.900000  2.0  2.000000  2.000000  2.928060  0.807191  0.0  1.0   \n",
       "149  1.800000  1.0  1.000000  2.000000  3.129929  0.567104  0.0  3.0   \n",
       "\n",
       "           C5  S5_C1  S5_C2  S5_C3  C0_Blue  C0_Lime  C0_Pink  C0_Red  \\\n",
       "145  1.846123      0      0      1        0        0        0       0   \n",
       "146  3.000000      0      0      1        0        0        0       1   \n",
       "147  3.000000      1      0      0        0        0        0       1   \n",
       "148  2.000000      0      1      0        1        0        0       0   \n",
       "149  0.000000      1      0      0        0        0        1       0   \n",
       "\n",
       "     C1_Jazz  C1_Pop  C1_Rock  \n",
       "145        0       0        1  \n",
       "146        0       0        0  \n",
       "147        0       0        0  \n",
       "148        0       1        0  \n",
       "149        1       0        0  "
      ]
     },
     "execution_count": 8,
     "metadata": {},
     "output_type": "execute_result"
    }
   ],
   "source": [
    "X.tail()"
   ]
  },
  {
   "cell_type": "code",
   "execution_count": 9,
   "metadata": {},
   "outputs": [
    {
     "data": {
      "text/plain": [
       "(150, 19)"
      ]
     },
     "execution_count": 9,
     "metadata": {},
     "output_type": "execute_result"
    }
   ],
   "source": [
    "X.shape"
   ]
  },
  {
   "cell_type": "code",
   "execution_count": 10,
   "metadata": {},
   "outputs": [
    {
     "data": {
      "text/plain": [
       "array([1, 1, 2, 2, 0, 1, 1, 1, 2, 2])"
      ]
     },
     "execution_count": 10,
     "metadata": {},
     "output_type": "execute_result"
    }
   ],
   "source": [
    "y[:10]"
   ]
  },
  {
   "cell_type": "code",
   "execution_count": 11,
   "metadata": {},
   "outputs": [
    {
     "data": {
      "text/plain": [
       "(150,)"
      ]
     },
     "execution_count": 11,
     "metadata": {},
     "output_type": "execute_result"
    }
   ],
   "source": [
    "y.shape"
   ]
  },
  {
   "cell_type": "markdown",
   "metadata": {},
   "source": [
    "<span style=\"font-family:Arial; font-weight:Bold; font-size:1.5em; color:#00b3e5;\"> Splitting into Train, Valid and Test Sets"
   ]
  },
  {
   "cell_type": "code",
   "execution_count": 12,
   "metadata": {},
   "outputs": [],
   "source": [
    "X_Train, X_ValidTest, y_Train, y_ValidTest  =  train_test_split(        \n",
    "          X, y\n",
    "        , random_state  =  RANDOM_STATE\n",
    "        , test_size     =  30/100\n",
    "        , shuffle       =  True \n",
    "        , stratify      =  y\n",
    "        )\n",
    "X_Train.index      = range( X_Train.shape[0] )\n",
    "X_ValidTest.index  = range( X_ValidTest.shape[0]        ) \n",
    "\n",
    "X = X_ValidTest\n",
    "y = y_ValidTest\n",
    "\n",
    "X_Valid, X_Test, y_Valid, y_Test  =  train_test_split(        \n",
    "          X, y\n",
    "        , random_state  =  RANDOM_STATE\n",
    "        , test_size     =  50/100\n",
    "        , shuffle       =  True \n",
    "        , stratify      =  y\n",
    "        )\n",
    "X_Valid.index = range( X_Valid.shape[0] )\n",
    "X_Test.index  = range( X_Test.shape[0]  ) "
   ]
  },
  {
   "cell_type": "code",
   "execution_count": 13,
   "metadata": {
    "scrolled": true
   },
   "outputs": [
    {
     "data": {
      "text/plain": [
       "(105, 19)"
      ]
     },
     "execution_count": 13,
     "metadata": {},
     "output_type": "execute_result"
    }
   ],
   "source": [
    "X_Train.shape"
   ]
  },
  {
   "cell_type": "code",
   "execution_count": 14,
   "metadata": {},
   "outputs": [
    {
     "data": {
      "text/plain": [
       "(22, 19)"
      ]
     },
     "execution_count": 14,
     "metadata": {},
     "output_type": "execute_result"
    }
   ],
   "source": [
    "X_Valid.shape"
   ]
  },
  {
   "cell_type": "code",
   "execution_count": 15,
   "metadata": {
    "scrolled": true
   },
   "outputs": [
    {
     "data": {
      "text/plain": [
       "(23, 19)"
      ]
     },
     "execution_count": 15,
     "metadata": {},
     "output_type": "execute_result"
    }
   ],
   "source": [
    "X_Test.shape"
   ]
  },
  {
   "cell_type": "markdown",
   "metadata": {},
   "source": [
    "<span style=\"font-family:Arial; font-weight:Bold; font-size:1.5em; color:#00b3e5;\"> Counting Subcats of Sets"
   ]
  },
  {
   "cell_type": "code",
   "execution_count": 16,
   "metadata": {},
   "outputs": [
    {
     "data": {
      "text/html": [
       "<div>\n",
       "<style scoped>\n",
       "    .dataframe tbody tr th:only-of-type {\n",
       "        vertical-align: middle;\n",
       "    }\n",
       "\n",
       "    .dataframe tbody tr th {\n",
       "        vertical-align: top;\n",
       "    }\n",
       "\n",
       "    .dataframe thead th {\n",
       "        text-align: right;\n",
       "    }\n",
       "</style>\n",
       "<table border=\"1\" class=\"dataframe\">\n",
       "  <thead>\n",
       "    <tr style=\"text-align: right;\">\n",
       "      <th>col_0</th>\n",
       "      <th>Subcat-Count</th>\n",
       "    </tr>\n",
       "    <tr>\n",
       "      <th>row_0</th>\n",
       "      <th></th>\n",
       "    </tr>\n",
       "  </thead>\n",
       "  <tbody>\n",
       "    <tr>\n",
       "      <th>0</th>\n",
       "      <td>17</td>\n",
       "    </tr>\n",
       "    <tr>\n",
       "      <th>1</th>\n",
       "      <td>53</td>\n",
       "    </tr>\n",
       "    <tr>\n",
       "      <th>2</th>\n",
       "      <td>35</td>\n",
       "    </tr>\n",
       "  </tbody>\n",
       "</table>\n",
       "</div>"
      ],
      "text/plain": [
       "col_0  Subcat-Count\n",
       "row_0              \n",
       "0                17\n",
       "1                53\n",
       "2                35"
      ]
     },
     "execution_count": 16,
     "metadata": {},
     "output_type": "execute_result"
    }
   ],
   "source": [
    "pd.crosstab( y_Train, columns='Subcat-Count' )  "
   ]
  },
  {
   "cell_type": "code",
   "execution_count": 17,
   "metadata": {},
   "outputs": [
    {
     "data": {
      "text/html": [
       "<div>\n",
       "<style scoped>\n",
       "    .dataframe tbody tr th:only-of-type {\n",
       "        vertical-align: middle;\n",
       "    }\n",
       "\n",
       "    .dataframe tbody tr th {\n",
       "        vertical-align: top;\n",
       "    }\n",
       "\n",
       "    .dataframe thead th {\n",
       "        text-align: right;\n",
       "    }\n",
       "</style>\n",
       "<table border=\"1\" class=\"dataframe\">\n",
       "  <thead>\n",
       "    <tr style=\"text-align: right;\">\n",
       "      <th>col_0</th>\n",
       "      <th>Subcat-Count</th>\n",
       "    </tr>\n",
       "    <tr>\n",
       "      <th>row_0</th>\n",
       "      <th></th>\n",
       "    </tr>\n",
       "  </thead>\n",
       "  <tbody>\n",
       "    <tr>\n",
       "      <th>0</th>\n",
       "      <td>4</td>\n",
       "    </tr>\n",
       "    <tr>\n",
       "      <th>1</th>\n",
       "      <td>11</td>\n",
       "    </tr>\n",
       "    <tr>\n",
       "      <th>2</th>\n",
       "      <td>7</td>\n",
       "    </tr>\n",
       "  </tbody>\n",
       "</table>\n",
       "</div>"
      ],
      "text/plain": [
       "col_0  Subcat-Count\n",
       "row_0              \n",
       "0                 4\n",
       "1                11\n",
       "2                 7"
      ]
     },
     "execution_count": 17,
     "metadata": {},
     "output_type": "execute_result"
    }
   ],
   "source": [
    "pd.crosstab( y_Valid, columns='Subcat-Count' )  "
   ]
  },
  {
   "cell_type": "code",
   "execution_count": 18,
   "metadata": {},
   "outputs": [
    {
     "data": {
      "text/html": [
       "<div>\n",
       "<style scoped>\n",
       "    .dataframe tbody tr th:only-of-type {\n",
       "        vertical-align: middle;\n",
       "    }\n",
       "\n",
       "    .dataframe tbody tr th {\n",
       "        vertical-align: top;\n",
       "    }\n",
       "\n",
       "    .dataframe thead th {\n",
       "        text-align: right;\n",
       "    }\n",
       "</style>\n",
       "<table border=\"1\" class=\"dataframe\">\n",
       "  <thead>\n",
       "    <tr style=\"text-align: right;\">\n",
       "      <th>col_0</th>\n",
       "      <th>Subcat-Count</th>\n",
       "    </tr>\n",
       "    <tr>\n",
       "      <th>row_0</th>\n",
       "      <th></th>\n",
       "    </tr>\n",
       "  </thead>\n",
       "  <tbody>\n",
       "    <tr>\n",
       "      <th>0</th>\n",
       "      <td>4</td>\n",
       "    </tr>\n",
       "    <tr>\n",
       "      <th>1</th>\n",
       "      <td>11</td>\n",
       "    </tr>\n",
       "    <tr>\n",
       "      <th>2</th>\n",
       "      <td>8</td>\n",
       "    </tr>\n",
       "  </tbody>\n",
       "</table>\n",
       "</div>"
      ],
      "text/plain": [
       "col_0  Subcat-Count\n",
       "row_0              \n",
       "0                 4\n",
       "1                11\n",
       "2                 8"
      ]
     },
     "execution_count": 18,
     "metadata": {},
     "output_type": "execute_result"
    }
   ],
   "source": [
    "pd.crosstab( y_Test, columns='Subcat-Count' )  "
   ]
  },
  {
   "cell_type": "markdown",
   "metadata": {},
   "source": [
    "#####   \n",
    "<span style=\"font-family:Arial; font-weight:Bold; font-size:1.8em; color:#00b3e5;\"> Saving Data Sets"
   ]
  },
  {
   "cell_type": "code",
   "execution_count": 33,
   "metadata": {},
   "outputs": [],
   "source": [
    "pickle.dump( X_Train, open('X_Train','wb') )  # save\n",
    "pickle.dump( X_Valid, open('X_Valid','wb') )  # save\n",
    "pickle.dump( X_Test , open('X_Test' ,'wb') )  # save\n",
    "\n",
    "pickle.dump( y_Train, open('y_Train','wb') )  # save\n",
    "pickle.dump( y_Valid, open('y_Valid','wb') )  # save\n",
    "pickle.dump( y_Test , open('y_Test' ,'wb') )  # save"
   ]
  },
  {
   "cell_type": "markdown",
   "metadata": {},
   "source": [
    "#####   \n",
    "<span style=\"font-family:Arial; font-weight:Bold; font-size:1.8em; color:#00b3e5;\"> Loading Data Sets"
   ]
  },
  {
   "cell_type": "code",
   "execution_count": 34,
   "metadata": {},
   "outputs": [],
   "source": [
    "X_Train = pickle.load( open('X_Train','rb') )  # load\n",
    "X_Valid = pickle.load( open('X_Valid','rb') )  # load\n",
    "X_Test  = pickle.load( open('X_Test' ,'rb') )  # load\n",
    "\n",
    "y_Train = pickle.load( open('y_Train','rb') )  # load\n",
    "y_Valid = pickle.load( open('y_Valid','rb') )  # load\n",
    "y_Test  = pickle.load( open('y_Test' ,'rb') )  # load"
   ]
  },
  {
   "cell_type": "markdown",
   "metadata": {},
   "source": [
    "** **"
   ]
  },
  {
   "cell_type": "markdown",
   "metadata": {},
   "source": [
    "#####   \n",
    "<span style=\"font-family:Arial; font-weight:Bold; font-size:1.8em; color:#00b3e5;\"> Checking Imbalance in Data"
   ]
  },
  {
   "cell_type": "code",
   "execution_count": 19,
   "metadata": {},
   "outputs": [
    {
     "name": "stdout",
     "output_type": "stream",
     "text": [
      "col_0  count\n",
      "S6          \n",
      "C2        75\n",
      "C3        50\n",
      "C1        25\n"
     ]
    },
    {
     "data": {
      "image/png": "[encoded data removed]",
      "text/plain": [
       "<Figure size 640x480 with 1 Axes>"
      ]
     },
     "metadata": {},
     "output_type": "display_data"
    }
   ],
   "source": [
    "df = data.copy()\n",
    "x  = estimated_column\n",
    "\n",
    "# Frequency Table  \n",
    "freq_tab = pd.crosstab( index=df[x].astype('str'), columns='count' )\n",
    "print(freq_tab.sort_values('count',ascending=False))\n",
    "\n",
    "# Barh\n",
    "L = df[x].astype('str')\n",
    "L.value_counts(normalize=True).sort_values().plot.barh(linewidth=.5, edgecolor='blue', facecolor='cyan'); plt.show()"
   ]
  },
  {
   "cell_type": "markdown",
   "metadata": {},
   "source": [
    "<span style=\"font-family:Arial; font-weight:Bold; font-size:1.5em; color:deeppink;\"> Report: \n",
    " - Data is **Imbalanced** and needs treatment."
   ]
  },
  {
   "cell_type": "markdown",
   "metadata": {},
   "source": [
    "** **"
   ]
  },
  {
   "cell_type": "markdown",
   "metadata": {},
   "source": [
    "<span style=\"font-family:Arial; font-weight:Bold; font-size:1.8em; color:red;\"> Mistreating Imbalance"
   ]
  },
  {
   "cell_type": "markdown",
   "metadata": {},
   "source": [
    "<span style=\"font-family:Arial; font-weight:Bold; font-size:1.5em; color:red;\"> Mistreating Imbalance by SMOTETomek"
   ]
  },
  {
   "cell_type": "code",
   "execution_count": 20,
   "metadata": {},
   "outputs": [],
   "source": [
    "Sampler = SMOTE( sampling_strategy='auto', k_neighbors=5, random_state=RANDOM_STATE )\n",
    "\n",
    "X_Train_Balanced, y_Train_Balanced = Sampler.fit_resample( X_Train, y_Train )\n",
    "X_Train_Balanced.index = range(X_Train_Balanced.shape[0])"
   ]
  },
  {
   "cell_type": "markdown",
   "metadata": {},
   "source": [
    "<span style=\"font-family:Arial; font-weight:Bold; font-size:1.5em; color:red;\"> Checking Balanced Data"
   ]
  },
  {
   "cell_type": "code",
   "execution_count": 21,
   "metadata": {},
   "outputs": [
    {
     "data": {
      "image/png": "[encoded data removed]",
      "text/plain": [
       "<Figure size 640x480 with 1 Axes>"
      ]
     },
     "metadata": {},
     "output_type": "display_data"
    }
   ],
   "source": [
    "x = estimated_column\n",
    "\n",
    "df_Train_Balanced      = X_Train_Balanced.copy()\n",
    "df_Train_Balanced[ x ] = y_Train_Balanced.copy() \n",
    "\n",
    "# Train Data\n",
    "df = df_Train_Balanced.copy() \n",
    "L  = df[x].astype('str')\n",
    "L.value_counts(normalize=False).sort_values().plot.barh(linewidth=.5, edgecolor='blue', facecolor='cyan',title='Train Data'); plt.show()"
   ]
  },
  {
   "cell_type": "markdown",
   "metadata": {},
   "source": [
    "<span style=\"font-family:Arial; font-weight:Bold; font-size:1.5em; color:deeppink;\"> Report: \n",
    " - After Mistreatment, Data is **Balanced**"
   ]
  },
  {
   "cell_type": "markdown",
   "metadata": {},
   "source": [
    "<span style=\"font-family:Arial; font-weight:Bold; font-size:1.5em; color:red;\"> Warning: \n",
    " - Although Mistreated Data looks Charming and Tempting, unfortunately, the models trained by them are overfit and have weak performance.\n",
    " - A better solution to overcome the imbalance, is to train the models with the imbalanced data, and boost them via gradient-boost."
   ]
  },
  {
   "cell_type": "markdown",
   "metadata": {},
   "source": [
    "<span style=\"font-family:Arial; font-weight:Bold; font-size:1.5em; color:red;\"> (NOT) Assigning "
   ]
  },
  {
   "cell_type": "code",
   "execution_count": 22,
   "metadata": {},
   "outputs": [],
   "source": [
    "X_Train = X_Train_Balanced.copy()\n",
    "y_Train = y_Train_Balanced.copy()"
   ]
  },
  {
   "cell_type": "markdown",
   "metadata": {},
   "source": [
    "#####   \n",
    "<span style=\"font-family:Arial; font-weight:Bold; font-size:1.8em; color:#00b3e5;\"> Saving Data Sets"
   ]
  },
  {
   "cell_type": "code",
   "execution_count": 23,
   "metadata": {},
   "outputs": [],
   "source": [
    "pickle.dump( X_Train_Balanced, open('X_Train_Balanced','wb') )  # save\n",
    "pickle.dump( y_Train_Balanced, open('y_Train_Balanced','wb') )  # save"
   ]
  },
  {
   "cell_type": "markdown",
   "metadata": {},
   "source": [
    "#####   \n",
    "<span style=\"font-family:Arial; font-weight:Bold; font-size:1.8em; color:#00b3e5;\"> Loading Data Sets"
   ]
  },
  {
   "cell_type": "code",
   "execution_count": 35,
   "metadata": {},
   "outputs": [],
   "source": [
    "X_Train = pickle.load( open('X_Train_Balanced','rb') )  # load\n",
    "y_Train = pickle.load( open('y_Train_Balanced','rb') )  # load"
   ]
  },
  {
   "cell_type": "markdown",
   "metadata": {},
   "source": [
    "** **"
   ]
  },
  {
   "cell_type": "markdown",
   "metadata": {},
   "source": [
    "#####   \n",
    "<span style=\"font-family:Arial; font-weight:Bold; font-size:1.8em; color:#00b3e5;\"> Making Decision Tree Estimator"
   ]
  },
  {
   "cell_type": "markdown",
   "metadata": {},
   "source": [
    "<span style=\"font-family:Arial; font-weight:Bold; font-size:1.5em; color:#00b3e5;\"> Finding The Class_Weight\n",
    " - A **Class_Weight** is calculated and inserted in Estimators to compensate for **Data Imbalance**."
   ]
  },
  {
   "cell_type": "code",
   "execution_count": 36,
   "metadata": {},
   "outputs": [
    {
     "data": {
      "text/plain": [
       "1.0"
      ]
     },
     "execution_count": 36,
     "metadata": {},
     "output_type": "execute_result"
    }
   ],
   "source": [
    "df = pd.DataFrame([y_Train,y_Train]).T\n",
    "df.columns = [estimated_column,'del']\n",
    "df.index = np.arange( df.shape[0] )\n",
    "\n",
    "freq_tab = pd.crosstab( index=df[estimated_column].astype('str'), columns='count' )\n",
    "CLASS_WEIGHT = max(freq_tab['count'])/min(freq_tab['count'])\n",
    "CLASS_WEIGHT"
   ]
  },
  {
   "cell_type": "markdown",
   "metadata": {},
   "source": [
    "<span style=\"font-family:Arial; font-weight:Bold; font-size:1.5em; color:#00b3e5;\"> Preparing Hyper-Parameters"
   ]
  },
  {
   "cell_type": "code",
   "execution_count": 37,
   "metadata": {},
   "outputs": [],
   "source": [
    "# Needed Data\n",
    "N_SPLITS = 10\n",
    "\n",
    "# Initiating\n",
    "t1 = time.time()\n",
    "\n",
    "# cross-validation strategy \n",
    "CV = StratifiedKFold( n_splits=N_SPLITS, shuffle=True )\n",
    "\n",
    "# Hyper Parameters\n",
    "CATs  = [ ['splitter'    , ['random','best']             ] \n",
    "        , ['criterion'   , ['gini','entropy','log_loss'] ] \n",
    "        #, ['class_weight', ['balanced',None]             ] \n",
    "        , ['max_features', ['sqrt','log2',None]          ]  \n",
    "        ]\n",
    "TFs   = [ \n",
    "        ]\n",
    "INTs  = [ ['max_depth'     ,   1,  4,  4  ]\n",
    "        , ['max_leaf_nodes',   2, 16, 15  ]\n",
    "        ]\n",
    "CONTs = [ [ 'ccp_alpha'               ,   1e-3, 1.0, 12,   'log-uniform' ]\n",
    "        , [ 'min_samples_leaf'        ,   1e-3, 1.0, 12,   'log-uniform' ]\n",
    "        , [ 'min_samples_split'       ,   1e-3, 1.0, 12,   'log-uniform' ]\n",
    "        , [ 'min_impurity_decrease'   ,   1e-3, 1.0, 12,   'log-uniform' ]\n",
    "        , [ 'min_weight_fraction_leaf',   1e-3, 0.5, 12,   'log-uniform' ]\n",
    "        ] \n",
    "            \n",
    "# General Estimator\n",
    "ESTIMATOR  =  DecisionTreeClassifier( class_weight = {1:CLASS_WEIGHT}\n",
    "                                    , random_state =   RANDOM_STATE \n",
    "                                    ) "
   ]
  },
  {
   "cell_type": "markdown",
   "metadata": {},
   "source": [
    "<span style=\"font-family:Arial; font-weight:Bold; font-size:1.5em; color:#00b3e5;\"> Defining Genetic Algorithm Optimizer"
   ]
  },
  {
   "cell_type": "code",
   "execution_count": 38,
   "metadata": {},
   "outputs": [],
   "source": [
    "# pip install sklearn-genetic-opt\n",
    "from sklearn_genetic           import GAFeatureSelectionCV, GASearchCV\n",
    "from sklearn_genetic.callbacks import LogbookSaver, ProgressBar\n",
    "from sklearn_genetic.space     import Categorical as GA_Categorical \n",
    "from sklearn_genetic.space     import Integer     as GA_Integer \n",
    "from sklearn_genetic.space     import Continuous  as GA_Continuous \n",
    "from sklearn_genetic.plots     import plot_fitness_evolution\n",
    "from sklearn_genetic.plots     import plot_search_space\n",
    "\n",
    "# defining G.A. Optimizer\n",
    "def GA_Search( CATs,TFs,INTs,CONTs, ESTIMATOR,CV,Search_Space_Features,SCORING\n",
    "             , Pop_Size,   Gens,   Tours,   Crossover,   Mutation\n",
    "             , X_Train_Scaled, y_Train, X_Valid_Scaled, y_Valid ):\n",
    "    \n",
    "    callbacks = [LogbookSaver( checkpoint_path=\"./GA_logbook_DTree.pkl\"),ProgressBar()]\n",
    "    \n",
    "    param_grid = {}\n",
    "    for item in CATs:  param_grid[item[0]]=GA_Categorical(item[1])\n",
    "    for item in TFs:   param_grid[item[0]]=GA_Categorical([True,False])\n",
    "    for item in INTs:  param_grid[item[0]]=GA_Integer(item[1],item[2])\n",
    "    for item in CONTs: param_grid[item[0]]=GA_Continuous(item[1],item[2],distribution=item[4])\n",
    "\n",
    "    optimal_params = GASearchCV(\n",
    "          estimator=ESTIMATOR, cv=CV, param_grid=param_grid, scoring=SCORING, population_size=Pop_Size\n",
    "        , generations=Gens, tournament_size=Tours, elitism=True, keep_top_k=10, crossover_probability=Crossover\n",
    "        , mutation_probability=Mutation, criteria=\"max\", algorithm=\"eaMuCommaLambda\", n_jobs=-1 ) \n",
    "\n",
    "    print('initiating ...')\n",
    "    optimal_params.fit( X_Train_Scaled, y_Train, callbacks = callbacks )\n",
    "\n",
    "    accuracy = optimal_params.score( X_Valid_Scaled, y_Valid )  \n",
    "    print('\\n\\nBest Parameters:', optimal_params.best_params_)\n",
    "    print('accuracy =', accuracy)\n",
    "    \n",
    "    plot_search_space( optimal_params, features=Search_Space_Features )\n",
    "    plt.show()           \n",
    "        \n",
    "    Top_Params = optimal_params.logbook.chapters[\"parameters\"]    \n",
    "    return [ optimal_params.best_params_ , Top_Params ]"
   ]
  },
  {
   "cell_type": "markdown",
   "metadata": {},
   "source": [
    "<span style=\"font-family:Arial; font-weight:Bold; font-size:1.5em; color:#00b3e5;\"> Tuning Hyper-Parameters\n",
    " - <span style=\"color:deeppink;\"> **Note:** Data is NOT scaled"
   ]
  },
  {
   "cell_type": "code",
   "execution_count": 28,
   "metadata": {
    "scrolled": false
   },
   "outputs": [
    {
     "name": "stdout",
     "output_type": "stream",
     "text": [
      "initiating ...\n"
     ]
    },
    {
     "data": {
      "application/vnd.jupyter.widget-view+json": {
       "model_id": "b262667c47e4434e96bb9fac10d72ee8",
       "version_major": 2,
       "version_minor": 0
      },
      "text/plain": [
       "  0%|          | 0/3 [00:00<?, ?it/s]"
      ]
     },
     "metadata": {},
     "output_type": "display_data"
    },
    {
     "name": "stdout",
     "output_type": "stream",
     "text": [
      "gen\tnevals\tfitness \tfitness_std\tfitness_max\tfitness_min\n",
      "0  \t5     \t0.674167\t0.30838    \t1          \t0.314583   \n",
      "1  \t9     \t1       \t0          \t1          \t1          \n",
      "2  \t9     \t1       \t0          \t1          \t1          \n",
      "\n",
      "\n",
      "Best Parameters: {'splitter': 'best', 'criterion': 'gini', 'max_features': 'log2', 'max_depth': 4, 'max_leaf_nodes': 13, 'ccp_alpha': 0.002992953890535522, 'min_samples_leaf': 0.06561731011338934, 'min_samples_split': 0.0034756337820315295, 'min_impurity_decrease': 0.03431398835691451, 'min_weight_fraction_leaf': 0.006759396235128741}\n",
      "accuracy = 1.0\n"
     ]
    },
    {
     "data": {
      "image/png": "[encoded data removed]",
      "text/plain": [
       "<Figure size 200x200 with 2 Axes>"
      ]
     },
     "metadata": {},
     "output_type": "display_data"
    },
    {
     "name": "stdout",
     "output_type": "stream",
     "text": [
      "\n",
      "optimizing_time (min) = 0.0\n"
     ]
    }
   ],
   "source": [
    "# Initiating\n",
    "t1 = time.time()\n",
    "\n",
    "### Optimizing by G.A.\n",
    "Pop_Size, Gens, Tours, Crossover, Mutation = 500,2,1500, .30,.60 \n",
    "Search_Space_Features   = [ 'score' ]\n",
    "Best_Params, Top_Params = GA_Search(CATs,TFs,INTs,CONTs,ESTIMATOR,CV,Search_Space_Features,SCORING,\n",
    "                                    Pop_Size,Gens,Tours,Crossover,Mutation,\n",
    "                                    X_Train, y_Train, X_Valid, y_Valid )     ###  Note: Data is NOT scaled  ###\n",
    "\n",
    "t2 = time.time()\n",
    "dt = np.round( (t2-t1)/60, 0 )\n",
    "print( '\\noptimizing_time (min) =', dt )"
   ]
  },
  {
   "cell_type": "markdown",
   "metadata": {},
   "source": [
    "#####   \n",
    "<span style=\"font-family:Arial; font-weight:Bold; font-size:1.5em; color:#00b3e5;\"> Making DTree\n",
    " - <span style=\"color:deeppink;\"> **Note:** Data is NOT scaled"
   ]
  },
  {
   "cell_type": "code",
   "execution_count": 39,
   "metadata": {
    "scrolled": true
   },
   "outputs": [],
   "source": [
    "DTree = DecisionTreeClassifier(\n",
    "    splitter='best', criterion='gini', max_features='log2', max_depth=4, max_leaf_nodes=13, \n",
    "    ccp_alpha=0.002992953890535522, min_samples_leaf=0.06561731011338934, min_samples_split=0.0034756337820315295,\n",
    "    min_impurity_decrease=0.03431398835691451, min_weight_fraction_leaf=0.006759396235128741,\n",
    "    class_weight={1:CLASS_WEIGHT}, random_state=RANDOM_STATE \n",
    "                               ).fit( X_Train, y_Train )     ###  Note: Data is NOT scaled  ###\n",
    "\n",
    "pickle.dump( DTree,  open('DTree','wb') )  # save\n",
    "DTree = pickle.load( open('DTree','rb') )  # load"
   ]
  },
  {
   "cell_type": "markdown",
   "metadata": {},
   "source": [
    "#####   \n",
    "<span style=\"font-family:Arial; font-weight:Bold; font-size:1.5em; color:#00b3e5;\"> Plotting DTree\n",
    " - Install the following libraries:\n",
    "    - pip install pydotplus\n",
    "    - conda install graphviz\n",
    " - <span style=\"color:deeppink;\"> **Note:** Data is NOT scaled"
   ]
  },
  {
   "cell_type": "code",
   "execution_count": 40,
   "metadata": {
    "scrolled": false
   },
   "outputs": [
    {
     "data": {
      "image/png": "[encoded data removed]",
      "text/plain": [
       "<IPython.core.display.Image object>"
      ]
     },
     "execution_count": 40,
     "metadata": {},
     "output_type": "execute_result"
    }
   ],
   "source": [
    "# Old Method (Simple, But Depricated)\n",
    "''' \n",
    "plt.figure( figsize=(14,6) )\n",
    "plot_tree(  decision_tree  =  DTree\n",
    "         ,  filled         =  True\n",
    "         ,  rounded        =  True\n",
    "         ,  fontsize       =  9\n",
    "         ,  precision      =  1\n",
    "         ,  class_names    =  ['No','Yes']\n",
    "         ,  feature_names  =  X_Train.columns \n",
    "         ) \n",
    "plt.savefig( 'DTree_Plot.png',  dpi=120 )\n",
    "plt.show() \n",
    "''' \n",
    "\n",
    "# New Method (Hard, But Modern)\n",
    "import six\n",
    "import sys\n",
    "sys.modules['sklearn.externals.six'] = six\n",
    "\n",
    "from sklearn.externals.six import StringIO\n",
    "from IPython.display       import Image\n",
    "from sklearn.tree          import export_graphviz\n",
    "import pydotplus \n",
    "\n",
    "dot_data = StringIO()\n",
    "export_graphviz( DTree, feature_names=X_Train.columns,  special_characters=True,  class_names=Classes,\n",
    "                 out_file=dot_data,  filled=True,  rounded=True,  node_ids=True )\n",
    "graph=pydotplus.graph_from_dot_data(dot_data.getvalue())\n",
    "\n",
    "graph.write_png('DTree.png')   # Saving as png\n",
    "graph.write_pdf('DTree.pdf')   # Saving as pdf\n",
    "\n",
    "# Generate .png image of \"Decision Tree\"\n",
    "Image( graph.create_png() )"
   ]
  },
  {
   "cell_type": "markdown",
   "metadata": {},
   "source": [
    "#####   \n",
    "<span style=\"font-family:Arial; font-weight:Bold; font-size:1.5em; color:#00b3e5;\"> Precision & Recall of DTree"
   ]
  },
  {
   "cell_type": "code",
   "execution_count": 41,
   "metadata": {
    "scrolled": false
   },
   "outputs": [
    {
     "name": "stdout",
     "output_type": "stream",
     "text": [
      "\n",
      "DTree\n",
      "               precision    recall  f1-score   support\n",
      "\n",
      "           0       1.00      1.00      1.00         4\n",
      "           1       1.00      1.00      1.00        11\n",
      "           2       1.00      1.00      1.00         7\n",
      "\n",
      "    accuracy                           1.00        22\n",
      "   macro avg       1.00      1.00      1.00        22\n",
      "weighted avg       1.00      1.00      1.00        22\n",
      "\n"
     ]
    }
   ],
   "source": [
    "y_Pred_DTree = DTree.predict( X_Valid )\n",
    "DTree_Report = classification_report( y_Valid, y_Pred_DTree )\n",
    "print( '\\nDTree\\n', DTree_Report ) "
   ]
  },
  {
   "cell_type": "markdown",
   "metadata": {},
   "source": [
    "<span style=\"font-family:Arial; font-weight:Bold; font-size:1.5em; color:deeppink;\"> Report: \n",
    " - By Optimization:\n",
    "    - **Precision** of **Class 0** Improved **+4 %**\n",
    "    - **Precision** of **Class 1** Improved **+4 %**\n",
    "    - **Recall** of **Class 0** Improved **0 %**\n",
    "    - **Recall** of **Class 1** Improved **+9 %**\n",
    "    - **Accuracy** of **Model** Improved **+3 %**\n",
    "****\n",
    " - Accuracy, Recall or Precision **< 80%** and need Boosting."
   ]
  },
  {
   "cell_type": "markdown",
   "metadata": {},
   "source": [
    "<span style=\"font-family:Arial; font-weight:Bold; font-size:1.8em; color:#00b3e5;\"> PCA\n",
    "   "
   ]
  },
  {
   "cell_type": "code",
   "execution_count": 43,
   "metadata": {},
   "outputs": [],
   "source": [
    "from sklearn.decomposition import PCA"
   ]
  },
  {
   "cell_type": "code",
   "execution_count": 44,
   "metadata": {},
   "outputs": [
    {
     "data": {
      "text/html": [
       "<style>#sk-container-id-1 {color: black;background-color: white;}#sk-container-id-1 pre{padding: 0;}#sk-container-id-1 div.sk-toggleable {background-color: white;}#sk-container-id-1 label.sk-toggleable__label {cursor: pointer;display: block;width: 100%;margin-bottom: 0;padding: 0.3em;box-sizing: border-box;text-align: center;}#sk-container-id-1 label.sk-toggleable__label-arrow:before {content: \"▸\";float: left;margin-right: 0.25em;color: #696969;}#sk-container-id-1 label.sk-toggleable__label-arrow:hover:before {color: black;}#sk-container-id-1 div.sk-estimator:hover label.sk-toggleable__label-arrow:before {color: black;}#sk-container-id-1 div.sk-toggleable__content {max-height: 0;max-width: 0;overflow: hidden;text-align: left;background-color: #f0f8ff;}#sk-container-id-1 div.sk-toggleable__content pre {margin: 0.2em;color: black;border-radius: 0.25em;background-color: #f0f8ff;}#sk-container-id-1 input.sk-toggleable__control:checked~div.sk-toggleable__content {max-height: 200px;max-width: 100%;overflow: auto;}#sk-container-id-1 input.sk-toggleable__control:checked~label.sk-toggleable__label-arrow:before {content: \"▾\";}#sk-container-id-1 div.sk-estimator input.sk-toggleable__control:checked~label.sk-toggleable__label {background-color: #d4ebff;}#sk-container-id-1 div.sk-label input.sk-toggleable__control:checked~label.sk-toggleable__label {background-color: #d4ebff;}#sk-container-id-1 input.sk-hidden--visually {border: 0;clip: rect(1px 1px 1px 1px);clip: rect(1px, 1px, 1px, 1px);height: 1px;margin: -1px;overflow: hidden;padding: 0;position: absolute;width: 1px;}#sk-container-id-1 div.sk-estimator {font-family: monospace;background-color: #f0f8ff;border: 1px dotted black;border-radius: 0.25em;box-sizing: border-box;margin-bottom: 0.5em;}#sk-container-id-1 div.sk-estimator:hover {background-color: #d4ebff;}#sk-container-id-1 div.sk-parallel-item::after {content: \"\";width: 100%;border-bottom: 1px solid gray;flex-grow: 1;}#sk-container-id-1 div.sk-label:hover label.sk-toggleable__label {background-color: #d4ebff;}#sk-container-id-1 div.sk-serial::before {content: \"\";position: absolute;border-left: 1px solid gray;box-sizing: border-box;top: 0;bottom: 0;left: 50%;z-index: 0;}#sk-container-id-1 div.sk-serial {display: flex;flex-direction: column;align-items: center;background-color: white;padding-right: 0.2em;padding-left: 0.2em;position: relative;}#sk-container-id-1 div.sk-item {position: relative;z-index: 1;}#sk-container-id-1 div.sk-parallel {display: flex;align-items: stretch;justify-content: center;background-color: white;position: relative;}#sk-container-id-1 div.sk-item::before, #sk-container-id-1 div.sk-parallel-item::before {content: \"\";position: absolute;border-left: 1px solid gray;box-sizing: border-box;top: 0;bottom: 0;left: 50%;z-index: -1;}#sk-container-id-1 div.sk-parallel-item {display: flex;flex-direction: column;z-index: 1;position: relative;background-color: white;}#sk-container-id-1 div.sk-parallel-item:first-child::after {align-self: flex-end;width: 50%;}#sk-container-id-1 div.sk-parallel-item:last-child::after {align-self: flex-start;width: 50%;}#sk-container-id-1 div.sk-parallel-item:only-child::after {width: 0;}#sk-container-id-1 div.sk-dashed-wrapped {border: 1px dashed gray;margin: 0 0.4em 0.5em 0.4em;box-sizing: border-box;padding-bottom: 0.4em;background-color: white;}#sk-container-id-1 div.sk-label label {font-family: monospace;font-weight: bold;display: inline-block;line-height: 1.2em;}#sk-container-id-1 div.sk-label-container {text-align: center;}#sk-container-id-1 div.sk-container {/* jupyter's `normalize.less` sets `[hidden] { display: none; }` but bootstrap.min.css set `[hidden] { display: none !important; }` so we also need the `!important` here to be able to override the default hidden behavior on the sphinx rendered scikit-learn.org. See: https://github.com/scikit-learn/scikit-learn/issues/21755 */display: inline-block !important;position: relative;}#sk-container-id-1 div.sk-text-repr-fallback {display: none;}</style><div id=\"sk-container-id-1\" class=\"sk-top-container\"><div class=\"sk-text-repr-fallback\"><pre>PCA()</pre><b>In a Jupyter environment, please rerun this cell to show the HTML representation or trust the notebook. <br />On GitHub, the HTML representation is unable to render, please try loading this page with nbviewer.org.</b></div><div class=\"sk-container\" hidden><div class=\"sk-item\"><div class=\"sk-estimator sk-toggleable\"><input class=\"sk-toggleable__control sk-hidden--visually\" id=\"sk-estimator-id-1\" type=\"checkbox\" checked><label for=\"sk-estimator-id-1\" class=\"sk-toggleable__label sk-toggleable__label-arrow\">PCA</label><div class=\"sk-toggleable__content\"><pre>PCA()</pre></div></div></div></div></div>"
      ],
      "text/plain": [
       "PCA()"
      ]
     },
     "execution_count": 44,
     "metadata": {},
     "output_type": "execute_result"
    }
   ],
   "source": [
    "pca = PCA().fit( X_Train )   # X_Train = X_Train_Balanced\n",
    "\n",
    "pickle.dump( pca,  open('pca','wb') )  # save\n",
    "pca = pickle.load( open('pca','rb') )  # load\n",
    "pca"
   ]
  },
  {
   "cell_type": "code",
   "execution_count": 45,
   "metadata": {},
   "outputs": [
    {
     "data": {
      "text/html": [
       "<div>\n",
       "<style scoped>\n",
       "    .dataframe tbody tr th:only-of-type {\n",
       "        vertical-align: middle;\n",
       "    }\n",
       "\n",
       "    .dataframe tbody tr th {\n",
       "        vertical-align: top;\n",
       "    }\n",
       "\n",
       "    .dataframe thead th {\n",
       "        text-align: right;\n",
       "    }\n",
       "</style>\n",
       "<table border=\"1\" class=\"dataframe\">\n",
       "  <thead>\n",
       "    <tr style=\"text-align: right;\">\n",
       "      <th></th>\n",
       "      <th>pca1</th>\n",
       "      <th>pca2</th>\n",
       "      <th>pca3</th>\n",
       "      <th>S0</th>\n",
       "      <th>S1</th>\n",
       "      <th>S2</th>\n",
       "      <th>S3</th>\n",
       "      <th>S4</th>\n",
       "      <th>C2</th>\n",
       "      <th>C3</th>\n",
       "      <th>C4</th>\n",
       "      <th>C5</th>\n",
       "      <th>S5_C1</th>\n",
       "      <th>S5_C2</th>\n",
       "      <th>S5_C3</th>\n",
       "      <th>C0_Blue</th>\n",
       "      <th>C0_Lime</th>\n",
       "      <th>C0_Pink</th>\n",
       "      <th>C0_Red</th>\n",
       "      <th>C1_Jazz</th>\n",
       "      <th>C1_Pop</th>\n",
       "      <th>C1_Rock</th>\n",
       "    </tr>\n",
       "  </thead>\n",
       "  <tbody>\n",
       "    <tr>\n",
       "      <th>154</th>\n",
       "      <td>0.636385</td>\n",
       "      <td>-0.701189</td>\n",
       "      <td>-1.770039</td>\n",
       "      <td>0.5</td>\n",
       "      <td>1.0</td>\n",
       "      <td>1.0</td>\n",
       "      <td>2.994865</td>\n",
       "      <td>4.0</td>\n",
       "      <td>1.0</td>\n",
       "      <td>0.0</td>\n",
       "      <td>2.0</td>\n",
       "      <td>3.0</td>\n",
       "      <td>0</td>\n",
       "      <td>0</td>\n",
       "      <td>1</td>\n",
       "      <td>0</td>\n",
       "      <td>0</td>\n",
       "      <td>0</td>\n",
       "      <td>1</td>\n",
       "      <td>0</td>\n",
       "      <td>0</td>\n",
       "      <td>0</td>\n",
       "    </tr>\n",
       "    <tr>\n",
       "      <th>155</th>\n",
       "      <td>0.636385</td>\n",
       "      <td>-0.701189</td>\n",
       "      <td>-1.770039</td>\n",
       "      <td>0.5</td>\n",
       "      <td>1.0</td>\n",
       "      <td>1.0</td>\n",
       "      <td>2.994865</td>\n",
       "      <td>4.0</td>\n",
       "      <td>1.0</td>\n",
       "      <td>0.0</td>\n",
       "      <td>2.0</td>\n",
       "      <td>3.0</td>\n",
       "      <td>0</td>\n",
       "      <td>0</td>\n",
       "      <td>1</td>\n",
       "      <td>0</td>\n",
       "      <td>0</td>\n",
       "      <td>0</td>\n",
       "      <td>1</td>\n",
       "      <td>0</td>\n",
       "      <td>0</td>\n",
       "      <td>0</td>\n",
       "    </tr>\n",
       "    <tr>\n",
       "      <th>156</th>\n",
       "      <td>1.909536</td>\n",
       "      <td>-0.046882</td>\n",
       "      <td>-0.551801</td>\n",
       "      <td>0.7</td>\n",
       "      <td>2.0</td>\n",
       "      <td>1.0</td>\n",
       "      <td>3.644769</td>\n",
       "      <td>2.0</td>\n",
       "      <td>1.0</td>\n",
       "      <td>1.0</td>\n",
       "      <td>2.0</td>\n",
       "      <td>3.0</td>\n",
       "      <td>1</td>\n",
       "      <td>0</td>\n",
       "      <td>0</td>\n",
       "      <td>0</td>\n",
       "      <td>0</td>\n",
       "      <td>0</td>\n",
       "      <td>1</td>\n",
       "      <td>0</td>\n",
       "      <td>0</td>\n",
       "      <td>0</td>\n",
       "    </tr>\n",
       "    <tr>\n",
       "      <th>157</th>\n",
       "      <td>1.909536</td>\n",
       "      <td>-0.046882</td>\n",
       "      <td>-0.551801</td>\n",
       "      <td>0.7</td>\n",
       "      <td>2.0</td>\n",
       "      <td>1.0</td>\n",
       "      <td>3.644769</td>\n",
       "      <td>2.0</td>\n",
       "      <td>1.0</td>\n",
       "      <td>1.0</td>\n",
       "      <td>2.0</td>\n",
       "      <td>3.0</td>\n",
       "      <td>1</td>\n",
       "      <td>0</td>\n",
       "      <td>0</td>\n",
       "      <td>0</td>\n",
       "      <td>0</td>\n",
       "      <td>0</td>\n",
       "      <td>1</td>\n",
       "      <td>0</td>\n",
       "      <td>0</td>\n",
       "      <td>0</td>\n",
       "    </tr>\n",
       "    <tr>\n",
       "      <th>158</th>\n",
       "      <td>1.909536</td>\n",
       "      <td>-0.046882</td>\n",
       "      <td>-0.551801</td>\n",
       "      <td>0.7</td>\n",
       "      <td>2.0</td>\n",
       "      <td>1.0</td>\n",
       "      <td>3.644769</td>\n",
       "      <td>2.0</td>\n",
       "      <td>1.0</td>\n",
       "      <td>1.0</td>\n",
       "      <td>2.0</td>\n",
       "      <td>3.0</td>\n",
       "      <td>1</td>\n",
       "      <td>0</td>\n",
       "      <td>0</td>\n",
       "      <td>0</td>\n",
       "      <td>0</td>\n",
       "      <td>0</td>\n",
       "      <td>1</td>\n",
       "      <td>0</td>\n",
       "      <td>0</td>\n",
       "      <td>0</td>\n",
       "    </tr>\n",
       "  </tbody>\n",
       "</table>\n",
       "</div>"
      ],
      "text/plain": [
       "         pca1      pca2      pca3   S0   S1   S2        S3   S4   C2   C3  \\\n",
       "154  0.636385 -0.701189 -1.770039  0.5  1.0  1.0  2.994865  4.0  1.0  0.0   \n",
       "155  0.636385 -0.701189 -1.770039  0.5  1.0  1.0  2.994865  4.0  1.0  0.0   \n",
       "156  1.909536 -0.046882 -0.551801  0.7  2.0  1.0  3.644769  2.0  1.0  1.0   \n",
       "157  1.909536 -0.046882 -0.551801  0.7  2.0  1.0  3.644769  2.0  1.0  1.0   \n",
       "158  1.909536 -0.046882 -0.551801  0.7  2.0  1.0  3.644769  2.0  1.0  1.0   \n",
       "\n",
       "      C4   C5  S5_C1  S5_C2  S5_C3  C0_Blue  C0_Lime  C0_Pink  C0_Red  \\\n",
       "154  2.0  3.0      0      0      1        0        0        0       1   \n",
       "155  2.0  3.0      0      0      1        0        0        0       1   \n",
       "156  2.0  3.0      1      0      0        0        0        0       1   \n",
       "157  2.0  3.0      1      0      0        0        0        0       1   \n",
       "158  2.0  3.0      1      0      0        0        0        0       1   \n",
       "\n",
       "     C1_Jazz  C1_Pop  C1_Rock  \n",
       "154        0       0        0  \n",
       "155        0       0        0  \n",
       "156        0       0        0  \n",
       "157        0       0        0  \n",
       "158        0       0        0  "
      ]
     },
     "execution_count": 45,
     "metadata": {},
     "output_type": "execute_result"
    }
   ],
   "source": [
    "X_Train_PCA = pca.transform(    X_Train    )\n",
    "X_Train_PCA = np.column_stack(( X_Train_PCA[:,0], \n",
    "                                X_Train_PCA[:,1], \n",
    "                                X_Train_PCA[:,2] ))\n",
    "X_Train_PCA = pd.DataFrame(     X_Train_PCA, columns=['pca1','pca2','pca3'] )\n",
    "X_Train_PCA = pd.concat(       [X_Train_PCA,\n",
    "                                X_Train]   , axis=1 )\n",
    "\n",
    "pickle.dump( X_Train_PCA,  open('X_Train_PCA','wb') )  # save\n",
    "X_Train_PCA = pickle.load( open('X_Train_PCA','rb') )  # load\n",
    "X_Train_PCA.tail()"
   ]
  },
  {
   "cell_type": "code",
   "execution_count": 46,
   "metadata": {},
   "outputs": [
    {
     "data": {
      "text/html": [
       "<div>\n",
       "<style scoped>\n",
       "    .dataframe tbody tr th:only-of-type {\n",
       "        vertical-align: middle;\n",
       "    }\n",
       "\n",
       "    .dataframe tbody tr th {\n",
       "        vertical-align: top;\n",
       "    }\n",
       "\n",
       "    .dataframe thead th {\n",
       "        text-align: right;\n",
       "    }\n",
       "</style>\n",
       "<table border=\"1\" class=\"dataframe\">\n",
       "  <thead>\n",
       "    <tr style=\"text-align: right;\">\n",
       "      <th></th>\n",
       "      <th>pca1</th>\n",
       "      <th>pca2</th>\n",
       "      <th>pca3</th>\n",
       "      <th>S0</th>\n",
       "      <th>S1</th>\n",
       "      <th>S2</th>\n",
       "      <th>S3</th>\n",
       "      <th>S4</th>\n",
       "      <th>C2</th>\n",
       "      <th>C3</th>\n",
       "      <th>C4</th>\n",
       "      <th>C5</th>\n",
       "      <th>S5_C1</th>\n",
       "      <th>S5_C2</th>\n",
       "      <th>S5_C3</th>\n",
       "      <th>C0_Blue</th>\n",
       "      <th>C0_Lime</th>\n",
       "      <th>C0_Pink</th>\n",
       "      <th>C0_Red</th>\n",
       "      <th>C1_Jazz</th>\n",
       "      <th>C1_Pop</th>\n",
       "      <th>C1_Rock</th>\n",
       "    </tr>\n",
       "  </thead>\n",
       "  <tbody>\n",
       "    <tr>\n",
       "      <th>17</th>\n",
       "      <td>1.909536</td>\n",
       "      <td>-0.046882</td>\n",
       "      <td>-0.551801</td>\n",
       "      <td>0.70000</td>\n",
       "      <td>2.0</td>\n",
       "      <td>1.0</td>\n",
       "      <td>3.644769</td>\n",
       "      <td>2.00000</td>\n",
       "      <td>1.000000</td>\n",
       "      <td>1.000000</td>\n",
       "      <td>2.0</td>\n",
       "      <td>3.0</td>\n",
       "      <td>1</td>\n",
       "      <td>0</td>\n",
       "      <td>0</td>\n",
       "      <td>0</td>\n",
       "      <td>0</td>\n",
       "      <td>0</td>\n",
       "      <td>1</td>\n",
       "      <td>0</td>\n",
       "      <td>0</td>\n",
       "      <td>0</td>\n",
       "    </tr>\n",
       "    <tr>\n",
       "      <th>18</th>\n",
       "      <td>-1.040690</td>\n",
       "      <td>-1.312509</td>\n",
       "      <td>0.627310</td>\n",
       "      <td>0.90000</td>\n",
       "      <td>2.0</td>\n",
       "      <td>2.0</td>\n",
       "      <td>2.000000</td>\n",
       "      <td>2.92806</td>\n",
       "      <td>0.807191</td>\n",
       "      <td>0.000000</td>\n",
       "      <td>1.0</td>\n",
       "      <td>2.0</td>\n",
       "      <td>0</td>\n",
       "      <td>1</td>\n",
       "      <td>0</td>\n",
       "      <td>1</td>\n",
       "      <td>0</td>\n",
       "      <td>0</td>\n",
       "      <td>0</td>\n",
       "      <td>0</td>\n",
       "      <td>1</td>\n",
       "      <td>0</td>\n",
       "    </tr>\n",
       "    <tr>\n",
       "      <th>19</th>\n",
       "      <td>-1.475164</td>\n",
       "      <td>1.491563</td>\n",
       "      <td>1.338982</td>\n",
       "      <td>1.71668</td>\n",
       "      <td>1.0</td>\n",
       "      <td>2.0</td>\n",
       "      <td>3.000000</td>\n",
       "      <td>3.00000</td>\n",
       "      <td>1.000000</td>\n",
       "      <td>0.197101</td>\n",
       "      <td>0.0</td>\n",
       "      <td>0.0</td>\n",
       "      <td>0</td>\n",
       "      <td>0</td>\n",
       "      <td>0</td>\n",
       "      <td>0</td>\n",
       "      <td>1</td>\n",
       "      <td>0</td>\n",
       "      <td>0</td>\n",
       "      <td>1</td>\n",
       "      <td>0</td>\n",
       "      <td>0</td>\n",
       "    </tr>\n",
       "    <tr>\n",
       "      <th>20</th>\n",
       "      <td>0.636385</td>\n",
       "      <td>-0.701189</td>\n",
       "      <td>-1.770039</td>\n",
       "      <td>0.50000</td>\n",
       "      <td>1.0</td>\n",
       "      <td>1.0</td>\n",
       "      <td>2.994865</td>\n",
       "      <td>4.00000</td>\n",
       "      <td>1.000000</td>\n",
       "      <td>0.000000</td>\n",
       "      <td>2.0</td>\n",
       "      <td>3.0</td>\n",
       "      <td>0</td>\n",
       "      <td>0</td>\n",
       "      <td>1</td>\n",
       "      <td>0</td>\n",
       "      <td>0</td>\n",
       "      <td>0</td>\n",
       "      <td>1</td>\n",
       "      <td>0</td>\n",
       "      <td>0</td>\n",
       "      <td>0</td>\n",
       "    </tr>\n",
       "    <tr>\n",
       "      <th>21</th>\n",
       "      <td>1.909536</td>\n",
       "      <td>-0.046882</td>\n",
       "      <td>-0.551801</td>\n",
       "      <td>0.70000</td>\n",
       "      <td>2.0</td>\n",
       "      <td>1.0</td>\n",
       "      <td>3.644769</td>\n",
       "      <td>2.00000</td>\n",
       "      <td>1.000000</td>\n",
       "      <td>1.000000</td>\n",
       "      <td>2.0</td>\n",
       "      <td>3.0</td>\n",
       "      <td>1</td>\n",
       "      <td>0</td>\n",
       "      <td>0</td>\n",
       "      <td>0</td>\n",
       "      <td>0</td>\n",
       "      <td>0</td>\n",
       "      <td>1</td>\n",
       "      <td>0</td>\n",
       "      <td>0</td>\n",
       "      <td>0</td>\n",
       "    </tr>\n",
       "  </tbody>\n",
       "</table>\n",
       "</div>"
      ],
      "text/plain": [
       "        pca1      pca2      pca3       S0   S1   S2        S3       S4  \\\n",
       "17  1.909536 -0.046882 -0.551801  0.70000  2.0  1.0  3.644769  2.00000   \n",
       "18 -1.040690 -1.312509  0.627310  0.90000  2.0  2.0  2.000000  2.92806   \n",
       "19 -1.475164  1.491563  1.338982  1.71668  1.0  2.0  3.000000  3.00000   \n",
       "20  0.636385 -0.701189 -1.770039  0.50000  1.0  1.0  2.994865  4.00000   \n",
       "21  1.909536 -0.046882 -0.551801  0.70000  2.0  1.0  3.644769  2.00000   \n",
       "\n",
       "          C2        C3   C4   C5  S5_C1  S5_C2  S5_C3  C0_Blue  C0_Lime  \\\n",
       "17  1.000000  1.000000  2.0  3.0      1      0      0        0        0   \n",
       "18  0.807191  0.000000  1.0  2.0      0      1      0        1        0   \n",
       "19  1.000000  0.197101  0.0  0.0      0      0      0        0        1   \n",
       "20  1.000000  0.000000  2.0  3.0      0      0      1        0        0   \n",
       "21  1.000000  1.000000  2.0  3.0      1      0      0        0        0   \n",
       "\n",
       "    C0_Pink  C0_Red  C1_Jazz  C1_Pop  C1_Rock  \n",
       "17        0       1        0       0        0  \n",
       "18        0       0        0       1        0  \n",
       "19        0       0        1       0        0  \n",
       "20        0       1        0       0        0  \n",
       "21        0       1        0       0        0  "
      ]
     },
     "execution_count": 46,
     "metadata": {},
     "output_type": "execute_result"
    }
   ],
   "source": [
    "X_Valid_PCA = pca.transform(    X_Valid    )\n",
    "X_Valid_PCA = np.column_stack(( X_Valid_PCA[:,0], \n",
    "                                X_Valid_PCA[:,1], \n",
    "                                X_Valid_PCA[:,2] ))\n",
    "X_Valid_PCA = pd.DataFrame(     X_Valid_PCA, columns=['pca1','pca2','pca3'] )\n",
    "X_Valid_PCA = pd.concat(       [X_Valid_PCA,\n",
    "                                X_Valid]   , axis=1 )\n",
    "\n",
    "pickle.dump( X_Valid_PCA,  open('X_Valid_PCA','wb') )  # save\n",
    "X_Valid_PCA = pickle.load( open('X_Valid_PCA','rb') )  # load\n",
    "X_Valid_PCA.tail()"
   ]
  },
  {
   "cell_type": "code",
   "execution_count": 47,
   "metadata": {},
   "outputs": [
    {
     "data": {
      "text/html": [
       "<div>\n",
       "<style scoped>\n",
       "    .dataframe tbody tr th:only-of-type {\n",
       "        vertical-align: middle;\n",
       "    }\n",
       "\n",
       "    .dataframe tbody tr th {\n",
       "        vertical-align: top;\n",
       "    }\n",
       "\n",
       "    .dataframe thead th {\n",
       "        text-align: right;\n",
       "    }\n",
       "</style>\n",
       "<table border=\"1\" class=\"dataframe\">\n",
       "  <thead>\n",
       "    <tr style=\"text-align: right;\">\n",
       "      <th></th>\n",
       "      <th>pca1</th>\n",
       "      <th>pca2</th>\n",
       "      <th>pca3</th>\n",
       "      <th>S0</th>\n",
       "      <th>S1</th>\n",
       "      <th>S2</th>\n",
       "      <th>S3</th>\n",
       "      <th>S4</th>\n",
       "      <th>C2</th>\n",
       "      <th>C3</th>\n",
       "      <th>C4</th>\n",
       "      <th>C5</th>\n",
       "      <th>S5_C1</th>\n",
       "      <th>S5_C2</th>\n",
       "      <th>S5_C3</th>\n",
       "      <th>C0_Blue</th>\n",
       "      <th>C0_Lime</th>\n",
       "      <th>C0_Pink</th>\n",
       "      <th>C0_Red</th>\n",
       "      <th>C1_Jazz</th>\n",
       "      <th>C1_Pop</th>\n",
       "      <th>C1_Rock</th>\n",
       "    </tr>\n",
       "  </thead>\n",
       "  <tbody>\n",
       "    <tr>\n",
       "      <th>18</th>\n",
       "      <td>1.909536</td>\n",
       "      <td>-0.046882</td>\n",
       "      <td>-0.551801</td>\n",
       "      <td>0.7</td>\n",
       "      <td>2.0</td>\n",
       "      <td>1.0</td>\n",
       "      <td>3.644769</td>\n",
       "      <td>2.00000</td>\n",
       "      <td>1.000000</td>\n",
       "      <td>1.0</td>\n",
       "      <td>2.0</td>\n",
       "      <td>3.0</td>\n",
       "      <td>1</td>\n",
       "      <td>0</td>\n",
       "      <td>0</td>\n",
       "      <td>0</td>\n",
       "      <td>0</td>\n",
       "      <td>0</td>\n",
       "      <td>1</td>\n",
       "      <td>0</td>\n",
       "      <td>0</td>\n",
       "      <td>0</td>\n",
       "    </tr>\n",
       "    <tr>\n",
       "      <th>19</th>\n",
       "      <td>-1.040690</td>\n",
       "      <td>-1.312509</td>\n",
       "      <td>0.627310</td>\n",
       "      <td>0.9</td>\n",
       "      <td>2.0</td>\n",
       "      <td>2.0</td>\n",
       "      <td>2.000000</td>\n",
       "      <td>2.92806</td>\n",
       "      <td>0.807191</td>\n",
       "      <td>0.0</td>\n",
       "      <td>1.0</td>\n",
       "      <td>2.0</td>\n",
       "      <td>0</td>\n",
       "      <td>1</td>\n",
       "      <td>0</td>\n",
       "      <td>1</td>\n",
       "      <td>0</td>\n",
       "      <td>0</td>\n",
       "      <td>0</td>\n",
       "      <td>0</td>\n",
       "      <td>1</td>\n",
       "      <td>0</td>\n",
       "    </tr>\n",
       "    <tr>\n",
       "      <th>20</th>\n",
       "      <td>1.909536</td>\n",
       "      <td>-0.046882</td>\n",
       "      <td>-0.551801</td>\n",
       "      <td>0.7</td>\n",
       "      <td>2.0</td>\n",
       "      <td>1.0</td>\n",
       "      <td>3.644769</td>\n",
       "      <td>2.00000</td>\n",
       "      <td>1.000000</td>\n",
       "      <td>1.0</td>\n",
       "      <td>2.0</td>\n",
       "      <td>3.0</td>\n",
       "      <td>1</td>\n",
       "      <td>0</td>\n",
       "      <td>0</td>\n",
       "      <td>0</td>\n",
       "      <td>0</td>\n",
       "      <td>0</td>\n",
       "      <td>1</td>\n",
       "      <td>0</td>\n",
       "      <td>0</td>\n",
       "      <td>0</td>\n",
       "    </tr>\n",
       "    <tr>\n",
       "      <th>21</th>\n",
       "      <td>0.636385</td>\n",
       "      <td>-0.701189</td>\n",
       "      <td>-1.770039</td>\n",
       "      <td>0.5</td>\n",
       "      <td>1.0</td>\n",
       "      <td>1.0</td>\n",
       "      <td>2.994865</td>\n",
       "      <td>4.00000</td>\n",
       "      <td>1.000000</td>\n",
       "      <td>0.0</td>\n",
       "      <td>2.0</td>\n",
       "      <td>3.0</td>\n",
       "      <td>0</td>\n",
       "      <td>0</td>\n",
       "      <td>1</td>\n",
       "      <td>0</td>\n",
       "      <td>0</td>\n",
       "      <td>0</td>\n",
       "      <td>1</td>\n",
       "      <td>0</td>\n",
       "      <td>0</td>\n",
       "      <td>0</td>\n",
       "    </tr>\n",
       "    <tr>\n",
       "      <th>22</th>\n",
       "      <td>-1.040690</td>\n",
       "      <td>-1.312509</td>\n",
       "      <td>0.627310</td>\n",
       "      <td>0.9</td>\n",
       "      <td>2.0</td>\n",
       "      <td>2.0</td>\n",
       "      <td>2.000000</td>\n",
       "      <td>2.92806</td>\n",
       "      <td>0.807191</td>\n",
       "      <td>0.0</td>\n",
       "      <td>1.0</td>\n",
       "      <td>2.0</td>\n",
       "      <td>0</td>\n",
       "      <td>1</td>\n",
       "      <td>0</td>\n",
       "      <td>1</td>\n",
       "      <td>0</td>\n",
       "      <td>0</td>\n",
       "      <td>0</td>\n",
       "      <td>0</td>\n",
       "      <td>1</td>\n",
       "      <td>0</td>\n",
       "    </tr>\n",
       "  </tbody>\n",
       "</table>\n",
       "</div>"
      ],
      "text/plain": [
       "        pca1      pca2      pca3   S0   S1   S2        S3       S4        C2  \\\n",
       "18  1.909536 -0.046882 -0.551801  0.7  2.0  1.0  3.644769  2.00000  1.000000   \n",
       "19 -1.040690 -1.312509  0.627310  0.9  2.0  2.0  2.000000  2.92806  0.807191   \n",
       "20  1.909536 -0.046882 -0.551801  0.7  2.0  1.0  3.644769  2.00000  1.000000   \n",
       "21  0.636385 -0.701189 -1.770039  0.5  1.0  1.0  2.994865  4.00000  1.000000   \n",
       "22 -1.040690 -1.312509  0.627310  0.9  2.0  2.0  2.000000  2.92806  0.807191   \n",
       "\n",
       "     C3   C4   C5  S5_C1  S5_C2  S5_C3  C0_Blue  C0_Lime  C0_Pink  C0_Red  \\\n",
       "18  1.0  2.0  3.0      1      0      0        0        0        0       1   \n",
       "19  0.0  1.0  2.0      0      1      0        1        0        0       0   \n",
       "20  1.0  2.0  3.0      1      0      0        0        0        0       1   \n",
       "21  0.0  2.0  3.0      0      0      1        0        0        0       1   \n",
       "22  0.0  1.0  2.0      0      1      0        1        0        0       0   \n",
       "\n",
       "    C1_Jazz  C1_Pop  C1_Rock  \n",
       "18        0       0        0  \n",
       "19        0       1        0  \n",
       "20        0       0        0  \n",
       "21        0       0        0  \n",
       "22        0       1        0  "
      ]
     },
     "execution_count": 47,
     "metadata": {},
     "output_type": "execute_result"
    }
   ],
   "source": [
    "X_Test_PCA = pca.transform(    X_Test    )\n",
    "X_Test_PCA = np.column_stack(( X_Test_PCA[:,0], \n",
    "                               X_Test_PCA[:,1], \n",
    "                               X_Test_PCA[:,2] ))\n",
    "X_Test_PCA = pd.DataFrame(     X_Test_PCA, columns=['pca1','pca2','pca3'] )\n",
    "X_Test_PCA = pd.concat(       [X_Test_PCA,\n",
    "                               X_Test]   , axis=1 )\n",
    "\n",
    "pickle.dump( X_Test_PCA,  open('X_Test_PCA','wb') )  # save\n",
    "X_Test_PCA = pickle.load( open('X_Test_PCA','rb') )  # load\n",
    "X_Test_PCA.tail()"
   ]
  },
  {
   "cell_type": "markdown",
   "metadata": {},
   "source": [
    "#####   "
   ]
  },
  {
   "cell_type": "markdown",
   "metadata": {},
   "source": [
    "<span style=\"font-family:Arial; font-weight:Bold; font-size:1.8em; color:#00b3e5;\"> Scaling"
   ]
  },
  {
   "cell_type": "code",
   "execution_count": 48,
   "metadata": {},
   "outputs": [],
   "source": [
    "Scaler0 = None\n",
    "Scaler1 = StandardScaler()    # z-score\n",
    "Scaler2 = MinMaxScaler()      # 0  1\n",
    "Scaler3 = MaxAbsScaler()      # 0+ 1\n",
    "Scaler4 = PowerTransformer()\n",
    "Scaler5 = FunctionTransformer(np.log1p)\n",
    "Scaler6 = FunctionTransformer(np.exp)\n",
    "\n",
    "Scaler  = Scaler2\n",
    "\n",
    "if Scaler == None:\n",
    "    X_Train_Scaled = X_Train_PCA.copy()\n",
    "    X_Valid_Scaled = X_Valid_PCA.copy()\n",
    "    X_Test_Scaled  = X_Test_PCA.copy()\n",
    "else:\n",
    "    Scaler.fit( X_Train_PCA )                    # fit\n",
    "    pickle.dump( Scaler,  open('Scaler','wb') )  # save\n",
    "    Scaler = pickle.load( open('Scaler','rb') )  # load\n",
    "    X_Train_Scaled = pd.DataFrame( Scaler.transform(X_Train_PCA), columns=X_Train_PCA.columns )\n",
    "    X_Valid_Scaled = pd.DataFrame( Scaler.transform(X_Valid_PCA), columns=X_Valid_PCA.columns )\n",
    "    X_Test_Scaled  = pd.DataFrame( Scaler.transform(X_Test_PCA),  columns=X_Test_PCA.columns  ) "
   ]
  },
  {
   "cell_type": "markdown",
   "metadata": {},
   "source": [
    "<span style=\"font-family:Arial; font-weight:Bold; font-size:1.8em; color:#00b3e5;\"> Saving"
   ]
  },
  {
   "cell_type": "code",
   "execution_count": 49,
   "metadata": {},
   "outputs": [],
   "source": [
    "pickle.dump( X_Train_Scaled, open('X_Train_Scaled','wb') )  # save\n",
    "pickle.dump( X_Valid_Scaled, open('X_Valid_Scaled','wb') )  # save\n",
    "pickle.dump( X_Test_Scaled , open('X_Test_Scaled' ,'wb') )  # save"
   ]
  },
  {
   "cell_type": "markdown",
   "metadata": {},
   "source": [
    "<span style=\"font-family:Arial; font-weight:Bold; font-size:1.8em; color:#00b3e5;\"> Loading"
   ]
  },
  {
   "cell_type": "code",
   "execution_count": 50,
   "metadata": {
    "scrolled": true
   },
   "outputs": [],
   "source": [
    "X_Train = pickle.load( open('X_Train_Scaled','rb') )  # load\n",
    "X_Valid = pickle.load( open('X_Valid_Scaled','rb') )  # load\n",
    "X_Test  = pickle.load( open('X_Test_Scaled' ,'rb') )  # load"
   ]
  },
  {
   "cell_type": "markdown",
   "metadata": {},
   "source": [
    "** **"
   ]
  },
  {
   "cell_type": "markdown",
   "metadata": {},
   "source": [
    "#####   \n",
    "<span style=\"font-family:Arial; font-weight:Bold; font-size:1.8em; color:#00b3e5;\"> Base-Line"
   ]
  },
  {
   "cell_type": "markdown",
   "metadata": {},
   "source": [
    "<span style=\"font-family:Arial; font-weight:Bold; font-size:1.5em; color:#00b3e5;\"> Finding The Class_Weight\n",
    " - A **Class_Weight** is calculated and inserted in Estimators to compensate for **Data Imbalance**."
   ]
  },
  {
   "cell_type": "code",
   "execution_count": 51,
   "metadata": {},
   "outputs": [
    {
     "data": {
      "text/plain": [
       "1.0"
      ]
     },
     "execution_count": 51,
     "metadata": {},
     "output_type": "execute_result"
    }
   ],
   "source": [
    "df = pd.DataFrame([y_Train,y_Train]).T\n",
    "df.columns = [estimated_column,'del']\n",
    "df.index = np.arange( df.shape[0] )\n",
    "\n",
    "freq_tab = pd.crosstab( index=df[estimated_column].astype('str'), columns='count' )\n",
    "CLASS_WEIGHT = max(freq_tab['count'])/min(freq_tab['count'])\n",
    "CLASS_WEIGHT"
   ]
  },
  {
   "cell_type": "markdown",
   "metadata": {},
   "source": [
    "<span style=\"font-family:Arial; font-weight:Bold; font-size:1.5em; color:#00b3e5;\"> Making A Base-Line for DTree Estimators"
   ]
  },
  {
   "cell_type": "code",
   "execution_count": 52,
   "metadata": {},
   "outputs": [
    {
     "name": "stdout",
     "output_type": "stream",
     "text": [
      "\n",
      "DTree_BaseLine Parameters: \n",
      "\n",
      " {'ccp_alpha': 0.0, 'class_weight': {1: 1.0}, 'criterion': 'gini', 'max_depth': None, 'max_features': None, 'max_leaf_nodes': None, 'min_impurity_decrease': 0.0, 'min_samples_leaf': 1, 'min_samples_split': 2, 'min_weight_fraction_leaf': 0.0, 'random_state': 3, 'splitter': 'best'} \n",
      "\n"
     ]
    }
   ],
   "source": [
    "DTree_BaseLine = DecisionTreeClassifier( class_weight = {1:CLASS_WEIGHT}\n",
    "                                       , random_state =   RANDOM_STATE \n",
    "                                       ).fit( X_Train, y_Train )\n",
    "print( '\\nDTree_BaseLine Parameters: \\n\\n', DTree_BaseLine.get_params(), '\\n' )"
   ]
  },
  {
   "cell_type": "markdown",
   "metadata": {},
   "source": [
    "<span style=\"font-family:Arial; font-weight:Bold; font-size:1.5em; color:#00b3e5;\"> Evaluating The BaseLine on Validation Data"
   ]
  },
  {
   "cell_type": "code",
   "execution_count": 53,
   "metadata": {
    "scrolled": true
   },
   "outputs": [
    {
     "name": "stdout",
     "output_type": "stream",
     "text": [
      "              precision    recall  f1-score   support\n",
      "\n",
      "           0       1.00      1.00      1.00         4\n",
      "           1       1.00      1.00      1.00        11\n",
      "           2       1.00      1.00      1.00         7\n",
      "\n",
      "    accuracy                           1.00        22\n",
      "   macro avg       1.00      1.00      1.00        22\n",
      "weighted avg       1.00      1.00      1.00        22\n",
      "\n"
     ]
    }
   ],
   "source": [
    "y_Pred = DTree_BaseLine.predict( X_Valid )\n",
    "DTree_BaseLine_Report = classification_report( y_Valid, y_Pred )\n",
    "print( DTree_BaseLine_Report )"
   ]
  },
  {
   "cell_type": "markdown",
   "metadata": {},
   "source": [
    "<span style=\"font-family:Arial; font-weight:Bold; font-size:1.5em; color:deeppink;\"> Report: \n",
    " - **Precision, Recall** and **accuracy** are **< 80 %** and need to be improved.\n",
    " - Cross-Validation is equal to 1 and results are **unreliable**                                                 "
   ]
  },
  {
   "cell_type": "markdown",
   "metadata": {},
   "source": [
    "#####   \n",
    "<span style=\"font-family:Arial; font-weight:Bold; font-size:1.8em; color:#00b3e5;\"> Making Decision Tree Estimator"
   ]
  },
  {
   "cell_type": "markdown",
   "metadata": {},
   "source": [
    "<span style=\"font-family:Arial; font-weight:Bold; font-size:1.5em; color:#00b3e5;\"> Preparing Hyper-Parameters"
   ]
  },
  {
   "cell_type": "code",
   "execution_count": 54,
   "metadata": {},
   "outputs": [],
   "source": [
    "# Needed Data\n",
    "N_SPLITS = 10\n",
    "\n",
    "# Initiating\n",
    "t1 = time.time()\n",
    "\n",
    "# cross-validation strategy \n",
    "CV = StratifiedKFold( n_splits=N_SPLITS, shuffle=True )\n",
    "\n",
    "# Hyper Parameters\n",
    "CATs  = [ ['splitter'    , ['random','best']             ] \n",
    "        , ['criterion'   , ['gini','entropy','log_loss'] ] \n",
    "        #, ['class_weight', ['balanced',None]             ] \n",
    "        , ['max_features', ['sqrt','log2',None]          ]  \n",
    "        ]\n",
    "TFs   = [ \n",
    "        ]\n",
    "INTs  = [ ['max_depth'     ,   1,  4,  4  ]\n",
    "        , ['max_leaf_nodes',   2, 16, 15  ]\n",
    "        ]\n",
    "CONTs = [ [ 'ccp_alpha'               ,   1e-3, 1.0, 12,   'log-uniform' ]\n",
    "        , [ 'min_samples_leaf'        ,   1e-3, 1.0, 12,   'log-uniform' ]\n",
    "        , [ 'min_samples_split'       ,   1e-3, 1.0, 12,   'log-uniform' ]\n",
    "        , [ 'min_impurity_decrease'   ,   1e-3, 1.0, 12,   'log-uniform' ]\n",
    "        , [ 'min_weight_fraction_leaf',   1e-3, 0.5, 12,   'log-uniform' ]\n",
    "        ] \n",
    "            \n",
    "# General Estimator\n",
    "ESTIMATOR  =  DecisionTreeClassifier( class_weight = {1:CLASS_WEIGHT}\n",
    "                                    , random_state =   RANDOM_STATE \n",
    "                                    ) "
   ]
  },
  {
   "cell_type": "markdown",
   "metadata": {},
   "source": [
    "<span style=\"font-family:Arial; font-weight:Bold; font-size:1.5em; color:#00b3e5;\"> Defining Genetic Algorithm Optimizer"
   ]
  },
  {
   "cell_type": "code",
   "execution_count": 55,
   "metadata": {},
   "outputs": [],
   "source": [
    "# pip install sklearn-genetic-opt\n",
    "from sklearn_genetic           import GAFeatureSelectionCV, GASearchCV\n",
    "from sklearn_genetic.callbacks import LogbookSaver, ProgressBar\n",
    "from sklearn_genetic.space     import Categorical as GA_Categorical \n",
    "from sklearn_genetic.space     import Integer     as GA_Integer \n",
    "from sklearn_genetic.space     import Continuous  as GA_Continuous \n",
    "from sklearn_genetic.plots     import plot_fitness_evolution\n",
    "from sklearn_genetic.plots     import plot_search_space\n",
    "\n",
    "# defining G.A. Optimizer\n",
    "def GA_Search( CATs,TFs,INTs,CONTs, ESTIMATOR,CV,Search_Space_Features,SCORING\n",
    "             , Pop_Size,   Gens,   Tours,   Crossover,   Mutation\n",
    "             , X_Train, y_Train, X_Valid, y_Valid ):\n",
    "    \n",
    "    callbacks = [LogbookSaver( checkpoint_path=\"./GA_logbook_DTree.pkl\"),ProgressBar()]\n",
    "    \n",
    "    param_grid = {}\n",
    "    for item in CATs:  param_grid[item[0]]=GA_Categorical(item[1])\n",
    "    for item in TFs:   param_grid[item[0]]=GA_Categorical([True,False])\n",
    "    for item in INTs:  param_grid[item[0]]=GA_Integer(item[1],item[2])\n",
    "    for item in CONTs: param_grid[item[0]]=GA_Continuous(item[1],item[2],distribution=item[4])\n",
    "\n",
    "    optimal_params = GASearchCV(\n",
    "          estimator=ESTIMATOR, cv=CV, param_grid=param_grid, scoring=SCORING, population_size=Pop_Size\n",
    "        , generations=Gens, tournament_size=Tours, elitism=True, keep_top_k=10, crossover_probability=Crossover\n",
    "        , mutation_probability=Mutation, criteria=\"max\", algorithm=\"eaMuCommaLambda\", n_jobs=-1 ) \n",
    "\n",
    "    print('initiating ...')\n",
    "    optimal_params.fit( X_Train, y_Train, callbacks = callbacks )\n",
    "\n",
    "    accuracy = optimal_params.score( X_Valid, y_Valid )  \n",
    "    print('\\n\\nBest Parameters:', optimal_params.best_params_)\n",
    "    print('accuracy =', accuracy)\n",
    "    \n",
    "    plot_search_space( optimal_params, features=Search_Space_Features )\n",
    "    plt.show()           \n",
    "        \n",
    "    Top_Params = optimal_params.logbook.chapters[\"parameters\"]    \n",
    "    return [ optimal_params.best_params_ , Top_Params ]"
   ]
  },
  {
   "cell_type": "markdown",
   "metadata": {},
   "source": [
    "<span style=\"font-family:Arial; font-weight:Bold; font-size:1.5em; color:#00b3e5;\"> Tuning Hyper-Parameters"
   ]
  },
  {
   "cell_type": "code",
   "execution_count": 58,
   "metadata": {
    "scrolled": true
   },
   "outputs": [
    {
     "name": "stdout",
     "output_type": "stream",
     "text": [
      "initiating ...\n"
     ]
    },
    {
     "data": {
      "application/vnd.jupyter.widget-view+json": {
       "model_id": "533f0049f5da48e4aa68faf79c06e12d",
       "version_major": 2,
       "version_minor": 0
      },
      "text/plain": [
       "  0%|          | 0/3 [00:00<?, ?it/s]"
      ]
     },
     "metadata": {},
     "output_type": "display_data"
    },
    {
     "name": "stdout",
     "output_type": "stream",
     "text": [
      "gen\tnevals\tfitness \tfitness_std\tfitness_max\tfitness_min\n",
      "0  \t5     \t0.636667\t0.309291   \t1          \t0.314583   \n",
      "1  \t10    \t1       \t0          \t1          \t1          \n",
      "2  \t10    \t1       \t0          \t1          \t1          \n",
      "\n",
      "\n",
      "Best Parameters: {'splitter': 'best', 'criterion': 'gini', 'max_features': None, 'max_depth': 3, 'max_leaf_nodes': 9, 'ccp_alpha': 0.25712897384165495, 'min_samples_leaf': 0.019176782362484112, 'min_samples_split': 0.014597329682846563, 'min_impurity_decrease': 0.008993318918269806, 'min_weight_fraction_leaf': 0.03333927867831236}\n",
      "accuracy = 1.0\n"
     ]
    },
    {
     "data": {
      "image/png": "[encoded data removed]",
      "text/plain": [
       "<Figure size 200x200 with 2 Axes>"
      ]
     },
     "metadata": {},
     "output_type": "display_data"
    },
    {
     "name": "stdout",
     "output_type": "stream",
     "text": [
      "\n",
      "optimizing_time (min) = 0.0\n"
     ]
    }
   ],
   "source": [
    "# Initiating\n",
    "t1 = time.time()\n",
    "\n",
    "### Optimizing by G.A.\n",
    "Pop_Size, Gens, Tours, Crossover, Mutation = 500,2,1500, .30,.60 \n",
    "Search_Space_Features   = [ 'score' ]\n",
    "Best_Params, Top_Params = GA_Search(CATs,TFs,INTs,CONTs,ESTIMATOR,CV,Search_Space_Features,SCORING,\n",
    "                                    Pop_Size,Gens,Tours,Crossover,Mutation,\n",
    "                                    X_Train, y_Train, X_Valid, y_Valid )\n",
    "\n",
    "t2 = time.time()\n",
    "dt = np.round( (t2-t1)/60, 0 )\n",
    "print( '\\noptimizing_time (min) =', dt )"
   ]
  },
  {
   "cell_type": "markdown",
   "metadata": {},
   "source": [
    "#####   \n",
    "<span style=\"font-family:Arial; font-weight:Bold; font-size:1.5em; color:#00b3e5;\"> Making DTree"
   ]
  },
  {
   "cell_type": "code",
   "execution_count": 59,
   "metadata": {
    "scrolled": true
   },
   "outputs": [],
   "source": [
    "DTree = DecisionTreeClassifier(\n",
    "    splitter='best', criterion='log_loss', max_features=None, max_depth=4, max_leaf_nodes=13,\n",
    "    ccp_alpha=0.00910226805408365, min_samples_leaf=0.0027485377033029034, min_samples_split=0.0022476517962994325,\n",
    "    min_impurity_decrease=0.005714296619213639, min_weight_fraction_leaf=0.015314697914714633,\n",
    "    class_weight={1:CLASS_WEIGHT}, random_state=RANDOM_STATE \n",
    "                               ).fit( X_Train, y_Train )\n",
    "\n",
    "pickle.dump( DTree,  open('DTree','wb') )  # save\n",
    "DTree = pickle.load( open('DTree','rb') )  # load"
   ]
  },
  {
   "cell_type": "markdown",
   "metadata": {},
   "source": [
    "#####   \n",
    "<span style=\"font-family:Arial; font-weight:Bold; font-size:1.5em; color:#00b3e5;\"> Comparing DTree with BaseLine on Validation Data"
   ]
  },
  {
   "cell_type": "code",
   "execution_count": 60,
   "metadata": {
    "scrolled": true
   },
   "outputs": [
    {
     "name": "stdout",
     "output_type": "stream",
     "text": [
      "\n",
      "DTree\n",
      "               precision    recall  f1-score   support\n",
      "\n",
      "           0       1.00      1.00      1.00         4\n",
      "           1       1.00      1.00      1.00        11\n",
      "           2       1.00      1.00      1.00         7\n",
      "\n",
      "    accuracy                           1.00        22\n",
      "   macro avg       1.00      1.00      1.00        22\n",
      "weighted avg       1.00      1.00      1.00        22\n",
      "\n",
      "\n",
      "DTree_BaseLine\n",
      "               precision    recall  f1-score   support\n",
      "\n",
      "           0       1.00      1.00      1.00         4\n",
      "           1       1.00      1.00      1.00        11\n",
      "           2       1.00      1.00      1.00         7\n",
      "\n",
      "    accuracy                           1.00        22\n",
      "   macro avg       1.00      1.00      1.00        22\n",
      "weighted avg       1.00      1.00      1.00        22\n",
      "\n"
     ]
    }
   ],
   "source": [
    "y_Pred_DTree = DTree.predict( X_Valid )\n",
    "DTree_Report = classification_report( y_Valid, y_Pred_DTree )\n",
    "print( '\\nDTree\\n', DTree_Report )\n",
    "\n",
    "print( '\\nDTree_BaseLine\\n', DTree_BaseLine_Report )"
   ]
  },
  {
   "cell_type": "markdown",
   "metadata": {},
   "source": [
    "<span style=\"font-family:Arial; font-weight:Bold; font-size:1.5em; color:deeppink;\"> Report: \n",
    " - By Optimization:\n",
    "    - **Precision** of **Class 0** Improved **+4 %**\n",
    "    - **Precision** of **Class 1** Improved **+4 %**\n",
    "    - **Recall** of **Class 0** Improved **0 %**\n",
    "    - **Recall** of **Class 1** Improved **+9 %**\n",
    "    - **Accuracy** of **Model** Improved **+3 %**\n",
    "****\n",
    " - Accuracy, Recall or Precision **< 80%** and need Boosting."
   ]
  },
  {
   "cell_type": "markdown",
   "metadata": {},
   "source": [
    "** **"
   ]
  },
  {
   "cell_type": "markdown",
   "metadata": {},
   "source": [
    "<span style=\"font-family:Arial; font-weight:Bold; font-size:1.8em; color:#00b3e5;\"> Gradient Boosting "
   ]
  },
  {
   "cell_type": "markdown",
   "metadata": {},
   "source": [
    "<span style=\"font-family:Arial; font-weight:Bold; font-size:1.5em; color:#00b3e5;\"> Preparing Hyper-Parameters"
   ]
  },
  {
   "cell_type": "code",
   "execution_count": 62,
   "metadata": {},
   "outputs": [],
   "source": [
    "# Needed Data\n",
    "N_SPLITS = 10\n",
    "\n",
    "# cross-validation strategy\n",
    "CV = StratifiedKFold( n_splits=N_SPLITS, shuffle=True )\n",
    "\n",
    "# (auto)\n",
    "nClasses = len( Classes )\n",
    "if nClasses == 2:\n",
    "    LOSS_VALUES = ['log_loss','exponential']\n",
    "else:\n",
    "    LOSS_VALUES = ['log_loss']\n",
    "\n",
    "# Hyper Parameters\n",
    "CATs  = [ ['loss'        ,      LOSS_VALUES                 ]   \n",
    "        , ['criterion'   , ['friedman_mse','squared_error'] ] \n",
    "        , ['max_features', ['sqrt','log2',None]             ]  \n",
    "        ]\n",
    "TFs   = [ ['warm_start']\n",
    "        ]\n",
    "INTs  = [ ['max_depth'     ,            1,  15, 15          ]\n",
    "        , ['max_leaf_nodes',            2,  16, 15          ]\n",
    "        , ['n_estimators'  ,            5, 101, 97          ]\n",
    "        ,   \n",
    "        ]\n",
    "CONTs = [ [ 'tol'                     ,   1e-3, 1.0, 4,   'log-uniform' ]\n",
    "        , [ 'ccp_alpha'               ,   1e-3, 1.0, 4,   'log-uniform' ]\n",
    "        , [ 'subsample'               ,   1e-3, 1.0, 4,   'log-uniform' ]\n",
    "        , [ 'learning_rate'           ,   1e-3, 0.3, 4,   'log-uniform' ]\n",
    "        , [ 'min_samples_leaf'        ,   1e-3, 1.0, 4,   'log-uniform' ]\n",
    "        , [ 'min_samples_split'       ,   1e-3, 1.0, 4,   'log-uniform' ]\n",
    "        , [ 'min_impurity_decrease'   ,   1e-3, 1.0, 4,   'log-uniform' ]\n",
    "        , [ 'min_weight_fraction_leaf',   1e-3, 0.5, 4,   'log-uniform' ]\n",
    "        ]"
   ]
  },
  {
   "cell_type": "markdown",
   "metadata": {},
   "source": [
    "<span style=\"font-family:Arial; font-weight:Bold; font-size:1.5em; color:#00b3e5;\"> Tuning Hyper-Parameters"
   ]
  },
  {
   "cell_type": "code",
   "execution_count": 63,
   "metadata": {
    "scrolled": false
   },
   "outputs": [
    {
     "name": "stdout",
     "output_type": "stream",
     "text": [
      "initiating ...\n"
     ]
    },
    {
     "data": {
      "application/vnd.jupyter.widget-view+json": {
       "model_id": "9d5b2adbeca244cf8384892b4c40bd0b",
       "version_major": 2,
       "version_minor": 0
      },
      "text/plain": [
       "  0%|          | 0/3 [00:00<?, ?it/s]"
      ]
     },
     "metadata": {},
     "output_type": "display_data"
    },
    {
     "name": "stdout",
     "output_type": "stream",
     "text": [
      "gen\tnevals\tfitness\tfitness_std\tfitness_max\tfitness_min\n",
      "0  \t2     \t1      \t0          \t1          \t1          \n",
      "1  \t4     \t1      \t0          \t1          \t1          \n",
      "2  \t3     \t1      \t0          \t1          \t1          \n",
      "\n",
      "\n",
      "Best Parameters: {'loss': 'log_loss', 'criterion': 'friedman_mse', 'max_features': 'sqrt', 'warm_start': False, 'max_depth': 8, 'max_leaf_nodes': 9, 'n_estimators': 89, 'tol': 0.00831596065495762, 'ccp_alpha': 0.0012775206446928782, 'subsample': 0.08197200064949393, 'learning_rate': 0.09193624170370704, 'min_samples_leaf': 0.11280603233112184, 'min_samples_split': 0.04974138358415054, 'min_impurity_decrease': 0.09516217679326297, 'min_weight_fraction_leaf': 0.3227267174954413}\n",
      "accuracy = 1.0\n"
     ]
    },
    {
     "data": {
      "image/png": "[encoded data removed]",
      "text/plain": [
       "<Figure size 200x200 with 2 Axes>"
      ]
     },
     "metadata": {},
     "output_type": "display_data"
    },
    {
     "name": "stdout",
     "output_type": "stream",
     "text": [
      "\n",
      "optimizing_time (min) = 0.0\n"
     ]
    }
   ],
   "source": [
    "# (manual)\n",
    "INIT = DTree\n",
    "#N_ESTIMATORS = 50\n",
    "\n",
    "Pop_Size, Gens, Tours, Crossover, Mutation = 200,2,600, .30,.60 \n",
    "Search_Space_Features = [ 'score' ]\n",
    "\n",
    "# (auto)\n",
    "# Initiating\n",
    "t1 = time.time()\n",
    "# General Estimator \n",
    "ESTIMATOR  =  GradientBoostingClassifier( init                = DTree\n",
    "                                        #, n_estimators        = N_ESTIMATORS\n",
    "                                        , random_state        = RANDOM_STATE\n",
    "                                        , verbose             = 0\n",
    "                                        , n_iter_no_change    = None\n",
    "                                        , validation_fraction = 0.1 \n",
    "                                        )   \n",
    "Best_Params, Top_Params = GA_Search( CATs,TFs,INTs,CONTs, ESTIMATOR, CV, Search_Space_Features, SCORING,\n",
    "                                     Pop_Size,Gens,Tours,Crossover,Mutation, \n",
    "                                     X_Train, y_Train, X_Valid, y_Valid )\n",
    "t2 = time.time()\n",
    "dt = np.round( (t2-t1)/60, 0 )\n",
    "print( '\\noptimizing_time (min) =', dt )"
   ]
  },
  {
   "cell_type": "markdown",
   "metadata": {},
   "source": [
    "<span style=\"font-family:Arial; font-weight:Bold; font-size:1.5em; color:#00b3e5;\"> Making Gradient Boosted Decision Tree"
   ]
  },
  {
   "cell_type": "code",
   "execution_count": 65,
   "metadata": {},
   "outputs": [],
   "source": [
    "DTree_GrBoosted = GradientBoostingClassifier( init=DTree,\n",
    "    loss='log_loss', criterion='friedman_mse', max_features='sqrt', warm_start=True, max_depth=15, max_leaf_nodes=11,\n",
    "    n_estimators=34, tol=0.03714672463925013, ccp_alpha=0.0018269715079550443, subsample=0.568271520205717, \n",
    "    learning_rate=0.04537202937412656, min_samples_leaf=0.017651468847492358, min_samples_split=0.03137203929639306, \n",
    "    min_impurity_decrease=0.14695670115656753, min_weight_fraction_leaf=0.015398365634094493,\n",
    "    random_state=RANDOM_STATE, verbose=0, n_iter_no_change=None, validation_fraction=0.1 \n",
    "                                             ).fit( X_Train, y_Train )\n",
    "\n",
    "pickle.dump( DTree_GrBoosted,  open('DTree_GrBoosted','wb') )  # save\n",
    "DTree_GrBoosted = pickle.load( open('DTree_GrBoosted','rb') )  # load"
   ]
  },
  {
   "cell_type": "markdown",
   "metadata": {},
   "source": [
    "<span style=\"font-family:Arial; font-weight:Bold; font-size:1.5em; color:#00b3e5;\"> Comparing Gradient Boosted Decision Tree with BaseLine on Validation Data"
   ]
  },
  {
   "cell_type": "code",
   "execution_count": 66,
   "metadata": {
    "scrolled": false
   },
   "outputs": [
    {
     "name": "stdout",
     "output_type": "stream",
     "text": [
      "\n",
      "DTree_GrBoosted\n",
      "               precision    recall  f1-score   support\n",
      "\n",
      "           0       1.00      1.00      1.00         4\n",
      "           1       1.00      1.00      1.00        11\n",
      "           2       1.00      1.00      1.00         7\n",
      "\n",
      "    accuracy                           1.00        22\n",
      "   macro avg       1.00      1.00      1.00        22\n",
      "weighted avg       1.00      1.00      1.00        22\n",
      "\n",
      "\n",
      "DTree\n",
      "               precision    recall  f1-score   support\n",
      "\n",
      "           0       1.00      1.00      1.00         4\n",
      "           1       1.00      1.00      1.00        11\n",
      "           2       1.00      1.00      1.00         7\n",
      "\n",
      "    accuracy                           1.00        22\n",
      "   macro avg       1.00      1.00      1.00        22\n",
      "weighted avg       1.00      1.00      1.00        22\n",
      "\n",
      "\n",
      "DTree_BaseLine\n",
      "               precision    recall  f1-score   support\n",
      "\n",
      "           0       1.00      1.00      1.00         4\n",
      "           1       1.00      1.00      1.00        11\n",
      "           2       1.00      1.00      1.00         7\n",
      "\n",
      "    accuracy                           1.00        22\n",
      "   macro avg       1.00      1.00      1.00        22\n",
      "weighted avg       1.00      1.00      1.00        22\n",
      "\n"
     ]
    }
   ],
   "source": [
    "y_Pred = DTree_GrBoosted.predict( X_Valid )\n",
    "DTree_GrBoosted_Report = classification_report( y_Valid, y_Pred )\n",
    "print( '\\nDTree_GrBoosted\\n', DTree_GrBoosted_Report )\n",
    "\n",
    "print( '\\nDTree\\n'          , DTree_Report           )\n",
    "print( '\\nDTree_BaseLine\\n' , DTree_BaseLine_Report  )"
   ]
  },
  {
   "cell_type": "markdown",
   "metadata": {},
   "source": [
    "<span style=\"font-family:Arial; font-weight:Bold; font-size:1.5em; color:deeppink;\"> Report: \n",
    " - By Optimization:\n",
    "    - **Precision** of **Class 0** Improved **+2 %**\n",
    "    - **Precision** of **Class 1** Improved **+15 %**\n",
    "    - **Recall** of **Class 0** Improved **+10 %**\n",
    "    - **Recall** of **Class 1** Improved **0 %**\n",
    "    - **Accuracy** of **Model** Improved **+6 %**"
   ]
  },
  {
   "cell_type": "markdown",
   "metadata": {},
   "source": [
    "#####   \n",
    "<span style=\"font-family:Arial; font-weight:Bold; font-size:1.8em; color:#00b3e5;\"> Adaptive Boosting "
   ]
  },
  {
   "cell_type": "markdown",
   "metadata": {},
   "source": [
    "<span style=\"font-family:Arial; font-weight:Bold; font-size:1.5em; color:#00b3e5;\"> Preparing Hyper-Parameters"
   ]
  },
  {
   "cell_type": "code",
   "execution_count": 67,
   "metadata": {},
   "outputs": [],
   "source": [
    "# Needed Data\n",
    "N_SPLITS = 10\n",
    "\n",
    "# cross-validation strategy\n",
    "CV = StratifiedKFold( n_splits=N_SPLITS, shuffle=True )\n",
    "\n",
    "# (auto) \n",
    "# Hyper Parameters\n",
    "CATs  = [ ['algorithm'     ,        ['SAMME.R','SAMME']        ]   \n",
    "        ]\n",
    "TFs   = [ \n",
    "        ]\n",
    "INTs  = [ ['n_estimators'  ,             5, 101, 97            ]\n",
    "        ]\n",
    "CONTs = [ [ 'learning_rate',   1e-3, 0.3, 4,   'log-uniform'   ] \n",
    "        ]"
   ]
  },
  {
   "cell_type": "markdown",
   "metadata": {},
   "source": [
    "<span style=\"font-family:Arial; font-weight:Bold; font-size:1.5em; color:#00b3e5;\"> Tuning Hyper-Parameters"
   ]
  },
  {
   "cell_type": "code",
   "execution_count": 69,
   "metadata": {
    "scrolled": true
   },
   "outputs": [
    {
     "name": "stdout",
     "output_type": "stream",
     "text": [
      "initiating ...\n"
     ]
    },
    {
     "data": {
      "application/vnd.jupyter.widget-view+json": {
       "model_id": "a10cfa5d35d543509b4ca260932cba4a",
       "version_major": 2,
       "version_minor": 0
      },
      "text/plain": [
       "  0%|          | 0/3 [00:00<?, ?it/s]"
      ]
     },
     "metadata": {},
     "output_type": "display_data"
    },
    {
     "name": "stdout",
     "output_type": "stream",
     "text": [
      "gen\tnevals\tfitness\tfitness_std\tfitness_max\tfitness_min\n",
      "0  \t2     \t1      \t0          \t1          \t1          \n",
      "1  \t4     \t1      \t0          \t1          \t1          \n",
      "2  \t3     \t1      \t0          \t1          \t1          \n",
      "\n",
      "\n",
      "Best Parameters: {'algorithm': 'SAMME.R', 'n_estimators': 51, 'learning_rate': 0.023445224781384548}\n",
      "accuracy = 1.0\n"
     ]
    },
    {
     "data": {
      "image/png": "[encoded data removed]",
      "text/plain": [
       "<Figure size 200x200 with 2 Axes>"
      ]
     },
     "metadata": {},
     "output_type": "display_data"
    },
    {
     "name": "stdout",
     "output_type": "stream",
     "text": [
      "\n",
      "optimizing_time (min) = 0.0\n"
     ]
    }
   ],
   "source": [
    "# (manual)\n",
    "INIT = DTree\n",
    "#N_ESTIMATORS = 50\n",
    "\n",
    "Pop_Size, Gens, Tours, Crossover, Mutation = 200,2,600, .30,.60 \n",
    "Search_Space_Features = [ 'score' ]\n",
    "\n",
    "# (auto)\n",
    "# Initiating\n",
    "t1 = time.time()\n",
    "# General Estimator \n",
    "ESTIMATOR  =  AdaBoostClassifier( estimator    = INIT\n",
    "                                #,n_estimators = N_ESTIMATORS\n",
    "                                , random_state = RANDOM_STATE  \n",
    "                                )   \n",
    "Best_Params, Top_Params = GA_Search( CATs,TFs,INTs,CONTs, ESTIMATOR, CV, Search_Space_Features, SCORING,\n",
    "                                     Pop_Size,Gens,Tours,Crossover,Mutation, \n",
    "                                     X_Train, y_Train, X_Valid, y_Valid )\n",
    "t2 = time.time()\n",
    "dt = np.round( (t2-t1)/60, 0 )\n",
    "print( '\\noptimizing_time (min) =', dt )"
   ]
  },
  {
   "cell_type": "markdown",
   "metadata": {},
   "source": [
    "<span style=\"font-family:Arial; font-weight:Bold; font-size:1.5em; color:#00b3e5;\"> Making Adaptive Boosted Decision Tree"
   ]
  },
  {
   "cell_type": "code",
   "execution_count": 70,
   "metadata": {},
   "outputs": [],
   "source": [
    "DTree_AdaBoosted = AdaBoostClassifier( estimator=DTree, random_state=RANDOM_STATE,\n",
    "    algorithm='SAMME.R', n_estimators=64, learning_rate=0.054921060854881416,\n",
    "                                     ).fit( X_Train, y_Train )\n",
    "\n",
    "pickle.dump( DTree_AdaBoosted,  open('DTree_AdaBoosted','wb') )  # save\n",
    "DTree_AdaBoosted = pickle.load( open('DTree_AdaBoosted','rb') )  # load"
   ]
  },
  {
   "cell_type": "markdown",
   "metadata": {},
   "source": [
    "<span style=\"font-family:Arial; font-weight:Bold; font-size:1.5em; color:#00b3e5;\"> Comparing Adaptive Boosted Decision Tree with BaseLine on Validation Data"
   ]
  },
  {
   "cell_type": "code",
   "execution_count": 71,
   "metadata": {
    "scrolled": false
   },
   "outputs": [
    {
     "name": "stdout",
     "output_type": "stream",
     "text": [
      "\n",
      "DTree_AdaBoosted\n",
      "               precision    recall  f1-score   support\n",
      "\n",
      "           0       1.00      1.00      1.00         4\n",
      "           1       1.00      1.00      1.00        11\n",
      "           2       1.00      1.00      1.00         7\n",
      "\n",
      "    accuracy                           1.00        22\n",
      "   macro avg       1.00      1.00      1.00        22\n",
      "weighted avg       1.00      1.00      1.00        22\n",
      "\n",
      "\n",
      "DTree_GrBoosted\n",
      "               precision    recall  f1-score   support\n",
      "\n",
      "           0       1.00      1.00      1.00         4\n",
      "           1       1.00      1.00      1.00        11\n",
      "           2       1.00      1.00      1.00         7\n",
      "\n",
      "    accuracy                           1.00        22\n",
      "   macro avg       1.00      1.00      1.00        22\n",
      "weighted avg       1.00      1.00      1.00        22\n",
      "\n",
      "\n",
      "DTree\n",
      "               precision    recall  f1-score   support\n",
      "\n",
      "           0       1.00      1.00      1.00         4\n",
      "           1       1.00      1.00      1.00        11\n",
      "           2       1.00      1.00      1.00         7\n",
      "\n",
      "    accuracy                           1.00        22\n",
      "   macro avg       1.00      1.00      1.00        22\n",
      "weighted avg       1.00      1.00      1.00        22\n",
      "\n",
      "\n",
      "DTree_BaseLine\n",
      "               precision    recall  f1-score   support\n",
      "\n",
      "           0       1.00      1.00      1.00         4\n",
      "           1       1.00      1.00      1.00        11\n",
      "           2       1.00      1.00      1.00         7\n",
      "\n",
      "    accuracy                           1.00        22\n",
      "   macro avg       1.00      1.00      1.00        22\n",
      "weighted avg       1.00      1.00      1.00        22\n",
      "\n"
     ]
    }
   ],
   "source": [
    "y_Pred = DTree_AdaBoosted.predict( X_Valid )\n",
    "DTree_AdaBoosted_Report = classification_report( y_Valid, y_Pred )\n",
    "print( '\\nDTree_AdaBoosted\\n', DTree_AdaBoosted_Report )\n",
    "\n",
    "print( '\\nDTree_GrBoosted\\n' , DTree_GrBoosted_Report  )\n",
    "print( '\\nDTree\\n'           , DTree_Report            )\n",
    "print( '\\nDTree_BaseLine\\n'  , DTree_BaseLine_Report   )"
   ]
  },
  {
   "cell_type": "markdown",
   "metadata": {},
   "source": [
    "<span style=\"font-family:Arial; font-weight:Bold; font-size:1.5em; color:deeppink;\"> Report: \n",
    " - By Optimization:\n",
    "    - **Precision** of **Class 0** Improved **+8 %**\n",
    "    - **Precision** of **Class 1** Improved **+9 %**\n",
    "    - **Recall** of **Class 0** Improved **+1 %**\n",
    "    - **Recall** of **Class 1** Improved **+19 %**\n",
    "    - **Accuracy** of **Model** Improved **+7 %**"
   ]
  },
  {
   "cell_type": "markdown",
   "metadata": {},
   "source": [
    "#####   \n",
    "<span style=\"font-family:Arial; font-weight:Bold; font-size:1.8em; color:#00b3e5;\"> Making Stacker"
   ]
  },
  {
   "cell_type": "code",
   "execution_count": 72,
   "metadata": {
    "scrolled": true
   },
   "outputs": [],
   "source": [
    "level0 = list()\n",
    "#level0.append(( 'DTree_BaseLine'    , DTree_BaseLine     ))\n",
    "level0.append(( 'DTree'             , DTree              )) \n",
    "level0.append(( 'DTree_GrBoosted'   , DTree_GrBoosted    ))\n",
    "#level0.append(( 'DTree_AdaBoosted'  , DTree_AdaBoosted   ))  \n",
    "\n",
    "# define meta learner model\n",
    "level1  =  LogisticRegression()\n",
    "\n",
    "# define the stacking ensemble\n",
    "DTree_Stacker =  StackingClassifier( estimators=level0, final_estimator=level1, cv=10, \n",
    "                                     passthrough=True,  stack_method='predict_proba' \n",
    "                                   ).fit( X_Train, y_Train )\n",
    "\n",
    "pickle.dump( DTree_Stacker,  open('DTree_Stacker','wb') )  # save\n",
    "DTree_Stacker = pickle.load( open('DTree_Stacker','rb') )  # load"
   ]
  },
  {
   "cell_type": "markdown",
   "metadata": {},
   "source": [
    "<span style=\"font-family:Arial; font-weight:Bold; font-size:1.5em; color:#00b3e5;\"> Comparing Stacker Decision Tree with BaseLine on Validation Data"
   ]
  },
  {
   "cell_type": "code",
   "execution_count": 73,
   "metadata": {
    "scrolled": false
   },
   "outputs": [
    {
     "name": "stdout",
     "output_type": "stream",
     "text": [
      "\n",
      "DTree_Stacker\n",
      "               precision    recall  f1-score   support\n",
      "\n",
      "           0       1.00      1.00      1.00         4\n",
      "           1       1.00      1.00      1.00        11\n",
      "           2       1.00      1.00      1.00         7\n",
      "\n",
      "    accuracy                           1.00        22\n",
      "   macro avg       1.00      1.00      1.00        22\n",
      "weighted avg       1.00      1.00      1.00        22\n",
      "\n",
      "\n",
      "DTree_AdaBoosted\n",
      "               precision    recall  f1-score   support\n",
      "\n",
      "           0       1.00      1.00      1.00         4\n",
      "           1       1.00      1.00      1.00        11\n",
      "           2       1.00      1.00      1.00         7\n",
      "\n",
      "    accuracy                           1.00        22\n",
      "   macro avg       1.00      1.00      1.00        22\n",
      "weighted avg       1.00      1.00      1.00        22\n",
      "\n",
      "\n",
      "DTree_GrBoosted\n",
      "               precision    recall  f1-score   support\n",
      "\n",
      "           0       1.00      1.00      1.00         4\n",
      "           1       1.00      1.00      1.00        11\n",
      "           2       1.00      1.00      1.00         7\n",
      "\n",
      "    accuracy                           1.00        22\n",
      "   macro avg       1.00      1.00      1.00        22\n",
      "weighted avg       1.00      1.00      1.00        22\n",
      "\n",
      "\n",
      "DTree\n",
      "               precision    recall  f1-score   support\n",
      "\n",
      "           0       1.00      1.00      1.00         4\n",
      "           1       1.00      1.00      1.00        11\n",
      "           2       1.00      1.00      1.00         7\n",
      "\n",
      "    accuracy                           1.00        22\n",
      "   macro avg       1.00      1.00      1.00        22\n",
      "weighted avg       1.00      1.00      1.00        22\n",
      "\n",
      "\n",
      "DTree_BaseLine\n",
      "               precision    recall  f1-score   support\n",
      "\n",
      "           0       1.00      1.00      1.00         4\n",
      "           1       1.00      1.00      1.00        11\n",
      "           2       1.00      1.00      1.00         7\n",
      "\n",
      "    accuracy                           1.00        22\n",
      "   macro avg       1.00      1.00      1.00        22\n",
      "weighted avg       1.00      1.00      1.00        22\n",
      "\n"
     ]
    }
   ],
   "source": [
    "y_Pred = DTree_Stacker.predict( X_Valid )\n",
    "DTree_Stacker_Report = classification_report( y_Valid, y_Pred )\n",
    "print( '\\nDTree_Stacker\\n'   , DTree_Stacker_Report    )\n",
    "\n",
    "print( '\\nDTree_AdaBoosted\\n', DTree_AdaBoosted_Report )\n",
    "print( '\\nDTree_GrBoosted\\n' , DTree_GrBoosted_Report  )\n",
    "print( '\\nDTree\\n'           , DTree_Report            )\n",
    "print( '\\nDTree_BaseLine\\n'  , DTree_BaseLine_Report   )"
   ]
  },
  {
   "cell_type": "markdown",
   "metadata": {},
   "source": [
    "#####   \n",
    "<span style=\"font-family:Arial; font-weight:Bold; font-size:1.8em; color:#00b3e5;\"> Making Voter"
   ]
  },
  {
   "cell_type": "code",
   "execution_count": 74,
   "metadata": {},
   "outputs": [],
   "source": [
    "level0 = list()\n",
    "#level0.append(( 'DTree_BaseLine'    , DTree_BaseLine     ))\n",
    "#level0.append(( 'DTree'             , DTree              )) \n",
    "level0.append(( 'DTree_GrBoosted'   , DTree_GrBoosted    ))\n",
    "level0.append(( 'DTree_AdaBoosted'  , DTree_AdaBoosted   ))  \n",
    "\n",
    "# define meta learner model\n",
    "level1  =  LogisticRegression()\n",
    "\n",
    "# define the votinging ensemble\n",
    "DTree_Voter = VotingClassifier( estimators=level0, voting='soft' ).fit( X_Train, y_Train ) \n",
    "\n",
    "pickle.dump( DTree_Voter,  open('DTree_Voter','wb') )  # save\n",
    "DTree_Voter = pickle.load( open('DTree_Voter','rb') )  # load"
   ]
  },
  {
   "cell_type": "markdown",
   "metadata": {},
   "source": [
    "<span style=\"font-family:Arial; font-weight:Bold; font-size:1.5em; color:#00b3e5;\"> Comparing Stacker Decision Tree with BaseLine on Validation Data"
   ]
  },
  {
   "cell_type": "code",
   "execution_count": 75,
   "metadata": {
    "scrolled": false
   },
   "outputs": [
    {
     "name": "stdout",
     "output_type": "stream",
     "text": [
      "\n",
      "DTree_Voter\n",
      "               precision    recall  f1-score   support\n",
      "\n",
      "           0       1.00      1.00      1.00         4\n",
      "           1       1.00      1.00      1.00        11\n",
      "           2       1.00      1.00      1.00         7\n",
      "\n",
      "    accuracy                           1.00        22\n",
      "   macro avg       1.00      1.00      1.00        22\n",
      "weighted avg       1.00      1.00      1.00        22\n",
      "\n",
      "\n",
      "DTree_AdaBoosted\n",
      "               precision    recall  f1-score   support\n",
      "\n",
      "           0       1.00      1.00      1.00         4\n",
      "           1       1.00      1.00      1.00        11\n",
      "           2       1.00      1.00      1.00         7\n",
      "\n",
      "    accuracy                           1.00        22\n",
      "   macro avg       1.00      1.00      1.00        22\n",
      "weighted avg       1.00      1.00      1.00        22\n",
      "\n",
      "\n",
      "DTree_GrBoosted\n",
      "               precision    recall  f1-score   support\n",
      "\n",
      "           0       1.00      1.00      1.00         4\n",
      "           1       1.00      1.00      1.00        11\n",
      "           2       1.00      1.00      1.00         7\n",
      "\n",
      "    accuracy                           1.00        22\n",
      "   macro avg       1.00      1.00      1.00        22\n",
      "weighted avg       1.00      1.00      1.00        22\n",
      "\n",
      "\n",
      "DTree\n",
      "               precision    recall  f1-score   support\n",
      "\n",
      "           0       1.00      1.00      1.00         4\n",
      "           1       1.00      1.00      1.00        11\n",
      "           2       1.00      1.00      1.00         7\n",
      "\n",
      "    accuracy                           1.00        22\n",
      "   macro avg       1.00      1.00      1.00        22\n",
      "weighted avg       1.00      1.00      1.00        22\n",
      "\n",
      "\n",
      "DTree_BaseLine\n",
      "               precision    recall  f1-score   support\n",
      "\n",
      "           0       1.00      1.00      1.00         4\n",
      "           1       1.00      1.00      1.00        11\n",
      "           2       1.00      1.00      1.00         7\n",
      "\n",
      "    accuracy                           1.00        22\n",
      "   macro avg       1.00      1.00      1.00        22\n",
      "weighted avg       1.00      1.00      1.00        22\n",
      "\n"
     ]
    }
   ],
   "source": [
    "y_Pred = DTree_Voter.predict( X_Valid )\n",
    "DTree_Voter_Report = classification_report( y_Valid, y_Pred )\n",
    "print( '\\nDTree_Voter\\n'   , DTree_Voter_Report    )\n",
    "\n",
    "print( '\\nDTree_AdaBoosted\\n', DTree_AdaBoosted_Report )\n",
    "print( '\\nDTree_GrBoosted\\n' , DTree_GrBoosted_Report  )\n",
    "print( '\\nDTree\\n'           , DTree_Report            )\n",
    "print( '\\nDTree_BaseLine\\n'  , DTree_BaseLine_Report   )"
   ]
  },
  {
   "cell_type": "markdown",
   "metadata": {},
   "source": [
    "#####   \n",
    "<span style=\"font-family:Arial; font-weight:Bold; font-size:1.7em; color:#00b3e5;\"> Checking Accuracy, Recall and Precision of Estimators on Validation Data"
   ]
  },
  {
   "cell_type": "code",
   "execution_count": 76,
   "metadata": {
    "scrolled": true
   },
   "outputs": [
    {
     "data": {
      "text/html": [
       "<style type=\"text/css\">\n",
       "#T_17215_row0_col0, #T_17215_row1_col0, #T_17215_row2_col0, #T_17215_row3_col0, #T_17215_row4_col0, #T_17215_row5_col0 {\n",
       "  background-color: #f3f0f0;\n",
       "  color: #000000;\n",
       "}\n",
       "</style>\n",
       "<table id=\"T_17215\">\n",
       "  <thead>\n",
       "    <tr>\n",
       "      <th class=\"blank level0\" >&nbsp;</th>\n",
       "      <th id=\"T_17215_level0_col0\" class=\"col_heading level0 col0\" >Accuracy</th>\n",
       "      <th id=\"T_17215_level0_col1\" class=\"col_heading level0 col1\" >Recalls</th>\n",
       "      <th id=\"T_17215_level0_col2\" class=\"col_heading level0 col2\" >Precisions</th>\n",
       "    </tr>\n",
       "  </thead>\n",
       "  <tbody>\n",
       "    <tr>\n",
       "      <th id=\"T_17215_level0_row0\" class=\"row_heading level0 row0\" >DTree_BaseLine</th>\n",
       "      <td id=\"T_17215_row0_col0\" class=\"data row0 col0\" >100.0</td>\n",
       "      <td id=\"T_17215_row0_col1\" class=\"data row0 col1\" >[100. 100. 100.]</td>\n",
       "      <td id=\"T_17215_row0_col2\" class=\"data row0 col2\" >[100. 100. 100.]</td>\n",
       "    </tr>\n",
       "    <tr>\n",
       "      <th id=\"T_17215_level0_row1\" class=\"row_heading level0 row1\" >DTree</th>\n",
       "      <td id=\"T_17215_row1_col0\" class=\"data row1 col0\" >100.0</td>\n",
       "      <td id=\"T_17215_row1_col1\" class=\"data row1 col1\" >[100. 100. 100.]</td>\n",
       "      <td id=\"T_17215_row1_col2\" class=\"data row1 col2\" >[100. 100. 100.]</td>\n",
       "    </tr>\n",
       "    <tr>\n",
       "      <th id=\"T_17215_level0_row2\" class=\"row_heading level0 row2\" >DTree_GrBoosted</th>\n",
       "      <td id=\"T_17215_row2_col0\" class=\"data row2 col0\" >100.0</td>\n",
       "      <td id=\"T_17215_row2_col1\" class=\"data row2 col1\" >[100. 100. 100.]</td>\n",
       "      <td id=\"T_17215_row2_col2\" class=\"data row2 col2\" >[100. 100. 100.]</td>\n",
       "    </tr>\n",
       "    <tr>\n",
       "      <th id=\"T_17215_level0_row3\" class=\"row_heading level0 row3\" >DTree_AdaBoosted</th>\n",
       "      <td id=\"T_17215_row3_col0\" class=\"data row3 col0\" >100.0</td>\n",
       "      <td id=\"T_17215_row3_col1\" class=\"data row3 col1\" >[100. 100. 100.]</td>\n",
       "      <td id=\"T_17215_row3_col2\" class=\"data row3 col2\" >[100. 100. 100.]</td>\n",
       "    </tr>\n",
       "    <tr>\n",
       "      <th id=\"T_17215_level0_row4\" class=\"row_heading level0 row4\" >DTree_Stacker</th>\n",
       "      <td id=\"T_17215_row4_col0\" class=\"data row4 col0\" >100.0</td>\n",
       "      <td id=\"T_17215_row4_col1\" class=\"data row4 col1\" >[100. 100. 100.]</td>\n",
       "      <td id=\"T_17215_row4_col2\" class=\"data row4 col2\" >[100. 100. 100.]</td>\n",
       "    </tr>\n",
       "    <tr>\n",
       "      <th id=\"T_17215_level0_row5\" class=\"row_heading level0 row5\" >DTree_Voter</th>\n",
       "      <td id=\"T_17215_row5_col0\" class=\"data row5 col0\" >100.0</td>\n",
       "      <td id=\"T_17215_row5_col1\" class=\"data row5 col1\" >[100. 100. 100.]</td>\n",
       "      <td id=\"T_17215_row5_col2\" class=\"data row5 col2\" >[100. 100. 100.]</td>\n",
       "    </tr>\n",
       "  </tbody>\n",
       "</table>\n"
      ],
      "text/plain": [
       "<pandas.io.formats.style.Styler at 0x239853189d0>"
      ]
     },
     "execution_count": 76,
     "metadata": {},
     "output_type": "execute_result"
    }
   ],
   "source": [
    "ESTIMATORS = [  DTree_BaseLine ,  DTree ,  DTree_GrBoosted ,  DTree_AdaBoosted , \n",
    "                DTree_Stacker  ,  DTree_Voter  ]\n",
    "LABELS     = [ 'DTree_BaseLine', 'DTree', 'DTree_GrBoosted', 'DTree_AdaBoosted',\n",
    "               'DTree_Stacker' , 'DTree_Voter' ]\n",
    "\n",
    "ACCURACIS, RECALLS, PRECISIONS = [],[],[]\n",
    "\n",
    "for estimator in ESTIMATORS:\n",
    "    y_pred  = estimator.predict( X_Valid )\n",
    "    \n",
    "    A_Score =  accuracy_score(y_Valid, y_pred,        normalize=True        )\n",
    "    R_Score =    recall_score(y_Valid, y_pred, average=None, zero_division=1)  \n",
    "    P_Score = precision_score(y_Valid, y_pred, average=None, zero_division=1)\n",
    "    \n",
    "    A_Score=np.round(A_Score*100,0);   ACCURACIS.append(A_Score)\n",
    "    R_Score=np.round(R_Score*100,0);     RECALLS.append(R_Score)\n",
    "    P_Score=np.round(P_Score*100,0);  PRECISIONS.append(P_Score)\n",
    "    \n",
    "Estimators_ARP = pd.DataFrame([ACCURACIS,RECALLS,PRECISIONS]).T\n",
    "Estimators_ARP.columns = [ 'Accuracy','Recalls','Precisions' ]\n",
    "Estimators_ARP.index   = LABELS\n",
    "\n",
    "cm = sns.light_palette('#ffcccb', as_cmap=True)\n",
    "Estimators_ARP.style.background_gradient(subset=['Accuracy'], cmap=cm).format(precision=1)"
   ]
  },
  {
   "cell_type": "markdown",
   "metadata": {},
   "source": [
    "<span style=\"font-family:Arial; font-weight:Bold; font-size:1.5em; color:deeppink;\"> Report\n",
    " - Considering the recall, **DTree_Voter** is the best estimator "
   ]
  },
  {
   "cell_type": "markdown",
   "metadata": {},
   "source": [
    "** **"
   ]
  },
  {
   "cell_type": "markdown",
   "metadata": {},
   "source": [
    "<span style=\"font-family:Arial; font-weight:Bold; font-size:1.8em; color:#00b3e5;\"> Comparing The Performance of Estimators on Test Data"
   ]
  },
  {
   "cell_type": "code",
   "execution_count": 79,
   "metadata": {
    "scrolled": true
   },
   "outputs": [
    {
     "name": "stdout",
     "output_type": "stream",
     "text": [
      "                      Mean     SD       95% CI\n",
      ">     DTree_BaseLine  1.000  (0.000)  [1.00 1.00]\n",
      ">              DTree  1.000  (0.000)  [1.00 1.00]\n",
      ">    DTree_GrBoosted  1.000  (0.000)  [1.00 1.00]\n",
      ">   DTree_AdaBoosted  0.914  (0.087)  [0.74 1.09]\n"
     ]
    },
    {
     "ename": "ValueError",
     "evalue": "n_splits=10 cannot be greater than the number of members in each class.",
     "output_type": "error",
     "traceback": [
      "\u001b[1;31m---------------------------------------------------------------------------\u001b[0m",
      "\u001b[1;31m_RemoteTraceback\u001b[0m                          Traceback (most recent call last)",
      "\u001b[1;31m_RemoteTraceback\u001b[0m: \n\"\"\"\nTraceback (most recent call last):\n  File \"C:\\ProgramData\\anaconda3\\lib\\site-packages\\joblib\\externals\\loky\\process_executor.py\", line 436, in _process_worker\n    r = call_item()\n  File \"C:\\ProgramData\\anaconda3\\lib\\site-packages\\joblib\\externals\\loky\\process_executor.py\", line 288, in __call__\n    return self.fn(*self.args, **self.kwargs)\n  File \"C:\\ProgramData\\anaconda3\\lib\\site-packages\\joblib\\_parallel_backends.py\", line 595, in __call__\n    return self.func(*args, **kwargs)\n  File \"C:\\ProgramData\\anaconda3\\lib\\site-packages\\joblib\\parallel.py\", line 263, in __call__\n    return [func(*args, **kwargs)\n  File \"C:\\ProgramData\\anaconda3\\lib\\site-packages\\joblib\\parallel.py\", line 263, in <listcomp>\n    return [func(*args, **kwargs)\n  File \"C:\\ProgramData\\anaconda3\\lib\\site-packages\\sklearn\\utils\\parallel.py\", line 123, in __call__\n    return self.function(*args, **kwargs)\n  File \"C:\\ProgramData\\anaconda3\\lib\\site-packages\\sklearn\\model_selection\\_validation.py\", line 686, in _fit_and_score\n    estimator.fit(X_train, y_train, **fit_params)\n  File \"C:\\ProgramData\\anaconda3\\lib\\site-packages\\sklearn\\ensemble\\_stacking.py\", line 660, in fit\n    return super().fit(X, y_encoded, sample_weight)\n  File \"C:\\ProgramData\\anaconda3\\lib\\site-packages\\sklearn\\ensemble\\_stacking.py\", line 252, in fit\n    predictions = Parallel(n_jobs=self.n_jobs)(\n  File \"C:\\ProgramData\\anaconda3\\lib\\site-packages\\sklearn\\utils\\parallel.py\", line 63, in __call__\n    return super().__call__(iterable_with_config)\n  File \"C:\\ProgramData\\anaconda3\\lib\\site-packages\\joblib\\parallel.py\", line 1048, in __call__\n    if self.dispatch_one_batch(iterator):\n  File \"C:\\ProgramData\\anaconda3\\lib\\site-packages\\joblib\\parallel.py\", line 864, in dispatch_one_batch\n    self._dispatch(tasks)\n  File \"C:\\ProgramData\\anaconda3\\lib\\site-packages\\joblib\\parallel.py\", line 782, in _dispatch\n    job = self._backend.apply_async(batch, callback=cb)\n  File \"C:\\ProgramData\\anaconda3\\lib\\site-packages\\joblib\\_parallel_backends.py\", line 208, in apply_async\n    result = ImmediateResult(func)\n  File \"C:\\ProgramData\\anaconda3\\lib\\site-packages\\joblib\\_parallel_backends.py\", line 572, in __init__\n    self.results = batch()\n  File \"C:\\ProgramData\\anaconda3\\lib\\site-packages\\joblib\\parallel.py\", line 263, in __call__\n    return [func(*args, **kwargs)\n  File \"C:\\ProgramData\\anaconda3\\lib\\site-packages\\joblib\\parallel.py\", line 263, in <listcomp>\n    return [func(*args, **kwargs)\n  File \"C:\\ProgramData\\anaconda3\\lib\\site-packages\\sklearn\\utils\\parallel.py\", line 123, in __call__\n    return self.function(*args, **kwargs)\n  File \"C:\\ProgramData\\anaconda3\\lib\\site-packages\\sklearn\\model_selection\\_validation.py\", line 960, in cross_val_predict\n    splits = list(cv.split(X, y, groups))\n  File \"C:\\ProgramData\\anaconda3\\lib\\site-packages\\sklearn\\model_selection\\_split.py\", line 352, in split\n    for train, test in super().split(X, y, groups):\n  File \"C:\\ProgramData\\anaconda3\\lib\\site-packages\\sklearn\\model_selection\\_split.py\", line 85, in split\n    for test_index in self._iter_test_masks(X, y, groups):\n  File \"C:\\ProgramData\\anaconda3\\lib\\site-packages\\sklearn\\model_selection\\_split.py\", line 733, in _iter_test_masks\n    test_folds = self._make_test_folds(X, y)\n  File \"C:\\ProgramData\\anaconda3\\lib\\site-packages\\sklearn\\model_selection\\_split.py\", line 695, in _make_test_folds\n    raise ValueError(\nValueError: n_splits=10 cannot be greater than the number of members in each class.\n\"\"\"",
      "\nThe above exception was the direct cause of the following exception:\n",
      "\u001b[1;31mValueError\u001b[0m                                Traceback (most recent call last)",
      "Cell \u001b[1;32mIn[79], line 18\u001b[0m\n\u001b[0;32m     16\u001b[0m \u001b[38;5;28mprint\u001b[39m(\u001b[38;5;124m'\u001b[39m\u001b[38;5;124m                      Mean     SD       95\u001b[39m\u001b[38;5;124m%\u001b[39m\u001b[38;5;124m CI\u001b[39m\u001b[38;5;124m'\u001b[39m) \n\u001b[0;32m     17\u001b[0m \u001b[38;5;28;01mfor\u001b[39;00m name, model \u001b[38;5;129;01min\u001b[39;00m models\u001b[38;5;241m.\u001b[39mitems():\n\u001b[1;32m---> 18\u001b[0m     scores \u001b[38;5;241m=\u001b[39m \u001b[43mevaluate_model\u001b[49m\u001b[43m(\u001b[49m\u001b[43m \u001b[49m\u001b[43mmodel\u001b[49m\u001b[43m,\u001b[49m\u001b[43m \u001b[49m\u001b[43mX_Test\u001b[49m\u001b[43m,\u001b[49m\u001b[43m \u001b[49m\u001b[43my_Test\u001b[49m\u001b[43m \u001b[49m\u001b[43m)\u001b[49m\n\u001b[0;32m     19\u001b[0m     results\u001b[38;5;241m.\u001b[39mappend(scores)\n\u001b[0;32m     20\u001b[0m     names\u001b[38;5;241m.\u001b[39mappend(name)\n",
      "Cell \u001b[1;32mIn[79], line 12\u001b[0m, in \u001b[0;36mevaluate_model\u001b[1;34m(model, X, y)\u001b[0m\n\u001b[0;32m     10\u001b[0m \u001b[38;5;28;01mdef\u001b[39;00m \u001b[38;5;21mevaluate_model\u001b[39m(model, X, y):\n\u001b[0;32m     11\u001b[0m     cv \u001b[38;5;241m=\u001b[39m RepeatedStratifiedKFold(n_splits\u001b[38;5;241m=\u001b[39m\u001b[38;5;241m2\u001b[39m, n_repeats\u001b[38;5;241m=\u001b[39m\u001b[38;5;241m5\u001b[39m, random_state\u001b[38;5;241m=\u001b[39mRANDOM_STATE)\n\u001b[1;32m---> 12\u001b[0m     scores \u001b[38;5;241m=\u001b[39m \u001b[43mcross_val_score\u001b[49m\u001b[43m(\u001b[49m\u001b[43mmodel\u001b[49m\u001b[43m,\u001b[49m\u001b[43m \u001b[49m\u001b[43mX\u001b[49m\u001b[43m,\u001b[49m\u001b[43m \u001b[49m\u001b[43my\u001b[49m\u001b[43m,\u001b[49m\u001b[43m \u001b[49m\u001b[43mscoring\u001b[49m\u001b[38;5;241;43m=\u001b[39;49m\u001b[38;5;124;43m'\u001b[39;49m\u001b[38;5;124;43maccuracy\u001b[39;49m\u001b[38;5;124;43m'\u001b[39;49m\u001b[43m,\u001b[49m\u001b[43m \u001b[49m\u001b[43mcv\u001b[49m\u001b[38;5;241;43m=\u001b[39;49m\u001b[43mcv\u001b[49m\u001b[43m,\u001b[49m\u001b[43m \u001b[49m\u001b[43mn_jobs\u001b[49m\u001b[38;5;241;43m=\u001b[39;49m\u001b[38;5;241;43m-\u001b[39;49m\u001b[38;5;241;43m1\u001b[39;49m\u001b[43m,\u001b[49m\u001b[43m \u001b[49m\u001b[43merror_score\u001b[49m\u001b[38;5;241;43m=\u001b[39;49m\u001b[38;5;124;43m'\u001b[39;49m\u001b[38;5;124;43mraise\u001b[39;49m\u001b[38;5;124;43m'\u001b[39;49m\u001b[43m)\u001b[49m\n\u001b[0;32m     13\u001b[0m     \u001b[38;5;28;01mreturn\u001b[39;00m scores\n",
      "File \u001b[1;32mC:\\ProgramData\\anaconda3\\lib\\site-packages\\sklearn\\model_selection\\_validation.py:515\u001b[0m, in \u001b[0;36mcross_val_score\u001b[1;34m(estimator, X, y, groups, scoring, cv, n_jobs, verbose, fit_params, pre_dispatch, error_score)\u001b[0m\n\u001b[0;32m    512\u001b[0m \u001b[38;5;66;03m# To ensure multimetric format is not supported\u001b[39;00m\n\u001b[0;32m    513\u001b[0m scorer \u001b[38;5;241m=\u001b[39m check_scoring(estimator, scoring\u001b[38;5;241m=\u001b[39mscoring)\n\u001b[1;32m--> 515\u001b[0m cv_results \u001b[38;5;241m=\u001b[39m \u001b[43mcross_validate\u001b[49m\u001b[43m(\u001b[49m\n\u001b[0;32m    516\u001b[0m \u001b[43m    \u001b[49m\u001b[43mestimator\u001b[49m\u001b[38;5;241;43m=\u001b[39;49m\u001b[43mestimator\u001b[49m\u001b[43m,\u001b[49m\n\u001b[0;32m    517\u001b[0m \u001b[43m    \u001b[49m\u001b[43mX\u001b[49m\u001b[38;5;241;43m=\u001b[39;49m\u001b[43mX\u001b[49m\u001b[43m,\u001b[49m\n\u001b[0;32m    518\u001b[0m \u001b[43m    \u001b[49m\u001b[43my\u001b[49m\u001b[38;5;241;43m=\u001b[39;49m\u001b[43my\u001b[49m\u001b[43m,\u001b[49m\n\u001b[0;32m    519\u001b[0m \u001b[43m    \u001b[49m\u001b[43mgroups\u001b[49m\u001b[38;5;241;43m=\u001b[39;49m\u001b[43mgroups\u001b[49m\u001b[43m,\u001b[49m\n\u001b[0;32m    520\u001b[0m \u001b[43m    \u001b[49m\u001b[43mscoring\u001b[49m\u001b[38;5;241;43m=\u001b[39;49m\u001b[43m{\u001b[49m\u001b[38;5;124;43m\"\u001b[39;49m\u001b[38;5;124;43mscore\u001b[39;49m\u001b[38;5;124;43m\"\u001b[39;49m\u001b[43m:\u001b[49m\u001b[43m \u001b[49m\u001b[43mscorer\u001b[49m\u001b[43m}\u001b[49m\u001b[43m,\u001b[49m\n\u001b[0;32m    521\u001b[0m \u001b[43m    \u001b[49m\u001b[43mcv\u001b[49m\u001b[38;5;241;43m=\u001b[39;49m\u001b[43mcv\u001b[49m\u001b[43m,\u001b[49m\n\u001b[0;32m    522\u001b[0m \u001b[43m    \u001b[49m\u001b[43mn_jobs\u001b[49m\u001b[38;5;241;43m=\u001b[39;49m\u001b[43mn_jobs\u001b[49m\u001b[43m,\u001b[49m\n\u001b[0;32m    523\u001b[0m \u001b[43m    \u001b[49m\u001b[43mverbose\u001b[49m\u001b[38;5;241;43m=\u001b[39;49m\u001b[43mverbose\u001b[49m\u001b[43m,\u001b[49m\n\u001b[0;32m    524\u001b[0m \u001b[43m    \u001b[49m\u001b[43mfit_params\u001b[49m\u001b[38;5;241;43m=\u001b[39;49m\u001b[43mfit_params\u001b[49m\u001b[43m,\u001b[49m\n\u001b[0;32m    525\u001b[0m \u001b[43m    \u001b[49m\u001b[43mpre_dispatch\u001b[49m\u001b[38;5;241;43m=\u001b[39;49m\u001b[43mpre_dispatch\u001b[49m\u001b[43m,\u001b[49m\n\u001b[0;32m    526\u001b[0m \u001b[43m    \u001b[49m\u001b[43merror_score\u001b[49m\u001b[38;5;241;43m=\u001b[39;49m\u001b[43merror_score\u001b[49m\u001b[43m,\u001b[49m\n\u001b[0;32m    527\u001b[0m \u001b[43m\u001b[49m\u001b[43m)\u001b[49m\n\u001b[0;32m    528\u001b[0m \u001b[38;5;28;01mreturn\u001b[39;00m cv_results[\u001b[38;5;124m\"\u001b[39m\u001b[38;5;124mtest_score\u001b[39m\u001b[38;5;124m\"\u001b[39m]\n",
      "File \u001b[1;32mC:\\ProgramData\\anaconda3\\lib\\site-packages\\sklearn\\model_selection\\_validation.py:266\u001b[0m, in \u001b[0;36mcross_validate\u001b[1;34m(estimator, X, y, groups, scoring, cv, n_jobs, verbose, fit_params, pre_dispatch, return_train_score, return_estimator, error_score)\u001b[0m\n\u001b[0;32m    263\u001b[0m \u001b[38;5;66;03m# We clone the estimator to make sure that all the folds are\u001b[39;00m\n\u001b[0;32m    264\u001b[0m \u001b[38;5;66;03m# independent, and that it is pickle-able.\u001b[39;00m\n\u001b[0;32m    265\u001b[0m parallel \u001b[38;5;241m=\u001b[39m Parallel(n_jobs\u001b[38;5;241m=\u001b[39mn_jobs, verbose\u001b[38;5;241m=\u001b[39mverbose, pre_dispatch\u001b[38;5;241m=\u001b[39mpre_dispatch)\n\u001b[1;32m--> 266\u001b[0m results \u001b[38;5;241m=\u001b[39m \u001b[43mparallel\u001b[49m\u001b[43m(\u001b[49m\n\u001b[0;32m    267\u001b[0m \u001b[43m    \u001b[49m\u001b[43mdelayed\u001b[49m\u001b[43m(\u001b[49m\u001b[43m_fit_and_score\u001b[49m\u001b[43m)\u001b[49m\u001b[43m(\u001b[49m\n\u001b[0;32m    268\u001b[0m \u001b[43m        \u001b[49m\u001b[43mclone\u001b[49m\u001b[43m(\u001b[49m\u001b[43mestimator\u001b[49m\u001b[43m)\u001b[49m\u001b[43m,\u001b[49m\n\u001b[0;32m    269\u001b[0m \u001b[43m        \u001b[49m\u001b[43mX\u001b[49m\u001b[43m,\u001b[49m\n\u001b[0;32m    270\u001b[0m \u001b[43m        \u001b[49m\u001b[43my\u001b[49m\u001b[43m,\u001b[49m\n\u001b[0;32m    271\u001b[0m \u001b[43m        \u001b[49m\u001b[43mscorers\u001b[49m\u001b[43m,\u001b[49m\n\u001b[0;32m    272\u001b[0m \u001b[43m        \u001b[49m\u001b[43mtrain\u001b[49m\u001b[43m,\u001b[49m\n\u001b[0;32m    273\u001b[0m \u001b[43m        \u001b[49m\u001b[43mtest\u001b[49m\u001b[43m,\u001b[49m\n\u001b[0;32m    274\u001b[0m \u001b[43m        \u001b[49m\u001b[43mverbose\u001b[49m\u001b[43m,\u001b[49m\n\u001b[0;32m    275\u001b[0m \u001b[43m        \u001b[49m\u001b[38;5;28;43;01mNone\u001b[39;49;00m\u001b[43m,\u001b[49m\n\u001b[0;32m    276\u001b[0m \u001b[43m        \u001b[49m\u001b[43mfit_params\u001b[49m\u001b[43m,\u001b[49m\n\u001b[0;32m    277\u001b[0m \u001b[43m        \u001b[49m\u001b[43mreturn_train_score\u001b[49m\u001b[38;5;241;43m=\u001b[39;49m\u001b[43mreturn_train_score\u001b[49m\u001b[43m,\u001b[49m\n\u001b[0;32m    278\u001b[0m \u001b[43m        \u001b[49m\u001b[43mreturn_times\u001b[49m\u001b[38;5;241;43m=\u001b[39;49m\u001b[38;5;28;43;01mTrue\u001b[39;49;00m\u001b[43m,\u001b[49m\n\u001b[0;32m    279\u001b[0m \u001b[43m        \u001b[49m\u001b[43mreturn_estimator\u001b[49m\u001b[38;5;241;43m=\u001b[39;49m\u001b[43mreturn_estimator\u001b[49m\u001b[43m,\u001b[49m\n\u001b[0;32m    280\u001b[0m \u001b[43m        \u001b[49m\u001b[43merror_score\u001b[49m\u001b[38;5;241;43m=\u001b[39;49m\u001b[43merror_score\u001b[49m\u001b[43m,\u001b[49m\n\u001b[0;32m    281\u001b[0m \u001b[43m    \u001b[49m\u001b[43m)\u001b[49m\n\u001b[0;32m    282\u001b[0m \u001b[43m    \u001b[49m\u001b[38;5;28;43;01mfor\u001b[39;49;00m\u001b[43m \u001b[49m\u001b[43mtrain\u001b[49m\u001b[43m,\u001b[49m\u001b[43m \u001b[49m\u001b[43mtest\u001b[49m\u001b[43m \u001b[49m\u001b[38;5;129;43;01min\u001b[39;49;00m\u001b[43m \u001b[49m\u001b[43mcv\u001b[49m\u001b[38;5;241;43m.\u001b[39;49m\u001b[43msplit\u001b[49m\u001b[43m(\u001b[49m\u001b[43mX\u001b[49m\u001b[43m,\u001b[49m\u001b[43m \u001b[49m\u001b[43my\u001b[49m\u001b[43m,\u001b[49m\u001b[43m \u001b[49m\u001b[43mgroups\u001b[49m\u001b[43m)\u001b[49m\n\u001b[0;32m    283\u001b[0m \u001b[43m\u001b[49m\u001b[43m)\u001b[49m\n\u001b[0;32m    285\u001b[0m _warn_or_raise_about_fit_failures(results, error_score)\n\u001b[0;32m    287\u001b[0m \u001b[38;5;66;03m# For callabe scoring, the return type is only know after calling. If the\u001b[39;00m\n\u001b[0;32m    288\u001b[0m \u001b[38;5;66;03m# return type is a dictionary, the error scores can now be inserted with\u001b[39;00m\n\u001b[0;32m    289\u001b[0m \u001b[38;5;66;03m# the correct key.\u001b[39;00m\n",
      "File \u001b[1;32mC:\\ProgramData\\anaconda3\\lib\\site-packages\\sklearn\\utils\\parallel.py:63\u001b[0m, in \u001b[0;36mParallel.__call__\u001b[1;34m(self, iterable)\u001b[0m\n\u001b[0;32m     58\u001b[0m config \u001b[38;5;241m=\u001b[39m get_config()\n\u001b[0;32m     59\u001b[0m iterable_with_config \u001b[38;5;241m=\u001b[39m (\n\u001b[0;32m     60\u001b[0m     (_with_config(delayed_func, config), args, kwargs)\n\u001b[0;32m     61\u001b[0m     \u001b[38;5;28;01mfor\u001b[39;00m delayed_func, args, kwargs \u001b[38;5;129;01min\u001b[39;00m iterable\n\u001b[0;32m     62\u001b[0m )\n\u001b[1;32m---> 63\u001b[0m \u001b[38;5;28;01mreturn\u001b[39;00m \u001b[38;5;28;43msuper\u001b[39;49m\u001b[43m(\u001b[49m\u001b[43m)\u001b[49m\u001b[38;5;241;43m.\u001b[39;49m\u001b[38;5;21;43m__call__\u001b[39;49m\u001b[43m(\u001b[49m\u001b[43miterable_with_config\u001b[49m\u001b[43m)\u001b[49m\n",
      "File \u001b[1;32mC:\\ProgramData\\anaconda3\\lib\\site-packages\\joblib\\parallel.py:1061\u001b[0m, in \u001b[0;36mParallel.__call__\u001b[1;34m(self, iterable)\u001b[0m\n\u001b[0;32m   1058\u001b[0m     \u001b[38;5;28mself\u001b[39m\u001b[38;5;241m.\u001b[39m_iterating \u001b[38;5;241m=\u001b[39m \u001b[38;5;28;01mFalse\u001b[39;00m\n\u001b[0;32m   1060\u001b[0m \u001b[38;5;28;01mwith\u001b[39;00m \u001b[38;5;28mself\u001b[39m\u001b[38;5;241m.\u001b[39m_backend\u001b[38;5;241m.\u001b[39mretrieval_context():\n\u001b[1;32m-> 1061\u001b[0m     \u001b[38;5;28;43mself\u001b[39;49m\u001b[38;5;241;43m.\u001b[39;49m\u001b[43mretrieve\u001b[49m\u001b[43m(\u001b[49m\u001b[43m)\u001b[49m\n\u001b[0;32m   1062\u001b[0m \u001b[38;5;66;03m# Make sure that we get a last message telling us we are done\u001b[39;00m\n\u001b[0;32m   1063\u001b[0m elapsed_time \u001b[38;5;241m=\u001b[39m time\u001b[38;5;241m.\u001b[39mtime() \u001b[38;5;241m-\u001b[39m \u001b[38;5;28mself\u001b[39m\u001b[38;5;241m.\u001b[39m_start_time\n",
      "File \u001b[1;32mC:\\ProgramData\\anaconda3\\lib\\site-packages\\joblib\\parallel.py:938\u001b[0m, in \u001b[0;36mParallel.retrieve\u001b[1;34m(self)\u001b[0m\n\u001b[0;32m    936\u001b[0m \u001b[38;5;28;01mtry\u001b[39;00m:\n\u001b[0;32m    937\u001b[0m     \u001b[38;5;28;01mif\u001b[39;00m \u001b[38;5;28mgetattr\u001b[39m(\u001b[38;5;28mself\u001b[39m\u001b[38;5;241m.\u001b[39m_backend, \u001b[38;5;124m'\u001b[39m\u001b[38;5;124msupports_timeout\u001b[39m\u001b[38;5;124m'\u001b[39m, \u001b[38;5;28;01mFalse\u001b[39;00m):\n\u001b[1;32m--> 938\u001b[0m         \u001b[38;5;28mself\u001b[39m\u001b[38;5;241m.\u001b[39m_output\u001b[38;5;241m.\u001b[39mextend(\u001b[43mjob\u001b[49m\u001b[38;5;241;43m.\u001b[39;49m\u001b[43mget\u001b[49m\u001b[43m(\u001b[49m\u001b[43mtimeout\u001b[49m\u001b[38;5;241;43m=\u001b[39;49m\u001b[38;5;28;43mself\u001b[39;49m\u001b[38;5;241;43m.\u001b[39;49m\u001b[43mtimeout\u001b[49m\u001b[43m)\u001b[49m)\n\u001b[0;32m    939\u001b[0m     \u001b[38;5;28;01melse\u001b[39;00m:\n\u001b[0;32m    940\u001b[0m         \u001b[38;5;28mself\u001b[39m\u001b[38;5;241m.\u001b[39m_output\u001b[38;5;241m.\u001b[39mextend(job\u001b[38;5;241m.\u001b[39mget())\n",
      "File \u001b[1;32mC:\\ProgramData\\anaconda3\\lib\\site-packages\\joblib\\_parallel_backends.py:542\u001b[0m, in \u001b[0;36mLokyBackend.wrap_future_result\u001b[1;34m(future, timeout)\u001b[0m\n\u001b[0;32m    539\u001b[0m \u001b[38;5;250m\u001b[39m\u001b[38;5;124;03m\"\"\"Wrapper for Future.result to implement the same behaviour as\u001b[39;00m\n\u001b[0;32m    540\u001b[0m \u001b[38;5;124;03mAsyncResults.get from multiprocessing.\"\"\"\u001b[39;00m\n\u001b[0;32m    541\u001b[0m \u001b[38;5;28;01mtry\u001b[39;00m:\n\u001b[1;32m--> 542\u001b[0m     \u001b[38;5;28;01mreturn\u001b[39;00m \u001b[43mfuture\u001b[49m\u001b[38;5;241;43m.\u001b[39;49m\u001b[43mresult\u001b[49m\u001b[43m(\u001b[49m\u001b[43mtimeout\u001b[49m\u001b[38;5;241;43m=\u001b[39;49m\u001b[43mtimeout\u001b[49m\u001b[43m)\u001b[49m\n\u001b[0;32m    543\u001b[0m \u001b[38;5;28;01mexcept\u001b[39;00m CfTimeoutError \u001b[38;5;28;01mas\u001b[39;00m e:\n\u001b[0;32m    544\u001b[0m     \u001b[38;5;28;01mraise\u001b[39;00m \u001b[38;5;167;01mTimeoutError\u001b[39;00m \u001b[38;5;28;01mfrom\u001b[39;00m \u001b[38;5;21;01me\u001b[39;00m\n",
      "File \u001b[1;32mC:\\ProgramData\\anaconda3\\lib\\concurrent\\futures\\_base.py:458\u001b[0m, in \u001b[0;36mFuture.result\u001b[1;34m(self, timeout)\u001b[0m\n\u001b[0;32m    456\u001b[0m     \u001b[38;5;28;01mraise\u001b[39;00m CancelledError()\n\u001b[0;32m    457\u001b[0m \u001b[38;5;28;01melif\u001b[39;00m \u001b[38;5;28mself\u001b[39m\u001b[38;5;241m.\u001b[39m_state \u001b[38;5;241m==\u001b[39m FINISHED:\n\u001b[1;32m--> 458\u001b[0m     \u001b[38;5;28;01mreturn\u001b[39;00m \u001b[38;5;28;43mself\u001b[39;49m\u001b[38;5;241;43m.\u001b[39;49m\u001b[43m__get_result\u001b[49m\u001b[43m(\u001b[49m\u001b[43m)\u001b[49m\n\u001b[0;32m    459\u001b[0m \u001b[38;5;28;01melse\u001b[39;00m:\n\u001b[0;32m    460\u001b[0m     \u001b[38;5;28;01mraise\u001b[39;00m \u001b[38;5;167;01mTimeoutError\u001b[39;00m()\n",
      "File \u001b[1;32mC:\\ProgramData\\anaconda3\\lib\\concurrent\\futures\\_base.py:403\u001b[0m, in \u001b[0;36mFuture.__get_result\u001b[1;34m(self)\u001b[0m\n\u001b[0;32m    401\u001b[0m \u001b[38;5;28;01mif\u001b[39;00m \u001b[38;5;28mself\u001b[39m\u001b[38;5;241m.\u001b[39m_exception:\n\u001b[0;32m    402\u001b[0m     \u001b[38;5;28;01mtry\u001b[39;00m:\n\u001b[1;32m--> 403\u001b[0m         \u001b[38;5;28;01mraise\u001b[39;00m \u001b[38;5;28mself\u001b[39m\u001b[38;5;241m.\u001b[39m_exception\n\u001b[0;32m    404\u001b[0m     \u001b[38;5;28;01mfinally\u001b[39;00m:\n\u001b[0;32m    405\u001b[0m         \u001b[38;5;66;03m# Break a reference cycle with the exception in self._exception\u001b[39;00m\n\u001b[0;32m    406\u001b[0m         \u001b[38;5;28mself\u001b[39m \u001b[38;5;241m=\u001b[39m \u001b[38;5;28;01mNone\u001b[39;00m\n",
      "\u001b[1;31mValueError\u001b[0m: n_splits=10 cannot be greater than the number of members in each class."
     ]
    }
   ],
   "source": [
    "models = dict() \n",
    "models['DTree_BaseLine'    ] = DTree_BaseLine\n",
    "models['DTree'             ] = DTree\n",
    "models['DTree_GrBoosted'   ] = DTree_GrBoosted\n",
    "models['DTree_AdaBoosted'  ] = DTree_AdaBoosted \n",
    "models['DTree_Stacker'     ] = DTree_Stacker\n",
    "models['DTree_Voter'       ] = DTree_Voter\n",
    " \n",
    "\n",
    "def evaluate_model(model, X, y):\n",
    "    cv = RepeatedStratifiedKFold(n_splits=10, n_repeats=5, random_state=RANDOM_STATE)\n",
    "    scores = cross_val_score(model, X, y, scoring='accuracy', cv=cv, n_jobs=-1, error_score='raise')\n",
    "    return scores\n",
    "\n",
    "results, names = list(), list()\n",
    "print('                      Mean     SD       95% CI') \n",
    "for name, model in models.items():\n",
    "    scores = evaluate_model( model, X_Test, y_Test )\n",
    "    results.append(scores)\n",
    "    names.append(name)\n",
    "    print('>%19s  %.3f  (%.3f)  [%.2f %.2f]' % (name, mean(scores), std(scores), mean(scores)-2*std(scores), mean(scores)+2*std(scores)   ))\n",
    "    \n",
    "# plot model performance for comparison\n",
    "plt.boxplot( results, labels=names, showmeans=True ); plt.xticks(rotation=90); plt.grid(False); plt.show()"
   ]
  },
  {
   "cell_type": "markdown",
   "metadata": {},
   "source": [
    "<span style=\"font-family:Arial; font-weight:Bold; font-size:1.5em; color:deeppink;\"> Report\n",
    " - **DTree_Voter** performed just fine."
   ]
  },
  {
   "cell_type": "markdown",
   "metadata": {},
   "source": [
    "** **"
   ]
  },
  {
   "cell_type": "markdown",
   "metadata": {},
   "source": [
    "<span style=\"font-family:Arial; font-weight:Bold; font-size:1.8em; color:#00b3e5;\"> Evaluating DTree_AdaBoosted"
   ]
  },
  {
   "cell_type": "markdown",
   "metadata": {},
   "source": [
    "<span style=\"font-family:Arial; font-weight:Bold; font-size:1.5em; color:#00b3e5;\"> Visualizing"
   ]
  },
  {
   "cell_type": "code",
   "execution_count": 82,
   "metadata": {
    "scrolled": false
   },
   "outputs": [
    {
     "data": {
      "image/png": "[encoded data removed]",
      "text/plain": [
       "<Figure size 640x480 with 2 Axes>"
      ]
     },
     "metadata": {},
     "output_type": "display_data"
    },
    {
     "data": {
      "image/png": "[encoded data removed]",
      "text/plain": [
       "<Figure size 640x480 with 2 Axes>"
      ]
     },
     "metadata": {},
     "output_type": "display_data"
    },
    {
     "data": {
      "image/png": "[encoded data removed]",
      "text/plain": [
       "<Figure size 640x480 with 2 Axes>"
      ]
     },
     "metadata": {},
     "output_type": "display_data"
    }
   ],
   "source": [
    "CLF      =  DTree_Voter\n",
    "CLF_Name = 'DTree_Voter'\n",
    "\n",
    "# Training Performance\n",
    "figure = ConfusionMatrixDisplay.from_estimator( CLF, X_Train, y_Train, display_labels=Classes )\n",
    "plt.title( CLF_Name+'  (Train)' ); plt.show()\n",
    "\n",
    "# Valid Performance   \n",
    "disp = ConfusionMatrixDisplay.from_estimator( CLF, X_Valid, y_Valid, display_labels=Classes  )\n",
    "plt.title( CLF_Name+'  (Valid)' ); plt.show()\n",
    "\n",
    "# Test Performance\n",
    "disp = ConfusionMatrixDisplay.from_estimator( CLF, X_Test,  y_Test,  display_labels=Classes  )\n",
    "plt.title( CLF_Name+'  (Test)' ); plt.show()"
   ]
  },
  {
   "cell_type": "markdown",
   "metadata": {},
   "source": [
    "<span style=\"font-family:Arial; font-weight:Bold; font-size:1.5em; color:#00b3e5;\"> Comparing DTree_Voter with BaseLine on Test Data"
   ]
  },
  {
   "cell_type": "code",
   "execution_count": 83,
   "metadata": {
    "scrolled": false
   },
   "outputs": [
    {
     "name": "stdout",
     "output_type": "stream",
     "text": [
      "\n",
      "DTree_Voter \n",
      "               precision    recall  f1-score   support\n",
      "\n",
      "           0       1.00      1.00      1.00         4\n",
      "           1       1.00      1.00      1.00        11\n",
      "           2       1.00      1.00      1.00         8\n",
      "\n",
      "    accuracy                           1.00        23\n",
      "   macro avg       1.00      1.00      1.00        23\n",
      "weighted avg       1.00      1.00      1.00        23\n",
      "\n",
      "\n",
      "DTree_BaseLine\n",
      "               precision    recall  f1-score   support\n",
      "\n",
      "           0       1.00      1.00      1.00         4\n",
      "           1       1.00      1.00      1.00        11\n",
      "           2       1.00      1.00      1.00         8\n",
      "\n",
      "    accuracy                           1.00        23\n",
      "   macro avg       1.00      1.00      1.00        23\n",
      "weighted avg       1.00      1.00      1.00        23\n",
      "\n"
     ]
    }
   ],
   "source": [
    "y_Pred = CLF.predict( X_Test )\n",
    "Report = classification_report( y_Test, y_Pred )\n",
    "print( '\\n'+CLF_Name,  '\\n', Report )\n",
    "\n",
    "y_Pred = DTree_BaseLine.predict( X_Test )\n",
    "Report = classification_report( y_Test, y_Pred )\n",
    "print( '\\nDTree_BaseLine\\n', Report )"
   ]
  },
  {
   "cell_type": "markdown",
   "metadata": {},
   "source": [
    "##### \n",
    "<span style=\"font-family:Arial; font-weight:Bold; font-size:1.5em; color:deeppink;\"> Report:\n",
    " - Compared to BaseLine:\n",
    " \n",
    "   - **precision** of class 0 **improved +11%**\n",
    "   - **precision** of class 1 **improved +6%**\n",
    "    \n",
    "   - **recall** of class 0 **improved -4%**\n",
    "   - **recall** of class 1 **improved +25%**\n",
    "   \n",
    "   - **accuracy improved +6%**\n",
    "**  **\n",
    " - Justification: As the Optimized Estimator is the fruit of **Cross-Validation** and **Adaptive-Boosting**, it is more **Reliable** than the BaseLine."
   ]
  },
  {
   "cell_type": "markdown",
   "metadata": {},
   "source": [
    "** **"
   ]
  },
  {
   "cell_type": "markdown",
   "metadata": {},
   "source": [
    "#####   \n",
    "<span style=\"font-family:Arial; font-weight:Bold; font-size:1.8em; color:#00b3e5;\"> Saving Estimators To Disk"
   ]
  },
  {
   "cell_type": "code",
   "execution_count": 84,
   "metadata": {},
   "outputs": [],
   "source": [
    "ESTIMATORS       = [  DTree_BaseLine ,  DTree ,  DTree_GrBoosted ,  DTree_AdaBoosted ,  DTree_Stacker ,  DTree_Voter  ]\n",
    "ESTIMATORS_Names = [ 'DTree_BaseLine', 'DTree', 'DTree_GrBoosted', 'DTree_AdaBoosted', 'DTree_Stacker', 'DTree_Voter' ]\n",
    "\n",
    "for i in range( len(ESTIMATORS) ):\n",
    "    Estimator        = ESTIMATORS[ i ]\n",
    "    Destination_File = ESTIMATORS_Names[ i ]+'.sav'\n",
    "    pickle.dump( Estimator, open(Destination_File,'wb') )"
   ]
  },
  {
   "cell_type": "markdown",
   "metadata": {},
   "source": [
    "#####   \n",
    "<span style=\"font-family:Arial; font-weight:Bold; font-size:1.8em; color:#00b3e5;\"> Loading Estimators From Disk"
   ]
  },
  {
   "cell_type": "code",
   "execution_count": 85,
   "metadata": {},
   "outputs": [],
   "source": [
    "DTree_BaseLine   = pickle.load( open( 'DTree_BaseLine.sav'  ,'rb') )\n",
    "DTree            = pickle.load( open( 'DTree.sav'           ,'rb') ) \n",
    "DTree_GrBoosted  = pickle.load( open( 'DTree_GrBoosted.sav' ,'rb') )\n",
    "DTree_AdaBoosted = pickle.load( open( 'DTree_AdaBoosted.sav','rb') )\n",
    "DTree_Stacker    = pickle.load( open( 'DTree_Stacker.sav'   ,'rb') )\n",
    "DTree_Voter      = pickle.load( open( 'DTree_Voter.sav'     ,'rb') )"
   ]
  },
  {
   "cell_type": "markdown",
   "metadata": {},
   "source": [
    "** **"
   ]
  },
  {
   "cell_type": "markdown",
   "metadata": {},
   "source": [
    "#####   \n",
    "<span style=\"font-family:Arial; font-weight:Bold; font-size:1.8em; color:#00b3e5;\"> Making The Final Estimator"
   ]
  },
  {
   "cell_type": "markdown",
   "metadata": {},
   "source": [
    "<span style=\"font-family:Arial; font-weight:Bold; font-size:1.5em; color:#00b3e5;\"> Checkig Range of Features"
   ]
  },
  {
   "cell_type": "code",
   "execution_count": 115,
   "metadata": {
    "scrolled": true
   },
   "outputs": [
    {
     "data": {
      "text/html": [
       "<div>\n",
       "<style scoped>\n",
       "    .dataframe tbody tr th:only-of-type {\n",
       "        vertical-align: middle;\n",
       "    }\n",
       "\n",
       "    .dataframe tbody tr th {\n",
       "        vertical-align: top;\n",
       "    }\n",
       "\n",
       "    .dataframe thead th {\n",
       "        text-align: right;\n",
       "    }\n",
       "</style>\n",
       "<table border=\"1\" class=\"dataframe\">\n",
       "  <thead>\n",
       "    <tr style=\"text-align: right;\">\n",
       "      <th></th>\n",
       "      <th>min</th>\n",
       "      <th>max</th>\n",
       "    </tr>\n",
       "  </thead>\n",
       "  <tbody>\n",
       "    <tr>\n",
       "      <th>Blood_Plasma</th>\n",
       "      <td>44.0</td>\n",
       "      <td>199.0</td>\n",
       "    </tr>\n",
       "    <tr>\n",
       "      <th>Test</th>\n",
       "      <td>14.0</td>\n",
       "      <td>440.0</td>\n",
       "    </tr>\n",
       "    <tr>\n",
       "      <th>Body_Mass_Index</th>\n",
       "      <td>18.2</td>\n",
       "      <td>52.9</td>\n",
       "    </tr>\n",
       "    <tr>\n",
       "      <th>Skin</th>\n",
       "      <td>7.0</td>\n",
       "      <td>56.0</td>\n",
       "    </tr>\n",
       "    <tr>\n",
       "      <th>Age</th>\n",
       "      <td>21.0</td>\n",
       "      <td>68.0</td>\n",
       "    </tr>\n",
       "    <tr>\n",
       "      <th>Pregnancy</th>\n",
       "      <td>0.0</td>\n",
       "      <td>13.0</td>\n",
       "    </tr>\n",
       "    <tr>\n",
       "      <th>Blood_Pressure</th>\n",
       "      <td>38.0</td>\n",
       "      <td>108.0</td>\n",
       "    </tr>\n",
       "  </tbody>\n",
       "</table>\n",
       "</div>"
      ],
      "text/plain": [
       "                  min    max\n",
       "Blood_Plasma     44.0  199.0\n",
       "Test             14.0  440.0\n",
       "Body_Mass_Index  18.2   52.9\n",
       "Skin              7.0   56.0\n",
       "Age              21.0   68.0\n",
       "Pregnancy         0.0   13.0\n",
       "Blood_Pressure   38.0  108.0"
      ]
     },
     "execution_count": 115,
     "metadata": {},
     "output_type": "execute_result"
    }
   ],
   "source": [
    "round( X_Train.describe().T[['min','max']], 3 )"
   ]
  },
  {
   "cell_type": "markdown",
   "metadata": {},
   "source": [
    "<span style=\"font-family:Arial; font-weight:Bold; font-size:1.5em; color:#00b3e5;\"> Choosing A Random Record To Be Predicted"
   ]
  },
  {
   "cell_type": "code",
   "execution_count": 116,
   "metadata": {},
   "outputs": [
    {
     "name": "stdout",
     "output_type": "stream",
     "text": [
      "Blood_Plasma       117.0\n",
      "Test               120.0\n",
      "Body_Mass_Index     33.2\n",
      "Skin                27.0\n",
      "Age                 24.0\n",
      "Pregnancy            4.0\n",
      "Blood_Pressure      64.0\n",
      "Name: 10, dtype: float64\n",
      "\n",
      "Expected_Class =  0\n"
     ]
    }
   ],
   "source": [
    "# choosing a record in the test data set to be predicted\n",
    "record_number = 10\n",
    "\n",
    "print( np.round( X_Test.iloc[ record_number, : ], 1 ) )\n",
    "print( '\\nExpected_Class = ', y_Test[ record_number ] )"
   ]
  },
  {
   "cell_type": "markdown",
   "metadata": {},
   "source": [
    "<span style=\"font-family:Arial; font-weight:Bold; font-size:1.5em; color:#00b3e5;\"> Entering The Record of Interest and Acceptable Range"
   ]
  },
  {
   "cell_type": "code",
   "execution_count": 117,
   "metadata": {
    "scrolled": true
   },
   "outputs": [],
   "source": [
    "# input data                R  a  n  g  e  \n",
    "\n",
    "Blood_Plasma    = 166.0     # 61.0  199.0\n",
    "Test            = 175.0     # 14.0  465.0\n",
    "Body_Mass_Index =  25.8     # 18.2   52.9\n",
    "Skin            =  19.0     #  7.0   56.0\n",
    "Age             =  51.0     # 21.0   68.0\n",
    "Pregnancy       =   5.0     #  0.0   13.0\n",
    "Blood_Pressure  =  72.0     # 38.0  108.0\n",
    "\n",
    "#Class          =   1.0    "
   ]
  },
  {
   "cell_type": "markdown",
   "metadata": {},
   "source": [
    "<span style=\"font-family:Arial; font-weight:Bold; font-size:1.5em; color:#00b3e5;\"> Predicting "
   ]
  },
  {
   "cell_type": "code",
   "execution_count": 120,
   "metadata": {},
   "outputs": [
    {
     "data": {
      "text/html": [
       "<div>\n",
       "<style scoped>\n",
       "    .dataframe tbody tr th:only-of-type {\n",
       "        vertical-align: middle;\n",
       "    }\n",
       "\n",
       "    .dataframe tbody tr th {\n",
       "        vertical-align: top;\n",
       "    }\n",
       "\n",
       "    .dataframe thead th {\n",
       "        text-align: right;\n",
       "    }\n",
       "</style>\n",
       "<table border=\"1\" class=\"dataframe\">\n",
       "  <thead>\n",
       "    <tr style=\"text-align: right;\">\n",
       "      <th></th>\n",
       "      <th>Predicted Class</th>\n",
       "    </tr>\n",
       "  </thead>\n",
       "  <tbody>\n",
       "    <tr>\n",
       "      <th>DTree_BaseLine</th>\n",
       "      <td>1</td>\n",
       "    </tr>\n",
       "    <tr>\n",
       "      <th>DTree</th>\n",
       "      <td>1</td>\n",
       "    </tr>\n",
       "    <tr>\n",
       "      <th>DTree_GrBoosted</th>\n",
       "      <td>1</td>\n",
       "    </tr>\n",
       "    <tr>\n",
       "      <th>DTree_AdaBoosted</th>\n",
       "      <td>1</td>\n",
       "    </tr>\n",
       "    <tr>\n",
       "      <th>DTree_Stacker</th>\n",
       "      <td>1</td>\n",
       "    </tr>\n",
       "    <tr>\n",
       "      <th>DTree_Voter</th>\n",
       "      <td>1</td>\n",
       "    </tr>\n",
       "  </tbody>\n",
       "</table>\n",
       "</div>"
      ],
      "text/plain": [
       "                  Predicted Class\n",
       "DTree_BaseLine                  1\n",
       "DTree                           1\n",
       "DTree_GrBoosted                 1\n",
       "DTree_AdaBoosted                1\n",
       "DTree_Stacker                   1\n",
       "DTree_Voter                     1"
      ]
     },
     "execution_count": 120,
     "metadata": {},
     "output_type": "execute_result"
    }
   ],
   "source": [
    "# x \n",
    "x = X_Train.copy()\n",
    "\n",
    "# s  written in the same order as  X_Train\n",
    "s = [ Test, Blood_Plasma, Age, Skin, Pregnancy, Body_Mass_Index, Blood_Pressure ]\n",
    "\n",
    "# encode_columns\n",
    "encode_columns = [] \n",
    "\n",
    "def predicted_class( s, x, encode_columns ):\n",
    "    s  = pd.DataFrame( [s.copy(),s.copy()], columns=x.columns )\n",
    "    sx = pd.concat( [s,x], axis=0 )\n",
    "    sx_encoded = pd.get_dummies(\n",
    "          sx\n",
    "        , columns = encode_columns\n",
    "        )\n",
    "    sx_encoded = sx_encoded.iloc[[0,1],:] \n",
    "    sx_scaled  = pd.DataFrame( Scaler.transform(sx_encoded), columns=sx_encoded.columns ) \n",
    "    \n",
    "    Estimator_Name, pred = [], [] \n",
    "    for key, value in models.items():\n",
    "        clf = value\n",
    "        Estimation = clf.predict( sx_scaled )[0]\n",
    "        pred.append( Estimation ) \n",
    "        Estimator_Name.append( key )\n",
    "        \n",
    "    df_pred = pd.DataFrame( [pred] ).T\n",
    "    df_pred.columns = ['Predicted Class']\n",
    "    df_pred.index   = Estimator_Name\n",
    "    \n",
    "    return df_pred \n",
    "\n",
    "# Predicting\n",
    "df_pred = predicted_class( s, x, encode_columns )\n",
    "df_pred"
   ]
  },
  {
   "cell_type": "markdown",
   "metadata": {},
   "source": [
    "#####   "
   ]
  },
  {
   "cell_type": "markdown",
   "metadata": {},
   "source": [
    "#####   "
   ]
  }
 ],
 "metadata": {
  "kernelspec": {
   "display_name": "Python 3 (ipykernel)",
   "language": "python",
   "name": "python3"
  },
  "language_info": {
   "codemirror_mode": {
    "name": "ipython",
    "version": 3
   },
   "file_extension": ".py",
   "mimetype": "text/x-python",
   "name": "python",
   "nbconvert_exporter": "python",
   "pygments_lexer": "ipython3",
   "version": "3.10.13"
  }
 },
 "nbformat": 4,
 "nbformat_minor": 4
}
